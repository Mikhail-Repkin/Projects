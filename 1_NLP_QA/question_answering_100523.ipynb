{
 "cells": [
  {
   "cell_type": "markdown",
   "id": "d5dd81be",
   "metadata": {
    "id": "d5dd81be",
    "toc": true
   },
   "source": [
    "<h1>Содержание<span class=\"tocSkip\"></span></h1>\n",
    "<div class=\"toc\"><ul class=\"toc-item\"><li><span><a href=\"#Загрузка,-исследовательский-анализ-(EDA)-и-предобработка-данных\" data-toc-modified-id=\"Загрузка,-исследовательский-анализ-(EDA)-и-предобработка-данных-1\"><span class=\"toc-item-num\">1&nbsp;&nbsp;</span>Загрузка, исследовательский анализ (EDA) и предобработка данных</a></span><ul class=\"toc-item\"><li><span><a href=\"#Импорт-библиотек\" data-toc-modified-id=\"Импорт-библиотек-1.1\"><span class=\"toc-item-num\">1.1&nbsp;&nbsp;</span>Импорт библиотек</a></span></li><li><span><a href=\"#Описание-данных\" data-toc-modified-id=\"Описание-данных-1.2\"><span class=\"toc-item-num\">1.2&nbsp;&nbsp;</span>Описание данных</a></span></li><li><span><a href=\"#Исследовательский-анализ-данных-(EDA)\" data-toc-modified-id=\"Исследовательский-анализ-данных-(EDA)-1.3\"><span class=\"toc-item-num\">1.3&nbsp;&nbsp;</span>Исследовательский анализ данных (EDA)</a></span></li><li><span><a href=\"#Предварительная-обработка-обучающих-данных\" data-toc-modified-id=\"Предварительная-обработка-обучающих-данных-1.4\"><span class=\"toc-item-num\">1.4&nbsp;&nbsp;</span>Предварительная обработка обучающих данных</a></span></li></ul></li><li><span><a href=\"#Fine-tuning-модели\" data-toc-modified-id=\"Fine-tuning-модели-2\"><span class=\"toc-item-num\">2&nbsp;&nbsp;</span>Fine-tuning модели</a></span></li><li><span><a href=\"#Оценка-модели\" data-toc-modified-id=\"Оценка-модели-3\"><span class=\"toc-item-num\">3&nbsp;&nbsp;</span>Оценка модели</a></span></li><li><span><a href=\"#Fine-tuning-модели-на-полных-обучающих-данных\" data-toc-modified-id=\"Fine-tuning-модели-на-полных-обучающих-данных-4\"><span class=\"toc-item-num\">4&nbsp;&nbsp;</span>Fine-tuning модели на полных обучающих данных</a></span></li><li><span><a href=\"#Прогнозирование-и-формирование-результатов\" data-toc-modified-id=\"Прогнозирование-и-формирование-результатов-5\"><span class=\"toc-item-num\">5&nbsp;&nbsp;</span>Прогнозирование и формирование результатов</a></span></li><li><span><a href=\"#Проверка-на-тестовом-датасете\" data-toc-modified-id=\"Проверка-на-тестовом-датасете-6\"><span class=\"toc-item-num\">6&nbsp;&nbsp;</span>Проверка на тестовом датасете</a></span></li><li><span><a href=\"#Вывод-исследования\" data-toc-modified-id=\"Вывод-исследования-7\"><span class=\"toc-item-num\">7&nbsp;&nbsp;</span>Вывод исследования</a></span></li></ul></div>"
   ]
  },
  {
   "cell_type": "markdown",
   "id": "f9392a96",
   "metadata": {
    "id": "f9392a96",
    "lang": "en"
   },
   "source": [
    "# Извлечение текста из документа"
   ]
  },
  {
   "cell_type": "markdown",
   "id": "c1868ad0",
   "metadata": {
    "id": "c1868ad0"
   },
   "source": [
    "В компании X работают с различными документами, такими как: арбитражные иски, госзакупки, исполнительные производства.\n",
    "\n",
    "**Цель** — построить модель, которая поможет отделу госзакупок извлекать нужный кусок текста из документа для того, чтобы сформировать анкету заявки.\n",
    "\n",
    "**Задача исследования** — разработать модель, которая будет способна по паре `текст документа` и `пункт анкеты` извлекать из текста документа нужный фрагмент текста.\n",
    "\n",
    "**Исследование пройдёт в семь этапов:**\n",
    " 1. Загрузка, исследовательский анализ (EDA) и предобработка данных;\n",
    " 2. Fine-tuning модели;\n",
    " 3. Оценка модели;\n",
    " 4. Fine-tuning модели на полных обучающих данных;\n",
    " 5. Прогнозирование и формирование результатов;\n",
    " 6. Проверка на тестовом датасете\n",
    " 7. Вывод исследования.\n",
    " \n",
    "*Примечания:* \n",
    "* Всего в каждом документе есть следующие пункты анкеты, по которым необходимо извлекать кусочки из текста:\n",
    "    - обеспечение исполнения контракта;\n",
    "    - обеспечение гарантийных обязательств.\n",
    "* Для оценки финального решения будет использоваться метрика `Accuracy`: доля наблюдений, в которых извлеченный моделью фрагмент текста полностью соответствует фактически требуемому фрагменту."
   ]
  },
  {
   "cell_type": "markdown",
   "id": "8cfc75a3",
   "metadata": {
    "id": "8cfc75a3"
   },
   "source": [
    "## Загрузка, исследовательский анализ (EDA) и предобработка данных"
   ]
  },
  {
   "cell_type": "markdown",
   "id": "c867a713",
   "metadata": {
    "id": "c867a713"
   },
   "source": [
    "### Импорт библиотек"
   ]
  },
  {
   "cell_type": "code",
   "execution_count": 54,
   "id": "555fa235",
   "metadata": {
    "ExecuteTime": {
     "end_time": "2023-05-10T19:51:48.045156Z",
     "start_time": "2023-05-10T19:51:48.012823Z"
    },
    "colab": {
     "base_uri": "https://localhost:8080/"
    },
    "id": "555fa235",
    "outputId": "b2fbcea6-7563-4564-c80b-51dfd2ee75f5"
   },
   "outputs": [],
   "source": [
    "#!pip install datasets transformers"
   ]
  },
  {
   "cell_type": "code",
   "execution_count": 55,
   "id": "nQHEqckIsrhf",
   "metadata": {
    "ExecuteTime": {
     "end_time": "2023-05-10T19:51:48.054323Z",
     "start_time": "2023-05-10T19:51:48.048249Z"
    },
    "colab": {
     "base_uri": "https://localhost:8080/"
    },
    "id": "nQHEqckIsrhf",
    "outputId": "a42b69d3-5761-4333-cf93-b50d7e7f5613"
   },
   "outputs": [],
   "source": [
    "#pip install --upgrade accelerate"
   ]
  },
  {
   "cell_type": "code",
   "execution_count": 56,
   "id": "6376b0a0",
   "metadata": {
    "ExecuteTime": {
     "end_time": "2023-05-10T19:51:48.070280Z",
     "start_time": "2023-05-10T19:51:48.064296Z"
    },
    "colab": {
     "base_uri": "https://localhost:8080/"
    },
    "id": "6376b0a0",
    "outputId": "4b89f855-3d34-477f-a181-c6a70dcc8b76"
   },
   "outputs": [],
   "source": [
    "#!pip install evaluate"
   ]
  },
  {
   "cell_type": "code",
   "execution_count": 57,
   "id": "894350bf",
   "metadata": {
    "ExecuteTime": {
     "end_time": "2023-05-10T19:51:48.150406Z",
     "start_time": "2023-05-10T19:51:48.114336Z"
    },
    "id": "894350bf"
   },
   "outputs": [],
   "source": [
    "# импорт библиотек\n",
    "import pandas as pd\n",
    "import numpy as np\n",
    "import random\n",
    "import evaluate\n",
    "import matplotlib.pyplot as plt\n",
    "import seaborn as sns\n",
    "from sklearn.model_selection import train_test_split\n",
    "\n",
    "import transformers\n",
    "import collections\n",
    "import torch\n",
    "\n",
    "from datasets import Dataset, concatenate_datasets, load_dataset, DatasetDict, ClassLabel, Sequence, load_metric\n",
    "from IPython.display import display, HTML\n",
    "from transformers import AutoTokenizer, AutoModelForQuestionAnswering, TrainingArguments, Trainer, default_data_collator"
   ]
  },
  {
   "cell_type": "code",
   "execution_count": 58,
   "id": "ebe8e84f",
   "metadata": {
    "ExecuteTime": {
     "end_time": "2023-05-10T19:51:48.182538Z",
     "start_time": "2023-05-10T19:51:48.165388Z"
    },
    "id": "ebe8e84f"
   },
   "outputs": [],
   "source": [
    "# сброс ограничений на количество выводимых рядов\n",
    "pd.set_option('display.max_rows', None)\n",
    " \n",
    "# сброс ограничений на число столбцов\n",
    "pd.set_option('display.max_columns', None)\n",
    " \n",
    "# сброс ограничений на количество символов в записи\n",
    "pd.set_option('display.max_colwidth', None)"
   ]
  },
  {
   "cell_type": "markdown",
   "id": "a2829aee",
   "metadata": {
    "id": "a2829aee"
   },
   "source": [
    "Данные для исследования получаем из файла `train`:"
   ]
  },
  {
   "cell_type": "code",
   "execution_count": 59,
   "id": "d7f47681",
   "metadata": {
    "ExecuteTime": {
     "end_time": "2023-05-10T19:51:49.615092Z",
     "start_time": "2023-05-10T19:51:48.237042Z"
    },
    "colab": {
     "base_uri": "https://localhost:8080/",
     "height": 86,
     "referenced_widgets": [
      "6733f67f18ba4bafb6d917b536ab24ae",
      "967c67caf50443a1bde4add13fe95f80",
      "02b64a42d31c442ebc1d157b5d8cfc7f",
      "a17367315a234bf78bc865ce0a17e39a",
      "ab4ace70166947dbb0ef619a4965cbfb",
      "5064832d809344c490b40d268991cd96",
      "ece2dcbd8c7f4915b1ae1f901bb89f6b",
      "d8b70bf0aaa84f3cb90add8077c28e7e",
      "0ca67a4bcf4f471585a658c5231a01f9",
      "16d2958fb5be4f689232d44572ebe016",
      "61fead7ce3af4ff78bccf7f0886f0b36"
     ]
    },
    "id": "d7f47681",
    "outputId": "e9719697-6343-4bad-8c41-34c1aa7a6652"
   },
   "outputs": [
    {
     "name": "stderr",
     "output_type": "stream",
     "text": [
      "Found cached dataset json (C:/Users/m1kha/.cache/huggingface/datasets/json/default-4d9400708ee3ba2b/0.0.0/fe5dd6ea2639a6df622901539cb550cf8797e5a6b2dd7af1cf934bed8e233e6e)\n"
     ]
    },
    {
     "data": {
      "application/vnd.jupyter.widget-view+json": {
       "model_id": "33cc054e91f24a569bf7e494bc8291a8",
       "version_major": 2,
       "version_minor": 0
      },
      "text/plain": [
       "  0%|          | 0/1 [00:00<?, ?it/s]"
      ]
     },
     "metadata": {},
     "output_type": "display_data"
    }
   ],
   "source": [
    "# чтение файлов с данными\n",
    "datasets = load_dataset(\"json\", data_files=\"train.json\")"
   ]
  },
  {
   "cell_type": "code",
   "execution_count": 60,
   "id": "5a815e09",
   "metadata": {
    "ExecuteTime": {
     "end_time": "2023-05-10T19:51:49.631047Z",
     "start_time": "2023-05-10T19:51:49.618082Z"
    },
    "colab": {
     "base_uri": "https://localhost:8080/"
    },
    "id": "5a815e09",
    "outputId": "aea326cc-1ed7-4d6f-a10a-19450e5e49aa",
    "scrolled": true
   },
   "outputs": [
    {
     "data": {
      "text/plain": [
       "DatasetDict({\n",
       "    train: Dataset({\n",
       "        features: ['id', 'text', 'label', 'extracted_part'],\n",
       "        num_rows: 1799\n",
       "    })\n",
       "})"
      ]
     },
     "execution_count": 60,
     "metadata": {},
     "output_type": "execute_result"
    }
   ],
   "source": [
    "datasets"
   ]
  },
  {
   "cell_type": "markdown",
   "id": "03e9b528",
   "metadata": {
    "id": "03e9b528"
   },
   "source": [
    "### Описание данных"
   ]
  },
  {
   "cell_type": "markdown",
   "id": "98ce83ae",
   "metadata": {
    "id": "98ce83ae"
   },
   "source": [
    "**Данные для обучения в формате json имеют следующие поля:**\n",
    "- `id`: int - id документа\n",
    "-  `text`: str - текст документа, в котором может содержаться фрагмент текста, соответствующий пункту анкеты из поля `label`\n",
    "- `label`: str - название пункта анкеты. Может принимать одно из двух значений: `обеспечение исполнения контракта` или `обеспечение гарантийных обязательств`\n",
    "- `extracted_part`: dict следующего формата:\n",
    "    ```\n",
    "    {\n",
    "        'text': [фрагмент текста из поля `text`, соответствующий пункту анкеты], \n",
    "        'answer_start': [индекс символа начала фрагмента текста в тексте документа],\n",
    "        'answer_end': [индекс символа конца фрагмента текста в тексте документа]\n",
    "    }\n",
    "   ```"
   ]
  },
  {
   "cell_type": "markdown",
   "id": "451882eb",
   "metadata": {
    "id": "451882eb"
   },
   "source": [
    "**Для демонстрации работы модели используются данные из файла `test.json`.**     \n",
    "В нем есть все те же поля, что и в файле `train.json` (кроме целевого поля `extracted_part`)."
   ]
  },
  {
   "cell_type": "code",
   "execution_count": 61,
   "id": "4df23d23",
   "metadata": {
    "ExecuteTime": {
     "end_time": "2023-05-10T19:51:49.646730Z",
     "start_time": "2023-05-10T19:51:49.633043Z"
    },
    "colab": {
     "base_uri": "https://localhost:8080/"
    },
    "id": "4df23d23",
    "outputId": "3d0e1761-c3d0-4bb0-89c7-972d44a3b188",
    "scrolled": false
   },
   "outputs": [
    {
     "data": {
      "text/plain": [
       "{'id': 809436509,\n",
       " 'text': 'Извещение о проведении открытого конкурса в электронной форме для закупки №0328300032822000806 Общая информация Номер извещения 0328300032822000806 Наименование объекта закупки Поставка продуктов питания Способ определения поставщика (подрядчика, исполнителя) Открытый конкурс в бль Порядок внесения денежных средств в качестве обеспечения заявки на участие в закупке, а также условия гарантии Обеспечение заявки на участие в закупке может предоставляться участником закупки в виде денежных средств или независимой гарантии, предусмотренной ст. 45 Федерального закона № 44-ФЗ. Выбор способа обеспечения осуществляется участником закупки самостоятельно. Срок действия независимой гарантии должен составлять не менее месяца с даты окончания срока подачи заявок. Обеспечение заявки на участие в закупке предоставляется в соответствии с ч. 5 ст. 44 Федерального закона № 44-ФЗ. Условия независимой гарантии в соответствии со ст. 45 Федерального закона № 44-ФЗ. Реквизиты счета в соответствии с п.16 ч. 1 ст. 42 Закона № 44-ФЗ \"Номер расчётного счёта\" 00000000000000000000 \"Номер лицевого счёта\" См. прилагаемые документы \"БИК\" 000000000 \"Наименование кредитной организации\" \"Номер корреспондентского счета\" Обеспечение исполнения контракта Требуется обеспечение исполнения контракта Размер обеспечения исполнения контракта 6593.25 Российский рубль Порядок обеспечения исполнения контракта, требования к обеспечению Исполнение контракта, гарантийные обязательства могут обеспечиваться предоставлением независимой гарантии, соответствующей требованиям ст. 45 Федерального закона № 44-ФЗ, или внесением денежных средств на указанный заказчиком счет, на котором в соответствии с законодательством Российской Федерации учитываются операции со средствами, поступающими заказчику. Способ обеспечения исполнения контракта, гарантийных обязательств, срок действия независимой гарантии определяются в соответствии с требованиями Федерального закона № 44-ФЗ участником закупки, с которым заключается контракт, самостоятельно. При этом срок действия независимой гарантии должен превышать предусмотренный контрактом срок исполнения обязательств, которые должны быть обеспечены такой независимой гарантией, не менее чем на один месяц, в том числе в случае его изменения в соответствии со ст. 95 Федерального закона № 44-ФЗ. Порядок предоставления и требования о Информация и документы, подтверждающие соответствие участников закупки дополнительным требованиям: 1) исполненный договор; 2) акт приемки оказанных услуг и (или) поставленных товаров, подтверждающий цену оказанных услуг и (или) поставленных товаров 4',\n",
       " 'label': 'обеспечение исполнения контракта',\n",
       " 'extracted_part': {'answer_end': [1343],\n",
       "  'answer_start': [1279],\n",
       "  'text': ['Размер обеспечения исполнения контракта 6593.25 Российский рубль']}}"
      ]
     },
     "execution_count": 61,
     "metadata": {},
     "output_type": "execute_result"
    }
   ],
   "source": [
    "datasets[\"train\"][0]"
   ]
  },
  {
   "cell_type": "markdown",
   "id": "c6b7f780",
   "metadata": {
    "id": "c6b7f780"
   },
   "source": [
    "Ответы содержат начальную позицию (answer_start), конечную позицию (answer_end) и текст ответа (text), который является подстрокой документа."
   ]
  },
  {
   "cell_type": "markdown",
   "id": "f924993b",
   "metadata": {},
   "source": [
    "### Исследовательский анализ данных (EDA)"
   ]
  },
  {
   "cell_type": "markdown",
   "id": "67796471",
   "metadata": {
    "id": "67796471"
   },
   "source": [
    "Чтобы получить представление о том, как выглядят данные, отобразим несколько примеров, выбранных случайным образом в наборе данных, с помощью следующей функции:"
   ]
  },
  {
   "cell_type": "code",
   "execution_count": 62,
   "id": "1fb9751c",
   "metadata": {
    "ExecuteTime": {
     "end_time": "2023-05-10T19:51:49.662689Z",
     "start_time": "2023-05-10T19:51:49.649723Z"
    },
    "id": "1fb9751c"
   },
   "outputs": [],
   "source": [
    "def show_random_elements(dataset, num_examples=3):\n",
    "    assert num_examples <= len(dataset), \"Невозможно выбрать больше элементов, чем есть в наборе данных!\"\n",
    "    picks = [] #создаем список для наполнения случайными элементами\n",
    "    for _ in range(num_examples):\n",
    "        pick = random.randint(0, len(dataset)-1)\n",
    "        picks.append(pick)\n",
    "    \n",
    "    df = pd.DataFrame(dataset[picks])\n",
    "    display(HTML(df.to_html()))"
   ]
  },
  {
   "cell_type": "code",
   "execution_count": 63,
   "id": "31429c36",
   "metadata": {
    "ExecuteTime": {
     "end_time": "2023-05-10T19:51:49.702704Z",
     "start_time": "2023-05-10T19:51:49.664682Z"
    },
    "colab": {
     "base_uri": "https://localhost:8080/",
     "height": 959
    },
    "id": "31429c36",
    "outputId": "48e2cb5b-1850-4c17-c9ff-101282c3e672",
    "scrolled": false
   },
   "outputs": [
    {
     "data": {
      "text/html": [
       "<table border=\"1\" class=\"dataframe\">\n",
       "  <thead>\n",
       "    <tr style=\"text-align: right;\">\n",
       "      <th></th>\n",
       "      <th>id</th>\n",
       "      <th>text</th>\n",
       "      <th>label</th>\n",
       "      <th>extracted_part</th>\n",
       "    </tr>\n",
       "  </thead>\n",
       "  <tbody>\n",
       "    <tr>\n",
       "      <th>0</th>\n",
       "      <td>103865247</td>\n",
       "      <td>ПРОЕКТ КОНТРАКТА №_____ на поставку товара г. ___________________ «___» _________ 20__ г. Государственное бюджетное учреждение здравоохранения Самарской области ''Отрадненская городская больница'', в лице Кандрахина Александра Анатольевича, действующего на основании Устава, тельств, ранее не обеспеченных предоставленным обеспечением исполнения контракта, поставщик предоставляет обеспечение исполнение контракта с учетом положений части 1.3 статьи 95 Федеральным законом от 05.04.2013 № 44-ФЗ «О контрактной системе в сфере закупок товаров, работ, услуг для обеспечения государственных и муниципальных нужд». 7.14. Исключение банка из перечня, предусмотренного частью 1.2 статьи 45 Закона № 44-ФЗ, региональной гарантийной организации из перечня, предусмотренного частью 1.7 статьи 45 Закона № 44-ФЗ, не прекращает действия выданных гарантом и принятых заказчиками независимых гарантий и не освобождает гаранта от ответственности за неисполнение либо ненадлежащее исполнение условий таких независимых гарантий. 8. ОБЕСПЕЧЕНИЕ ГАРАНТИЙНЫХ ОБЯЗАТЕЛЬСТВ 8.1. Обеспечение гарантийных обязательств предоставляется Поставщиком на любом этапе исполнения Контракта до оформления документа о приемке поставленного Товара (за исключением отдельного этапа исполнения контракта). 8.2. Обеспечение гарантийных обязательств устанавливается в размере 6 159,00 рублей. Гарантийное обязательство представляется на срок не менее 12 месяцев. 8.3. Гарантийные обязательства обеспечиваются предоставлением независимой гарантии, выданной организацией, указанной в части 1 статьи 45 Федерального закона «О контрактной системе в сфере закупок товаров, работ, услуг для обеспечения государственных и муниципальных нужд» и соответствующей требованиям статьи 45 Закона № 44-ФЗ, или внесением денежных средств на указанный Заказчиком счет, на котором в соответствии с законодательством Российской Федерации учитываются операции со средствами, поступающими Заказчику. Способ обеспечения гарантийных обязательств, срок действия независимой гарантии определяются в соответствии с требованиями Закона № 44-ФЗ участником закупки, с которым заключается контракт, самостоятельно. Срок действия независимой гарантии должен превышать предусмотренный Контрактом срок исполнения обязательств, которые должны быть обеспечены такой независимой гарантией, не менее чем на один месяц, в том числе в случае его изменения в соответствии со статьей 95 Закона № 44-ФЗ.  Заказчик: Наименование: Государственное бюджетное учреждение здравоохранения Самарской области ''Отрадненская городская больница'' Место нахождения: Российская Федерация, 446302, Самарская обл, Отрадный г, УЛИЦА ЛЕНИНА, ---, 61/--- Почтовый адрес: Российская Федерация, 446302, Самарская</td>\n",
       "      <td>обеспечение гарантийных обязательств</td>\n",
       "      <td>{'answer_end': [1424], 'answer_start': [1275], 'text': ['Обеспечение гарантийных обязательств устанавливается в размере 6 159,00 рублей. Гарантийное обязательство представляется на срок не менее 12 месяцев.']}</td>\n",
       "    </tr>\n",
       "    <tr>\n",
       "      <th>1</th>\n",
       "      <td>452686280</td>\n",
       "      <td>Приложение 3 Проект Государственный контракт на оказание услуг № __________ г. Минусинск «____» ____________ 2022 г. федеральное казенное учреждение «Тюрьма Главного управления Федеральной службы исполнения наказаний по Красноярскому краю» (сокращенное тв по контракту. 6.14. Вред, причиненный третьим лицам по вине Поставщика при исполнении обязательств по контракту, возмещается за его счет. 7. Обеспечение исполнения Контракта 7.1. Настоящий Контракт заключается после предоставления Исполнителем документа, подтверждающего предоставление обеспечения Контракта Государственному заказчику. 7.2. В целях обеспечения исполнения обязательств Исполнителя по настоящему Контракту Исполнитель предоставляет Государственному заказчику безотзывную независимую гарантию или вносит денежные средства на указанный Государственным заказчиком счет, на котором в соответствии с законодательством РФ учитываются операции со средствами, поступающими Государственному заказчику. Независимая гарантия, предоставляемая в качестве обеспечения исполнения Контракта, гарантийных обязательств, должна соответствовать требованиям статьи 45 Федерального закона от 05.04.2013 № 44-ФЗ. 7.3. Способ обеспечения исполнения Контракта определяется Исполнителем самостоятельно. 7.4. Обеспечение исполнения настоящего Контракта устанавливается в размере 5 (пяти) процентов от цены Контракта и составляет ______ (_____________________) руб. ___коп. Реквизиты счета Государственного заказчика для перечисления обеспечения исполнения контракта: ИНН 2455009064 КПП 245501001 Наименование обслуживающего банка: УФК по Красноярскому краю (ВР 190120000 ФКУ Тюрьма ГУФСИН России по Красноярскому краю), отделение Красноярска г. Красноярск Р/с: 03212643000000011900 К/с: 40102810245370000011 Л/с: 05191246810 КБК: 320 000 000 000 000 000 00 БИК: 010407105 7.5. Срок действия независимой гарантии, предоставленной в качестве обеспечения исполнения Контракта, определяется Исполнителем самостоятельно. При этом срок действия независимой гарантии должен превышать предусмотренный Контрактом срок исполнения обязательств, которые должны быть обеспечены такой независимой гарантией, не менее чем на один месяц, в том числе в случае его изменения в соответствии со статьей 95 настоящего Федерального закона. 7.6. В случае если Исполнителем является государственное или муниципальное казенное учреждение, обеспечение исполнения Контракта к такому Государственный заказчик: Исполнитель:</td>\n",
       "      <td>обеспечение исполнения контракта</td>\n",
       "      <td>{'answer_end': [1399], 'answer_start': [1253], 'text': ['Обеспечение исполнения настоящего Контракта устанавливается в размере 5 (пяти) процентов от цены Контракта и составляет ______ (__________________']}</td>\n",
       "    </tr>\n",
       "    <tr>\n",
       "      <th>2</th>\n",
       "      <td>342333712</td>\n",
       "      <td>Муниципальный контракт №________________ Приобретение жилого помещения в рамках исполнения отдельных государственных полномочий по обеспечению детей-сирот, детей, оставшихся без попечения родителей, лиц из числа детей-сирот и детей, оставшихся без попечения родителей, ных соответствующими документами. 8.СРОК ДЕЙСТВИЯ КОНТРАКТА 8.1. Настоящий Контракт действует с момента его заключения и до полного исполнения сторонами своих обязательств, но не позднее 30.09.2022 года. 9.ОБЕСПЕЧЕНИЕ ОБЯЗАТЕЛЬСТВ ПО КОНТРАКТУ 9.1. Настоящий Контракт заключается после предоставления Исполнителем документа, подтверждающего предоставление обеспечения Контракта Заказчику. 9.2. В целях обеспечения исполнения обязательств Исполнителя по настоящему Контракту Исполнитель предоставляет Заказчику безотзывную независимую гарантию или вносит денежные средства на указанный Заказчиком счет, на котором в соответствии с законодательством РФ учитываются операции со средствами, поступающими Заказчику. Независимая гарантия, предоставляемая в качестве обеспечения исполнения Контракта, гарантийных обязательств, должна соответствовать требованиям статьи 45 Федерального закона от 05.04.2013 № 44-ФЗ. 9.3. Способ обеспечения исполнения Контракта определяется Исполнителем самостоятельно. 9.4. Обеспечение исполнения настоящего Контракта устанавливается в размере 1 (одного) процентов от цены Контракта и составляет____ (__) руб. __ коп. 9.5. Срок действия независимой гарантии, предоставленной в качестве обеспечения исполнения Контракта, определяется Исполнителем самостоятельно. При этом срок действия независимой гарантии должен превышать предусмотренный Контрактом срок исполнения обязательств, которые должны быть обеспечены такой независимой гарантией, не менее чем на один месяц, в том числе в случае его изменения в соответствии со статьей 95 настоящего Федерального закона. 9.6. В случае если Исполнителем является государственное или муниципальное казенное учреждение, обеспечение исполнения Контракта к такому участнику не применяется. 9.7. В ходе исполнения Контракта Исполнитель вправе изменить способ обеспечения исполнения Контракта и (или) предоставить Заказчику взамен ранее предоставленного обеспечения исполнения Контракта новое обеспечение исполнения Контракта, размер которого может быть уменьшен в порядке и случаях, которые предусмотрены частями 7.2 и 7.3 статьи 96 Федерального закона от 05.04.2013 № 44-ФЗ. 9.8. Расторжение Контракта допускается по соглашению сторон, по решению суда, в случае одностороннего отказа стороны Контракта от исполнения Контракта в соответствии с гражданским законодательством.</td>\n",
       "      <td>обеспечение исполнения контракта</td>\n",
       "      <td>{'answer_end': [1412], 'answer_start': [1269], 'text': ['Обеспечение исполнения настоящего Контракта устанавливается в размере 1 (одного) процентов от цены Контракта и составляет____ (__) руб. __ коп.']}</td>\n",
       "    </tr>\n",
       "  </tbody>\n",
       "</table>"
      ],
      "text/plain": [
       "<IPython.core.display.HTML object>"
      ]
     },
     "metadata": {},
     "output_type": "display_data"
    }
   ],
   "source": [
    "show_random_elements(datasets[\"train\"])"
   ]
  },
  {
   "cell_type": "markdown",
   "id": "472b6e1d",
   "metadata": {
    "id": "472b6e1d"
   },
   "source": [
    "Оценим долю поисковых запросов каждого вида в исходном датасете:"
   ]
  },
  {
   "cell_type": "code",
   "execution_count": 64,
   "id": "0d0a7aea",
   "metadata": {
    "ExecuteTime": {
     "end_time": "2023-05-10T19:51:49.718731Z",
     "start_time": "2023-05-10T19:51:49.704731Z"
    },
    "colab": {
     "base_uri": "https://localhost:8080/"
    },
    "id": "0d0a7aea",
    "outputId": "0b3dae38-b652-4015-b801-46bd6577a42b"
   },
   "outputs": [
    {
     "data": {
      "text/plain": [
       "0.5491939966648138"
      ]
     },
     "execution_count": 64,
     "metadata": {},
     "output_type": "execute_result"
    }
   ],
   "source": [
    "datasets[\"train\"][\"label\"].count('обеспечение исполнения контракта')/len(datasets[\"train\"])"
   ]
  },
  {
   "cell_type": "code",
   "execution_count": 65,
   "id": "9c116ba6",
   "metadata": {
    "ExecuteTime": {
     "end_time": "2023-05-10T19:51:49.733903Z",
     "start_time": "2023-05-10T19:51:49.721726Z"
    },
    "colab": {
     "base_uri": "https://localhost:8080/"
    },
    "id": "9c116ba6",
    "outputId": "82b1b019-c397-48fb-b644-07ff3f659da7"
   },
   "outputs": [
    {
     "data": {
      "text/plain": [
       "0.4508060033351862"
      ]
     },
     "execution_count": 65,
     "metadata": {},
     "output_type": "execute_result"
    }
   ],
   "source": [
    "datasets[\"train\"][\"label\"].count('обеспечение гарантийных обязательств')/len(datasets[\"train\"])"
   ]
  },
  {
   "cell_type": "markdown",
   "id": "1ca83a4d",
   "metadata": {
    "id": "1ca83a4d"
   },
   "source": [
    "Значения поисковых запросов (название пункта анкеты) представлены в наборе данных достаточно равномерно."
   ]
  },
  {
   "cell_type": "markdown",
   "id": "9fcf9fd9",
   "metadata": {
    "id": "9fcf9fd9"
   },
   "source": [
    "Найдем максимальную длину ответа в символах и в словах:"
   ]
  },
  {
   "cell_type": "code",
   "execution_count": 66,
   "id": "c2f9ff14",
   "metadata": {
    "ExecuteTime": {
     "end_time": "2023-05-10T19:51:49.807111Z",
     "start_time": "2023-05-10T19:51:49.735899Z"
    },
    "colab": {
     "base_uri": "https://localhost:8080/"
    },
    "id": "c2f9ff14",
    "outputId": "9e19c394-7e2c-4f30-f4ce-0cfb7b936413",
    "scrolled": true
   },
   "outputs": [
    {
     "name": "stdout",
     "output_type": "stream",
     "text": [
      "['Требования к независимым гарантиям, предоставляемые в качестве обеспечения заявок, гарантийных обязательств и исполнения Договора Обеспечение исполнения Договора требуется в размере 10% (Десять) процентов от цены, по которой в соответствии с Федеральным законом № 44-ФЗ заключается Договор. В случае ес']\n",
      "Максимальная длина ответа (символов): 302\n"
     ]
    }
   ],
   "source": [
    "string  = ['']\n",
    "string_length = []\n",
    "for i,  context in enumerate(datasets['train']['extracted_part']):\n",
    "    string_length.append(len(context['text'][0]))\n",
    "    if len(context['text'][0]) >  len(string[0]):\n",
    "        string[0] = context['text'][0]\n",
    "print(string)\n",
    "print(\"Максимальная длина ответа (символов):\", len(string[0]))"
   ]
  },
  {
   "cell_type": "code",
   "execution_count": 67,
   "id": "f070015d",
   "metadata": {
    "ExecuteTime": {
     "end_time": "2023-05-10T19:51:50.322927Z",
     "start_time": "2023-05-10T19:51:49.810104Z"
    }
   },
   "outputs": [
    {
     "data": {
      "image/png": "[encoded data removed]",
      "text/plain": [
       "<Figure size 490x350 with 1 Axes>"
      ]
     },
     "metadata": {},
     "output_type": "display_data"
    }
   ],
   "source": [
    "# распределение длины ответов в символах\n",
    "sns.displot(string_length, height=3.5, aspect=1.4);"
   ]
  },
  {
   "cell_type": "code",
   "execution_count": 68,
   "id": "1e45a107",
   "metadata": {
    "ExecuteTime": {
     "end_time": "2023-05-10T19:51:50.467801Z",
     "start_time": "2023-05-10T19:51:50.337920Z"
    },
    "colab": {
     "base_uri": "https://localhost:8080/"
    },
    "id": "1e45a107",
    "outputId": "e8bc1567-30bb-464c-8675-d7985d211720"
   },
   "outputs": [
    {
     "name": "stdout",
     "output_type": "stream",
     "text": [
      "['Подрядчик', 'в', 'срок', 'до', '10', '(десяти)', 'рабочих', 'дней', 'предоставляет', 'Заказчику', 'обеспечение', 'гарантийных', 'обязательств', 'в', 'соответствии', 'с', 'частью', '2.2', 'статьи', '96', 'Закона', 'о', 'контрактной', 'системе', 'в', 'размере', '1', 'процент', 'начальной', '(максимальной)', 'цены', 'контракта/цены', 'контракта,', 'что', 'составляет', '62', '577', 'рублей', '00', 'копеек.']\n",
      "Максимальная длина ответа (слов): 40\n"
     ]
    }
   ],
   "source": [
    "words  = ''\n",
    "words_length = []\n",
    "for i,  context in enumerate(datasets['train']['extracted_part']):\n",
    "    words_length.append(len(context['text'][0].split(' ')))\n",
    "    if len(context['text'][0].split(' ')) >  len(words):\n",
    "        words = context['text'][0].split(' ')\n",
    "print(words)\n",
    "print(\"Максимальная длина ответа (слов):\", len(words))"
   ]
  },
  {
   "cell_type": "code",
   "execution_count": 69,
   "id": "be2d240e",
   "metadata": {
    "ExecuteTime": {
     "end_time": "2023-05-10T19:51:50.861138Z",
     "start_time": "2023-05-10T19:51:50.472469Z"
    }
   },
   "outputs": [
    {
     "data": {
      "image/png": "[encoded data removed]",
      "text/plain": [
       "<Figure size 490x350 with 1 Axes>"
      ]
     },
     "metadata": {},
     "output_type": "display_data"
    }
   ],
   "source": [
    "# распределение длины ответов в словах\n",
    "sns.displot(words_length, height=3.5, aspect=1.4);"
   ]
  },
  {
   "cell_type": "markdown",
   "id": "ee14d122",
   "metadata": {
    "id": "ee14d122"
   },
   "source": [
    "### Предварительная обработка обучающих данных"
   ]
  },
  {
   "cell_type": "code",
   "execution_count": 70,
   "id": "9cfd8d55",
   "metadata": {
    "ExecuteTime": {
     "end_time": "2023-05-10T19:51:50.876710Z",
     "start_time": "2023-05-10T19:51:50.863639Z"
    },
    "id": "9cfd8d55"
   },
   "outputs": [],
   "source": [
    "# установка параметров\n",
    "model_checkpoint = \"DeepPavlov/rubert-base-cased\"\n",
    "batch_size = 20 # размер батча\n",
    "max_length = 384 # максимальная длина поддокумента (вопрос и документ)\n",
    "doc_stride = 128 # допустимое перекрытие (overlap) между двумя частями документа при его разделении"
   ]
  },
  {
   "cell_type": "markdown",
   "id": "59e9d969",
   "metadata": {
    "id": "59e9d969"
   },
   "source": [
    "Загрузим токенизатор:"
   ]
  },
  {
   "cell_type": "code",
   "execution_count": 71,
   "id": "2c5d0647",
   "metadata": {
    "ExecuteTime": {
     "end_time": "2023-05-10T19:51:52.190699Z",
     "start_time": "2023-05-10T19:51:50.878706Z"
    },
    "id": "2c5d0647"
   },
   "outputs": [],
   "source": [
    "tokenizer = AutoTokenizer.from_pretrained(model_checkpoint)\n",
    "\n",
    "# проверочное утверждение, что наш токенизатор является быстрым токенизатором из библиотеки HuggingFace Tokenizers.\n",
    "assert isinstance(tokenizer, transformers.PreTrainedTokenizerFast)"
   ]
  },
  {
   "cell_type": "code",
   "execution_count": 72,
   "id": "562a1fd7",
   "metadata": {
    "ExecuteTime": {
     "end_time": "2023-05-10T19:51:52.206406Z",
     "start_time": "2023-05-10T19:51:52.195946Z"
    },
    "id": "562a1fd7"
   },
   "outputs": [],
   "source": [
    "pad_on_right = tokenizer.padding_side == \"right\" # по умолчанию паддинг справа"
   ]
  },
  {
   "cell_type": "markdown",
   "id": "c94fd8f9",
   "metadata": {
    "id": "c94fd8f9"
   },
   "source": [
    "Составим список id документов которые содержат ответ на поисковый запрос:"
   ]
  },
  {
   "cell_type": "code",
   "execution_count": 73,
   "id": "ba81ac23",
   "metadata": {
    "ExecuteTime": {
     "end_time": "2023-05-10T19:51:54.430510Z",
     "start_time": "2023-05-10T19:51:52.210395Z"
    },
    "colab": {
     "base_uri": "https://localhost:8080/"
    },
    "id": "ba81ac23",
    "outputId": "b208075a-d726-46e0-80f1-52942ee6e0e3"
   },
   "outputs": [
    {
     "name": "stdout",
     "output_type": "stream",
     "text": [
      "1492\n"
     ]
    }
   ],
   "source": [
    "not_missing_values = []\n",
    "for i,  context in enumerate(datasets['train']['extracted_part']):\n",
    "    if context['text'] != ['']:\n",
    "        not_missing_values.append(datasets['train']['id'][i])\n",
    "print(len(not_missing_values))"
   ]
  },
  {
   "cell_type": "code",
   "execution_count": 74,
   "id": "ab7e8335",
   "metadata": {
    "ExecuteTime": {
     "end_time": "2023-05-10T19:51:54.770381Z",
     "start_time": "2023-05-10T19:51:54.432619Z"
    },
    "colab": {
     "base_uri": "https://localhost:8080/"
    },
    "id": "ab7e8335",
    "outputId": "fd385427-81bd-4fc0-e055-9a8156e2421a"
   },
   "outputs": [
    {
     "data": {
      "application/vnd.jupyter.widget-view+json": {
       "model_id": "",
       "version_major": 2,
       "version_minor": 0
      },
      "text/plain": [
       "Filter:   0%|          | 0/1799 [00:00<?, ? examples/s]"
      ]
     },
     "metadata": {},
     "output_type": "display_data"
    }
   ],
   "source": [
    "# фильтруем датасет — избавляемся от пустых ответов\n",
    "datasets = datasets.filter(lambda x: x['id'] in not_missing_values)"
   ]
  },
  {
   "cell_type": "code",
   "execution_count": 75,
   "id": "b0b65a40",
   "metadata": {
    "ExecuteTime": {
     "end_time": "2023-05-10T19:51:54.786300Z",
     "start_time": "2023-05-10T19:51:54.773375Z"
    },
    "colab": {
     "base_uri": "https://localhost:8080/"
    },
    "id": "b0b65a40",
    "outputId": "dcd70950-be5c-4bcc-bd9c-541ee1109ba9"
   },
   "outputs": [
    {
     "data": {
      "text/plain": [
       "DatasetDict({\n",
       "    train: Dataset({\n",
       "        features: ['id', 'text', 'label', 'extracted_part'],\n",
       "        num_rows: 1492\n",
       "    })\n",
       "})"
      ]
     },
     "execution_count": 75,
     "metadata": {},
     "output_type": "execute_result"
    }
   ],
   "source": [
    "datasets"
   ]
  },
  {
   "cell_type": "markdown",
   "id": "77b0d1a8",
   "metadata": {
    "id": "77b0d1a8"
   },
   "source": [
    "В датасете осталось 1492 строки, мы удалили 17% данных не содержащих ответ на поисковый запрос и бесполезных для дообучения модели."
   ]
  },
  {
   "cell_type": "markdown",
   "id": "d60807b3",
   "metadata": {
    "id": "d60807b3"
   },
   "source": [
    "Создадим функцию, которая поможет нам стратифицировать выборку:"
   ]
  },
  {
   "cell_type": "code",
   "execution_count": 76,
   "id": "3ffe629d",
   "metadata": {
    "ExecuteTime": {
     "end_time": "2023-05-10T19:51:54.801796Z",
     "start_time": "2023-05-10T19:51:54.789292Z"
    },
    "id": "3ffe629d"
   },
   "outputs": [],
   "source": [
    "def stratification(dataset):\n",
    "    stratified_list = []\n",
    "    for context in dataset:\n",
    "        if context['label'] == 'обеспечение гарантийных обязательств':\n",
    "            stratified_list.append(1)\n",
    "        else:\n",
    "            stratified_list.append(0)\n",
    "\n",
    "    stratified_series = pd.Series(stratified_list)\n",
    "    \n",
    "    train_indices, test_indices = train_test_split(stratified_series, test_size=0.2, stratify=stratified_series,\n",
    "                                                   shuffle=True, random_state=42)\n",
    "    return dataset.select(train_indices.index), dataset.select(test_indices.index)"
   ]
  },
  {
   "cell_type": "markdown",
   "id": "011dac53",
   "metadata": {
    "id": "011dac53"
   },
   "source": [
    "Cформируем обучающую и валидационную выборки в соотношении 80/20:"
   ]
  },
  {
   "cell_type": "code",
   "execution_count": 77,
   "id": "b3ee9401",
   "metadata": {
    "ExecuteTime": {
     "end_time": "2023-05-10T19:51:55.156579Z",
     "start_time": "2023-05-10T19:51:54.805185Z"
    },
    "colab": {
     "base_uri": "https://localhost:8080/"
    },
    "id": "b3ee9401",
    "outputId": "571f52f4-c547-4354-c7cd-d7db01f1f6a2"
   },
   "outputs": [
    {
     "data": {
      "text/plain": [
       "DatasetDict({\n",
       "    train: Dataset({\n",
       "        features: ['id', 'text', 'label', 'extracted_part'],\n",
       "        num_rows: 1193\n",
       "    })\n",
       "    valid: Dataset({\n",
       "        features: ['id', 'text', 'label', 'extracted_part'],\n",
       "        num_rows: 299\n",
       "    })\n",
       "})"
      ]
     },
     "execution_count": 77,
     "metadata": {},
     "output_type": "execute_result"
    }
   ],
   "source": [
    "train, valid = stratification(datasets[\"train\"])\n",
    "datasets_train_valid = DatasetDict({\n",
    "    \"train\": train,\n",
    "    \"valid\": valid\n",
    "})\n",
    "datasets_train_valid"
   ]
  },
  {
   "cell_type": "markdown",
   "id": "143b8256",
   "metadata": {
    "id": "143b8256"
   },
   "source": [
    "Следующая функция обработает обучающий датасет. В случае ненайденных ответов (ответ находится в другом поддокументе, ответа нет в документе) мы установим индекс `[CLS]` для начальной и для конечной позиции."
   ]
  },
  {
   "cell_type": "code",
   "execution_count": 78,
   "id": "3aac667a",
   "metadata": {
    "ExecuteTime": {
     "end_time": "2023-05-10T19:51:55.180274Z",
     "start_time": "2023-05-10T19:51:55.158575Z"
    },
    "id": "3aac667a"
   },
   "outputs": [],
   "source": [
    "def prepare_features(examples):\n",
    "    # Избавимся от пробелов, если они есть в запросах\n",
    "    examples[\"label\"] = [q.lstrip() for q in examples[\"label\"]]\n",
    "\n",
    "    # Токенизируем примеры с помощью усечения (truncation) и заполнения (padding),\n",
    "    # оставим перекрытие (overflows) с помощью шага (stride).\n",
    "    # Это приведет разделению длинного документа на нескольких поддокументов,\n",
    "    # каждый из которых содержит текст, частично перекрывающий текст предыдущего поддокумента.\n",
    "    tokenized_examples = tokenizer(\n",
    "        examples[\"label\" if pad_on_right else \"text\"], # учитываем возможность смены порядка вопроса и документа\n",
    "        examples[\"text\" if pad_on_right else \"label\"],\n",
    "        truncation=\"only_second\" if pad_on_right else \"only_first\", #усечение по \"text\", но не \"label\" \n",
    "        max_length=max_length, # максимальная длина признака\n",
    "        stride=doc_stride, # шаг перекрытия\n",
    "        return_overflowing_tokens=True, # разделение длинных текстов на отдельные поддокументы\n",
    "        return_offsets_mapping=True, # возвращаем нач. и конечную позиции для каждого токена\n",
    "        padding=\"max_length\", # заполнение special padding token коротких признаков до максимальной длины\n",
    "    )\n",
    "\n",
    "    # Так как один длинный документ может дать нам несколько поддокументов, нам нужна карта поддокументов сопоставленных\n",
    "    # соответствующему документу. overflow_to_sample_mapping указывает, какая часть токенизированного текста\n",
    "    # относится к какому документу.\n",
    "    sample_mapping = tokenized_examples.pop(\"overflow_to_sample_mapping\")\n",
    "\n",
    "    # offset_mapping даст нам карту положений токенов в исходном документе. Это поможет вычислить start_positions \n",
    "    # и end_positions.\n",
    "    offset_mapping = tokenized_examples.pop(\"offset_mapping\")\n",
    "\n",
    "    # Списки для размеченных примеров\n",
    "    tokenized_examples[\"start_positions\"] = []\n",
    "    tokenized_examples[\"end_positions\"] = []\n",
    "\n",
    "    for i, offsets in enumerate(offset_mapping): # посчитаем кол-во итераций с помощью enumerate (i - счетчик)\n",
    "        # Мы будем помечать невозможные ответы индексом токена CLS.\n",
    "        input_ids = tokenized_examples[\"input_ids\"][i]\n",
    "        cls_index = input_ids.index(tokenizer.cls_token_id)\n",
    "\n",
    "        # Последовательность положений токенов (какие именно соответствуют вопросу, а какие — документу).\n",
    "        sequence_ids = tokenized_examples.sequence_ids(i)\n",
    "        \n",
    "        # Индекс поддокумента, содержащего фрагмент текста.\n",
    "        sample_index = sample_mapping[i]\n",
    "        answers = examples[\"extracted_part\"][sample_index]\n",
    "        # Если ответов нет, установить cls_index в качестве ответа.\n",
    "        if len(answers[\"answer_start\"]) == 0:\n",
    "            tokenized_examples[\"start_positions\"].append(cls_index)\n",
    "            tokenized_examples[\"end_positions\"].append(cls_index)\n",
    "        else:\n",
    "            # Индекс начала/конца символа ответа в тексте.\n",
    "            start_char = answers[\"answer_start\"][0]\n",
    "            end_char = answers[\"answer_end\"][0]\n",
    "\n",
    "            # Индекс начального токена текущего поддокумента в тексте.\n",
    "            token_start_index = 0\n",
    "            while sequence_ids[token_start_index] != (1 if pad_on_right else 0):\n",
    "                token_start_index += 1\n",
    "\n",
    "            # Индекс конечного токена текущего поддокумента.\n",
    "            token_end_index = len(input_ids) - 1\n",
    "            while sequence_ids[token_end_index] != (1 if pad_on_right else 0):\n",
    "                token_end_index -= 1\n",
    "\n",
    "            # Определить, выходит ли ответ за диапазон (в этом случае этот признак помечается индексом CLS).\n",
    "            if not (offsets[token_start_index][0] <= start_char and offsets[token_end_index][1] >= end_char):\n",
    "                tokenized_examples[\"start_positions\"].append(cls_index)\n",
    "                tokenized_examples[\"end_positions\"].append(cls_index)\n",
    "            else:\n",
    "                # В противном случае переместим token_start_index и token_end_index на начало и конец токенов ответа.\n",
    "                while token_start_index < len(offsets) and offsets[token_start_index][0] <= start_char:\n",
    "                    token_start_index += 1\n",
    "                tokenized_examples[\"start_positions\"].append(token_start_index - 1)\n",
    "                while offsets[token_end_index][1] >= end_char:\n",
    "                    token_end_index -= 1\n",
    "                tokenized_examples[\"end_positions\"].append(token_end_index + 1)\n",
    "\n",
    "    return tokenized_examples"
   ]
  },
  {
   "cell_type": "markdown",
   "id": "e43ccd61",
   "metadata": {
    "id": "e43ccd61"
   },
   "source": [
    "Используем метод `map` применив эту функцию ко всем документам в наборе данных:"
   ]
  },
  {
   "cell_type": "code",
   "execution_count": 79,
   "id": "cfe1448e",
   "metadata": {
    "ExecuteTime": {
     "end_time": "2023-05-10T19:51:58.637019Z",
     "start_time": "2023-05-10T19:51:55.183278Z"
    },
    "colab": {
     "base_uri": "https://localhost:8080/"
    },
    "id": "cfe1448e",
    "outputId": "7a3b3c5f-ec31-478c-80d1-7530b0aa3121"
   },
   "outputs": [
    {
     "data": {
      "application/vnd.jupyter.widget-view+json": {
       "model_id": "",
       "version_major": 2,
       "version_minor": 0
      },
      "text/plain": [
       "Map:   0%|          | 0/1193 [00:00<?, ? examples/s]"
      ]
     },
     "metadata": {},
     "output_type": "display_data"
    },
    {
     "data": {
      "application/vnd.jupyter.widget-view+json": {
       "model_id": "",
       "version_major": 2,
       "version_minor": 0
      },
      "text/plain": [
       "Map:   0%|          | 0/299 [00:00<?, ? examples/s]"
      ]
     },
     "metadata": {},
     "output_type": "display_data"
    }
   ],
   "source": [
    "tokenized_datasets_train_valid = datasets_train_valid.map(prepare_features, batched=True, load_from_cache_file=True,\n",
    "                                  remove_columns=datasets_train_valid[\"train\"].column_names)"
   ]
  },
  {
   "cell_type": "code",
   "execution_count": 80,
   "id": "6b91d464",
   "metadata": {
    "ExecuteTime": {
     "end_time": "2023-05-10T19:51:58.646094Z",
     "start_time": "2023-05-10T19:51:58.640010Z"
    },
    "colab": {
     "base_uri": "https://localhost:8080/"
    },
    "id": "6b91d464",
    "outputId": "f4190323-33ba-47df-93fd-93c3d06bfdb5"
   },
   "outputs": [
    {
     "data": {
      "text/plain": [
       "DatasetDict({\n",
       "    train: Dataset({\n",
       "        features: ['input_ids', 'token_type_ids', 'attention_mask', 'start_positions', 'end_positions'],\n",
       "        num_rows: 2445\n",
       "    })\n",
       "    valid: Dataset({\n",
       "        features: ['input_ids', 'token_type_ids', 'attention_mask', 'start_positions', 'end_positions'],\n",
       "        num_rows: 611\n",
       "    })\n",
       "})"
      ]
     },
     "execution_count": 80,
     "metadata": {},
     "output_type": "execute_result"
    }
   ],
   "source": [
    "tokenized_datasets_train_valid"
   ]
  },
  {
   "cell_type": "markdown",
   "id": "86e39a58",
   "metadata": {
    "id": "86e39a58"
   },
   "source": [
    "Проверим работу функции на первом примере из датасета:"
   ]
  },
  {
   "cell_type": "code",
   "execution_count": 81,
   "id": "f9d2281e",
   "metadata": {
    "ExecuteTime": {
     "end_time": "2023-05-10T19:51:58.692771Z",
     "start_time": "2023-05-10T19:51:58.648192Z"
    },
    "colab": {
     "base_uri": "https://localhost:8080/"
    },
    "id": "f9d2281e",
    "outputId": "570510ad-02e9-4e02-a3cd-f6707b79e112"
   },
   "outputs": [
    {
     "data": {
      "text/plain": [
       "{'id': 59215382,\n",
       " 'text': 'Приложение № 5 к извещению об электронном конкурсе УТВЕРЖДАЮ Начальник управления строительства объектов инженерно-транспортного обеспечения, социальных и жилищных объектов СПб ГКУ «ФКСР» ________________ А.А. Авениров «__» ___________ 2022г. оронами дополнительно, Подрядчик обязуется устранить выявленные недостатки (дефекты) работ не позднее 1 (одного) месяца со дня получения требования от Заказчика. 6.9. В случае отказа Подрядчика от устранения выявленных недостатков (дефектов) работ или в случае неустранения недостатков (дефектов) работ в установленный срок Заказчик вправе привлечь третьих лиц с возмещением расходов на устранение недостатков (дефектов) работ за счет Подрядчика. 6.10. Течение гарантийного срока прерывается на все время, на протяжении которого объект не мог эксплуатироваться вследствие недостатков (дефектов) работ, за которые отвечает подрядчик. 6.11. На время выполнения Подрядчиком своих гарантийных обязательств Подрядчик по требованию Заказчика предоставляет ему во временное безвозмездное пользование оборудование, функционально аналогичное неисправному. 6.12. В течение 10 дней с даты издания приказа о создании приемочной комиссии по объекту, но не позднее дня подписания Акта о приемке выполненных работ, Подрядчик обязан предоставить обеспечение исполнения гарантийных обязательств в размере 0,75% от начальной (максимальной) цены контракта, что составляет – 712 019,85 рублей. Исполнение гарантийных обязательств может обеспечиваться предоставлением независимой гарантии или внесением денежных средств на указанный Заказчиком счет, на котором в соответствии с законодательством Российской Федерации учитываются операции со средствами, поступающими Заказчику. Способ обеспечения исполнения гарантийных обязательств, срок действия независимой гарантии определяются в соответствии с требованиями Закона Подрядчиком самостоятельно. Независимая гарантия, должна соответствовать требованиям, установленным пунктом 8.2. контракта. 6.13. Заказчик обеспечивает возврат Подрядчику денежных средств, внесенных в качестве обеспечения исполнения гарантийных обязательств (если такая форма обеспечения гарантийных обязательств применяется Подрядчиком) в срок, не превышающий 30 (тридцать) дней с даты исполнения Подрядчиком гарантийных обязательств. 7. Срок действия контракта, ПОРЯДОК ИЗМЕНЕНИЯ И РАСТОРЖЕНИЯ КОНТРАКТА 7.1. Начальный срок выполнения работ по настоящему контракту – с момен PAGE 28',\n",
       " 'label': 'обеспечение гарантийных обязательств',\n",
       " 'extracted_part': {'answer_end': [1416],\n",
       "  'answer_start': [1243],\n",
       "  'text': ['Подрядчик обязан предоставить обеспечение исполнения гарантийных обязательств в размере 0,75% от начальной (максимальной) цены контракта, что составляет – 712 019,85 рублей.']}}"
      ]
     },
     "execution_count": 81,
     "metadata": {},
     "output_type": "execute_result"
    }
   ],
   "source": [
    "datasets_train_valid[\"train\"][0]"
   ]
  },
  {
   "cell_type": "code",
   "execution_count": 82,
   "id": "0a0655f3",
   "metadata": {
    "ExecuteTime": {
     "end_time": "2023-05-10T19:51:59.335322Z",
     "start_time": "2023-05-10T19:51:58.695779Z"
    },
    "colab": {
     "base_uri": "https://localhost:8080/"
    },
    "id": "0a0655f3",
    "outputId": "82f5de0b-9f07-4f6a-efda-c6d9ec9b8ff8",
    "scrolled": false
   },
   "outputs": [
    {
     "name": "stdout",
     "output_type": "stream",
     "text": [
      "[CLS] обеспечение гарантийных обязательств [SEP] Приложение № 5 к извещению об электронном конкурсе УТВЕРЖДАЮ Начальник управления строительства объектов инженерно - транспортного обеспечения, социальных и жилищных объектов СПб ГКУ « ФКСР » _ _ _ _ _ _ _ _ _ _ _ _ _ _ _ _ А. А. Авениров « _ _ » _ _ _ _ _ _ _ _ _ _ _ 2022г. оронами дополнительно, Подрядчик обязуется устранить выявленные недостатки ( дефекты ) работ не позднее 1 ( одного ) месяца со дня получения требования от Заказчика. 6. 9. В случае отказа Подрядчика от устранения выявленных недостатков ( дефектов ) работ или в случае неустранения недостатков ( дефектов ) работ в установленный срок Заказчик вправе привлечь третьих лиц с возмещением расходов на устранение недостатков ( дефектов ) работ за счет Подрядчика. 6. 10. Течение гарантийного срока прерывается на все время, на протяжении которого объект не мог эксплуатироваться вследствие недостатков ( дефектов ) работ, за которые отвечает подрядчик. 6. 11. На время выполнения Подрядчиком своих гарантийных обязательств Подрядчик по требованию Заказчика предоставляет ему во временное безвозмездное пользование оборудование, функционально аналогичное неисправному. 6. 12. В течение 10 дней с даты издания приказа о создании приемочной комиссии по объекту, но не позднее дня подписания Акта о приемке выполненных работ, Подрядчик обязан предоставить обеспечение исполнения гарантийных обязательств в размере 0, 75 % от начальной ( максимальной ) цены контракта, что составляет – 712 019, 85 рублей. Исполнение гарантийных обязательств может обеспечиваться предоставлением независимой гарантии или внесением денежных средств на указанный Заказчиком счет, на котором в соответствии с законодательством Российской Федерации учитываются операции со средствами, поступающими Заказчику. Способ обеспечения исполнения гарантийных обязательств, срок действия независимой гарантии определяются в соответствии с требованиями Закона Подрядчиком самостоятельно. Независимая гарантия, должна соответствовать требованиям, установленным пунктом 8. 2. контракта. 6. 13. Заказчик обеспечивает возврат [SEP]\n",
      "[CLS] обеспечение гарантийных обязательств [SEP] позднее дня подписания Акта о приемке выполненных работ, Подрядчик обязан предоставить обеспечение исполнения гарантийных обязательств в размере 0, 75 % от начальной ( максимальной ) цены контракта, что составляет – 712 019, 85 рублей. Исполнение гарантийных обязательств может обеспечиваться предоставлением независимой гарантии или внесением денежных средств на указанный Заказчиком счет, на котором в соответствии с законодательством Российской Федерации учитываются операции со средствами, поступающими Заказчику. Способ обеспечения исполнения гарантийных обязательств, срок действия независимой гарантии определяются в соответствии с требованиями Закона Подрядчиком самостоятельно. Независимая гарантия, должна соответствовать требованиям, установленным пунктом 8. 2. контракта. 6. 13. Заказчик обеспечивает возврат Подрядчику денежных средств, внесенных в качестве обеспечения исполнения гарантийных обязательств ( если такая форма обеспечения гарантийных обязательств применяется Подрядчиком ) в срок, не превышающий 30 ( тридцать ) дней с даты исполнения Подрядчиком гарантийных обязательств. 7. Срок действия контракта, ПОРЯДОК ИЗМЕНЕНИЯ И РАСТОРЖЕНИЯ КОНТРАКТА 7. 1. Начальный срок выполнения работ по настоящему контракту – с момен PAGE 28 [SEP] [PAD] [PAD] [PAD] [PAD] [PAD] [PAD] [PAD] [PAD] [PAD] [PAD] [PAD] [PAD] [PAD] [PAD] [PAD] [PAD] [PAD] [PAD] [PAD] [PAD] [PAD] [PAD] [PAD] [PAD] [PAD] [PAD] [PAD] [PAD] [PAD] [PAD] [PAD] [PAD] [PAD] [PAD] [PAD] [PAD] [PAD] [PAD] [PAD] [PAD] [PAD] [PAD] [PAD] [PAD] [PAD] [PAD] [PAD] [PAD] [PAD] [PAD] [PAD] [PAD] [PAD] [PAD] [PAD] [PAD] [PAD] [PAD] [PAD] [PAD] [PAD] [PAD] [PAD] [PAD] [PAD] [PAD] [PAD] [PAD] [PAD] [PAD] [PAD] [PAD] [PAD] [PAD] [PAD] [PAD] [PAD] [PAD] [PAD] [PAD] [PAD] [PAD] [PAD] [PAD] [PAD] [PAD] [PAD] [PAD] [PAD] [PAD] [PAD] [PAD] [PAD] [PAD] [PAD] [PAD] [PAD] [PAD] [PAD] [PAD] [PAD] [PAD] [PAD] [PAD] [PAD] [PAD] [PAD] [PAD] [PAD] [PAD] [PAD] [PAD] [PAD] [PAD] [PAD] [PAD] [PAD] [PAD] [PAD] [PAD] [PAD] [PAD] [PAD] [PAD] [PAD] [PAD] [PAD] [PAD] [PAD] [PAD] [PAD] [PAD] [PAD] [PAD] [PAD] [PAD] [PAD] [PAD] [PAD] [PAD] [PAD] [PAD] [PAD] [PAD] [PAD] [PAD] [PAD] [PAD] [PAD] [PAD] [PAD] [PAD] [PAD] [PAD] [PAD]\n"
     ]
    }
   ],
   "source": [
    "for x in tokenized_datasets_train_valid[\"train\"][\"input_ids\"][:2]:\n",
    "    print(tokenizer.decode(x))"
   ]
  },
  {
   "cell_type": "markdown",
   "id": "f09e6fe7",
   "metadata": {
    "id": "f09e6fe7"
   },
   "source": [
    "Функция разбила длинный документ на 2 поддокумента меньшего размера. Последний поддокумент дозаполнен с помощью паддинга до 384 токенов."
   ]
  },
  {
   "cell_type": "markdown",
   "id": "d7067a26",
   "metadata": {
    "id": "d7067a26"
   },
   "source": [
    "## Fine-tuning модели"
   ]
  },
  {
   "cell_type": "code",
   "execution_count": null,
   "id": "PHyBHg61Nz8y",
   "metadata": {
    "colab": {
     "base_uri": "https://localhost:8080/",
     "height": 373
    },
    "id": "PHyBHg61Nz8y",
    "outputId": "1919b2f2-aa5e-430a-da76-5b2ac7222929"
   },
   "outputs": [
    {
     "name": "stderr",
     "output_type": "stream",
     "text": [
      "Some weights of the model checkpoint at DeepPavlov/rubert-base-cased were not used when initializing BertForQuestionAnswering: ['cls.predictions.transform.LayerNorm.weight', 'cls.seq_relationship.weight', 'cls.predictions.decoder.bias', 'cls.predictions.transform.dense.bias', 'cls.predictions.transform.LayerNorm.bias', 'cls.predictions.transform.dense.weight', 'cls.predictions.decoder.weight', 'cls.seq_relationship.bias', 'cls.predictions.bias']\n",
      "- This IS expected if you are initializing BertForQuestionAnswering from the checkpoint of a model trained on another task or with another architecture (e.g. initializing a BertForSequenceClassification model from a BertForPreTraining model).\n",
      "- This IS NOT expected if you are initializing BertForQuestionAnswering from the checkpoint of a model that you expect to be exactly identical (initializing a BertForSequenceClassification model from a BertForSequenceClassification model).\n",
      "Some weights of BertForQuestionAnswering were not initialized from the model checkpoint at DeepPavlov/rubert-base-cased and are newly initialized: ['qa_outputs.bias', 'qa_outputs.weight']\n",
      "You should probably TRAIN this model on a down-stream task to be able to use it for predictions and inference.\n",
      "/usr/local/lib/python3.10/dist-packages/transformers/optimization.py:407: FutureWarning: This implementation of AdamW is deprecated and will be removed in a future version. Use the PyTorch implementation torch.optim.AdamW instead, or set `no_deprecation_warning=True` to disable this warning\n",
      "  warnings.warn(\n"
     ]
    },
    {
     "data": {
      "text/html": [
       "\n",
       "    <div>\n",
       "      \n",
       "      <progress value='615' max='615' style='width:300px; height:20px; vertical-align: middle;'></progress>\n",
       "      [615/615 15:30, Epoch 5/5]\n",
       "    </div>\n",
       "    <table border=\"1\" class=\"dataframe\">\n",
       "  <thead>\n",
       " <tr style=\"text-align: left;\">\n",
       "      <th>Epoch</th>\n",
       "      <th>Training Loss</th>\n",
       "      <th>Validation Loss</th>\n",
       "    </tr>\n",
       "  </thead>\n",
       "  <tbody>\n",
       "    <tr>\n",
       "      <td>1</td>\n",
       "      <td>No log</td>\n",
       "      <td>0.677983</td>\n",
       "    </tr>\n",
       "    <tr>\n",
       "      <td>2</td>\n",
       "      <td>No log</td>\n",
       "      <td>0.499132</td>\n",
       "    </tr>\n",
       "    <tr>\n",
       "      <td>3</td>\n",
       "      <td>No log</td>\n",
       "      <td>0.450568</td>\n",
       "    </tr>\n",
       "    <tr>\n",
       "      <td>4</td>\n",
       "      <td>No log</td>\n",
       "      <td>0.426904</td>\n",
       "    </tr>\n",
       "    <tr>\n",
       "      <td>5</td>\n",
       "      <td>0.619300</td>\n",
       "      <td>0.439582</td>\n",
       "    </tr>\n",
       "  </tbody>\n",
       "</table><p>"
      ],
      "text/plain": [
       "<IPython.core.display.HTML object>"
      ]
     },
     "metadata": {},
     "output_type": "display_data"
    }
   ],
   "source": [
    "# Загрузим предварительно обученную модель и настроим её.\n",
    "# Поскольку задачей является поиск ответа на запрос в документе мы будем использовать модель\n",
    "# класса AutoModelForQuestionAnswering.\n",
    "\n",
    "model = AutoModelForQuestionAnswering.from_pretrained(model_checkpoint)\n",
    "\n",
    "# Зададим параметры обучения - TrainingArguments:\n",
    "model_name = model_checkpoint.split(\"/\")[-1]\n",
    "args = TrainingArguments(\n",
    "    f\"{model_name}-finetuned\",\n",
    "    evaluation_strategy = \"epoch\",\n",
    "    save_strategy = \"epoch\",\n",
    "    learning_rate=2e-5,\n",
    "    per_device_train_batch_size=batch_size,\n",
    "    per_device_eval_batch_size=batch_size,\n",
    "    num_train_epochs=5,\n",
    "    weight_decay=0,\n",
    "    load_best_model_at_end=True\n",
    ")\n",
    "\n",
    "# Нам потребуется сборщик данных, который будет объединять наши обработанные примеры в батчи:\n",
    "data_collator = default_data_collator\n",
    "\n",
    "# Передадим теперь всё это вместе с нашими наборами данных в класс Trainer:\n",
    "trainer = Trainer(\n",
    "    model,\n",
    "    args,\n",
    "    train_dataset=tokenized_datasets_train_valid[\"train\"],\n",
    "    eval_dataset=tokenized_datasets_train_valid[\"valid\"],\n",
    "    data_collator=data_collator,\n",
    "    tokenizer=tokenizer\n",
    ")\n",
    "\n",
    "# Выполняем обучение\n",
    "trainer.train()\n",
    "\n",
    "# Сохраняем модель и Trainer:\n",
    "trainer.save_model('QA_trainer_save_pretrained')"
   ]
  },
  {
   "cell_type": "markdown",
   "id": "7ba0bef4",
   "metadata": {
    "id": "7ba0bef4"
   },
   "source": [
    "## Оценка модели"
   ]
  },
  {
   "cell_type": "markdown",
   "id": "05197feb",
   "metadata": {
    "id": "05197feb"
   },
   "source": [
    "Возьмем батч из нашего валидационного хранилища данных - результатом модели является объект, который содержит потери, начальный и конечный логиты:"
   ]
  },
  {
   "cell_type": "code",
   "execution_count": null,
   "id": "eb40e5b1",
   "metadata": {
    "ExecuteTime": {
     "end_time": "2023-05-05T18:23:37.374207Z",
     "start_time": "2023-05-05T18:23:17.457314Z"
    },
    "colab": {
     "base_uri": "https://localhost:8080/"
    },
    "id": "eb40e5b1",
    "outputId": "29e03fe2-3955-4098-ad3e-007914580b90"
   },
   "outputs": [
    {
     "data": {
      "text/plain": [
       "odict_keys(['loss', 'start_logits', 'end_logits'])"
      ]
     },
     "execution_count": 29,
     "metadata": {},
     "output_type": "execute_result"
    }
   ],
   "source": [
    "for batch in trainer.get_eval_dataloader():\n",
    "    break\n",
    "batch = {k: v.to(trainer.args.device) for k, v in batch.items()}\n",
    "with torch.no_grad():\n",
    "    output = trainer.model(**batch)\n",
    "output.keys()"
   ]
  },
  {
   "cell_type": "markdown",
   "id": "e504f311",
   "metadata": {
    "id": "e504f311"
   },
   "source": [
    "Посмотрим на логиты:"
   ]
  },
  {
   "cell_type": "code",
   "execution_count": null,
   "id": "9181ba8d",
   "metadata": {
    "ExecuteTime": {
     "end_time": "2023-05-05T18:23:37.430643Z",
     "start_time": "2023-05-05T18:23:37.412137Z"
    },
    "colab": {
     "base_uri": "https://localhost:8080/"
    },
    "id": "9181ba8d",
    "outputId": "4d2d9745-df0b-469a-fafc-bca664e2f15d"
   },
   "outputs": [
    {
     "data": {
      "text/plain": [
       "(torch.Size([20, 384]), torch.Size([20, 384]))"
      ]
     },
     "execution_count": 30,
     "metadata": {},
     "output_type": "execute_result"
    }
   ],
   "source": [
    "output.start_logits.shape, output.end_logits.shape"
   ]
  },
  {
   "cell_type": "code",
   "execution_count": null,
   "id": "c29eec49",
   "metadata": {
    "ExecuteTime": {
     "end_time": "2023-05-05T18:23:37.455716Z",
     "start_time": "2023-05-05T18:23:37.434654Z"
    },
    "colab": {
     "base_uri": "https://localhost:8080/"
    },
    "id": "c29eec49",
    "outputId": "5ade0e27-0c07-408f-cf89-edb2fad2d689"
   },
   "outputs": [
    {
     "data": {
      "text/plain": [
       "(tensor([174,   0, 322,  73, 281,  31, 245,   0, 271,  22, 110,   0,   0, 250,\n",
       "           0, 293,  43, 268,   0, 247], device='cuda:0'),\n",
       " tensor([193,   0, 340, 111, 307,  57, 254,   0, 298,  36,   0,   0,   0, 260,\n",
       "           0, 306,  56, 297,   0, 268], device='cuda:0'))"
      ]
     },
     "execution_count": 31,
     "metadata": {},
     "output_type": "execute_result"
    }
   ],
   "source": [
    "output.start_logits.argmax(dim=-1), output.end_logits.argmax(dim=-1)"
   ]
  },
  {
   "cell_type": "markdown",
   "id": "441f1bf3",
   "metadata": {
    "id": "441f1bf3"
   },
   "source": [
    "Подоготовим валидационные данные — добавим к функции проверки идентификатор примера (для сопоставления поддокументов с документами) и mapping (карту индексов токенов в тексте).\n",
    "Повторно обработаем проверочный набор следующей функцией, немного отличающейся от prepare_features:"
   ]
  },
  {
   "cell_type": "code",
   "execution_count": null,
   "id": "814c8f21",
   "metadata": {
    "ExecuteTime": {
     "end_time": "2023-05-05T18:23:37.482487Z",
     "start_time": "2023-05-05T18:23:37.457735Z"
    },
    "id": "814c8f21"
   },
   "outputs": [],
   "source": [
    "def prepare_valid_features(examples):\n",
    "    # Избавимся от пробелов, если они есть в запросах\n",
    "    examples[\"label\"] = [q.lstrip() for q in examples[\"label\"]]\n",
    "\n",
    "    # Токенизируем примеры с помощью усечения (truncation) и заполнения (padding),\n",
    "    # но оставим перекрытие (overflows) с помощью шага (stride).\n",
    "    # Это приводит к нескольким признакам, когда документ слишком длинный,\n",
    "    # каждый из признаков содержит текст, который перекрывает текст предыдущей функции.\n",
    "    tokenized_examples = tokenizer(\n",
    "        examples[\"label\" if pad_on_right else \"text\"], # учитываем возможность смены порядка вопроса и документа\n",
    "        examples[\"text\" if pad_on_right else \"label\"], \n",
    "        truncation=\"only_second\" if pad_on_right else \"only_first\", #усечение по \"text\", но не \"label\" \n",
    "        max_length=max_length, # максимальная длина признака\n",
    "        stride=doc_stride, # шаг перекрытия\n",
    "        return_overflowing_tokens=True, # разделение длинных текстов на отдельные признаки\n",
    "        return_offsets_mapping=True, # возвращаем нач. и конечную позиции для каждого токена\n",
    "        padding=\"max_length\" # заполнение special padding token коротких признаков до максимальной длины\n",
    "    )\n",
    "\n",
    "    # Так как один длинный документ может дать нам несколько подтекстов, нам нужна карта подтекстов сопоставленных\n",
    "    # соответствующему документу. overflow_to_sample_mapping указывает, какая часть токенизированного текста\n",
    "    # относится к какому документу.\n",
    "    sample_mapping = tokenized_examples.pop(\"overflow_to_sample_mapping\")\n",
    "\n",
    "    # Сохраняем example_id для соответствующего признака\n",
    "    tokenized_examples[\"example_id\"] = []\n",
    "    \n",
    "    for i in range(len(tokenized_examples[\"input_ids\"])):\n",
    "        # Последовательность положений токенов (какие именно соответствуют вопросу, а какие — документу).\n",
    "        sequence_ids = tokenized_examples.sequence_ids(i)\n",
    "        context_index = 1 if pad_on_right else 0\n",
    "\n",
    "        # Один документ может дать несколько поддокументов. Это индекс документа, содержащего этот фрагмент текста.\n",
    "        sample_index = sample_mapping[i]\n",
    "        tokenized_examples[\"example_id\"].append(examples[\"id\"][sample_index])\n",
    "\n",
    "        # Установить значение None для токенов из offset_mapping, которые не являются частью текста.\n",
    "        tokenized_examples[\"offset_mapping\"][i] = [\n",
    "            (o if sequence_ids[k] == context_index else None)\n",
    "            for k, o in enumerate(tokenized_examples[\"offset_mapping\"][i])\n",
    "        ]\n",
    "\n",
    "    return tokenized_examples"
   ]
  },
  {
   "cell_type": "markdown",
   "id": "62ca4606",
   "metadata": {
    "id": "62ca4606"
   },
   "source": [
    "Применим эту функцию к нашему валидационному набору данных:"
   ]
  },
  {
   "cell_type": "code",
   "execution_count": null,
   "id": "3a777ee4",
   "metadata": {
    "ExecuteTime": {
     "end_time": "2023-05-05T18:23:38.681647Z",
     "start_time": "2023-05-05T18:23:37.487857Z"
    },
    "colab": {
     "base_uri": "https://localhost:8080/",
     "height": 17,
     "referenced_widgets": [
      "4a81490685694af18b4a9656e2bf251c",
      "a9dc974bcdb24a0e909039588272a80b",
      "0c15d4bc4a324980ae8d98c942d90ee8",
      "2bb74abb7a7b4cc6a4732b79d8da4d98",
      "996235ae5c3547848cadfd0f746d276e",
      "eddbeedab77142e6a7fdea3eb7004890",
      "473d842ef13444d6804da7ebad208d9f",
      "b002b3bb352e4ce0a05fc038fac3d63a",
      "bb5562484cf548cd9426ac23af8802b3",
      "9737fed8d9384331adf9c727d2ddc489",
      "7d970aba0123416685731dc035e1723e"
     ]
    },
    "id": "3a777ee4",
    "outputId": "38589711-0de3-44b6-d91c-4c879ca9f448"
   },
   "outputs": [
    {
     "data": {
      "application/vnd.jupyter.widget-view+json": {
       "model_id": "4a81490685694af18b4a9656e2bf251c",
       "version_major": 2,
       "version_minor": 0
      },
      "text/plain": [
       "Map:   0%|          | 0/299 [00:00<?, ? examples/s]"
      ]
     },
     "metadata": {},
     "output_type": "display_data"
    }
   ],
   "source": [
    "validation_features = datasets_train_valid[\"valid\"].map(\n",
    "    prepare_valid_features,\n",
    "    batched=True,\n",
    "    remove_columns=datasets_train_valid[\"valid\"].column_names\n",
    ")"
   ]
  },
  {
   "cell_type": "code",
   "execution_count": null,
   "id": "f6479c87",
   "metadata": {
    "ExecuteTime": {
     "end_time": "2023-05-05T18:23:38.696878Z",
     "start_time": "2023-05-05T18:23:38.683715Z"
    },
    "colab": {
     "base_uri": "https://localhost:8080/"
    },
    "id": "f6479c87",
    "outputId": "ad99afc1-3496-4553-c4f6-387d4a793d0f",
    "scrolled": true
   },
   "outputs": [
    {
     "data": {
      "text/plain": [
       "Dataset({\n",
       "    features: ['input_ids', 'token_type_ids', 'attention_mask', 'offset_mapping', 'example_id'],\n",
       "    num_rows: 611\n",
       "})"
      ]
     },
     "execution_count": 34,
     "metadata": {},
     "output_type": "execute_result"
    }
   ],
   "source": [
    "validation_features"
   ]
  },
  {
   "cell_type": "markdown",
   "id": "e70dcf9a",
   "metadata": {
    "id": "e70dcf9a"
   },
   "source": [
    "Получим прогнозы с помощью метода Trainer.predict:"
   ]
  },
  {
   "cell_type": "code",
   "execution_count": null,
   "id": "3f284066",
   "metadata": {
    "ExecuteTime": {
     "end_time": "2023-05-05T18:33:33.917272Z",
     "start_time": "2023-05-05T18:23:38.700878Z"
    },
    "colab": {
     "base_uri": "https://localhost:8080/",
     "height": 17
    },
    "id": "3f284066",
    "outputId": "2f0e72e9-1c4d-41c1-84bf-c903b511c2b5"
   },
   "outputs": [
    {
     "data": {
      "text/html": [],
      "text/plain": [
       "<IPython.core.display.HTML object>"
      ]
     },
     "metadata": {},
     "output_type": "display_data"
    }
   ],
   "source": [
    "raw_predictions = trainer.predict(validation_features)"
   ]
  },
  {
   "cell_type": "code",
   "execution_count": null,
   "id": "9a3fbbf0",
   "metadata": {
    "ExecuteTime": {
     "end_time": "2023-05-05T18:33:33.948762Z",
     "start_time": "2023-05-05T18:33:33.920990Z"
    },
    "colab": {
     "base_uri": "https://localhost:8080/"
    },
    "id": "9a3fbbf0",
    "outputId": "b0e556f4-4a34-467c-ed1f-91028b20f800"
   },
   "outputs": [
    {
     "data": {
      "text/plain": [
       "PredictionOutput(predictions=(array([[-5.158085 , -4.1063795, -5.7692013, ..., -7.052296 , -6.917901 ,\n",
       "        -4.0569634],\n",
       "       [ 6.326401 , -4.085205 , -5.934352 , ..., -7.056402 , -7.0510836,\n",
       "        -7.038477 ],\n",
       "       [-3.7348342, -4.32193  , -5.611331 , ..., -7.1036625, -6.95242  ,\n",
       "        -4.368887 ],\n",
       "       ...,\n",
       "       [ 6.17198  , -4.2812366, -5.88287  , ..., -6.9870386, -6.973735 ,\n",
       "        -6.9653788],\n",
       "       [-5.572543 , -4.6525936, -5.8140306, ..., -7.1919684, -7.0974197,\n",
       "        -4.1843657],\n",
       "       [ 6.243964 , -4.7478867, -5.8705034, ..., -6.8377924, -6.7866173,\n",
       "        -6.8465767]], dtype=float32), array([[-6.054068 , -6.4516077, -6.3165073, ..., -6.7900615, -7.03708  ,\n",
       "        -3.8426719],\n",
       "       [ 7.114487 , -5.9934826, -6.313772 , ..., -6.9599037, -6.9889107,\n",
       "        -7.058507 ],\n",
       "       [-4.6665277, -5.921934 , -6.032112 , ..., -6.222867 , -6.1915417,\n",
       "        -4.253269 ],\n",
       "       ...,\n",
       "       [ 6.740321 , -5.6793237, -6.1452193, ..., -7.1928473, -7.1915646,\n",
       "        -7.195314 ],\n",
       "       [-6.828903 , -6.0820093, -6.2145023, ..., -7.0017586, -6.8381586,\n",
       "        -4.1262712],\n",
       "       [ 6.8566895, -5.631114 , -6.0341625, ..., -7.327204 , -7.359561 ,\n",
       "        -7.3127966]], dtype=float32)), label_ids=None, metrics={'test_runtime': 13.3722, 'test_samples_per_second': 45.692, 'test_steps_per_second': 2.318})"
      ]
     },
     "execution_count": 36,
     "metadata": {},
     "output_type": "execute_result"
    }
   ],
   "source": [
    "raw_predictions"
   ]
  },
  {
   "cell_type": "markdown",
   "id": "44426107",
   "metadata": {
    "id": "44426107"
   },
   "source": [
    "Вернем скрытые столбцы example_id и offset_mapping:"
   ]
  },
  {
   "cell_type": "code",
   "execution_count": null,
   "id": "cead9396",
   "metadata": {
    "ExecuteTime": {
     "end_time": "2023-05-05T18:33:33.974310Z",
     "start_time": "2023-05-05T18:33:33.952241Z"
    },
    "id": "cead9396"
   },
   "outputs": [],
   "source": [
    "validation_features.set_format(type=validation_features.format[\"type\"], columns=list(validation_features.features.keys()))"
   ]
  },
  {
   "cell_type": "markdown",
   "id": "6df3e39b",
   "metadata": {
    "id": "6df3e39b"
   },
   "source": [
    "Для классификации наших ответов мы будем использовать оценку, полученную путем сложения начальных и конечных значений логитов. Ограничим количество ответов гиперпараметром n_best_size — выберем лучшие индексы в начальных и конечных значениях логитов и соберем все ответы, которые они предсказывают. После проверки каждого из них на допустимость, мы отранжируем их и оставим лучший."
   ]
  },
  {
   "cell_type": "markdown",
   "id": "e9dd0d7f",
   "metadata": {
    "id": "e9dd0d7f"
   },
   "source": [
    "Создадим функцию постобработки:"
   ]
  },
  {
   "cell_type": "code",
   "execution_count": null,
   "id": "16d00e79",
   "metadata": {
    "ExecuteTime": {
     "end_time": "2023-05-05T18:33:34.025664Z",
     "start_time": "2023-05-05T18:33:33.978428Z"
    },
    "id": "16d00e79"
   },
   "outputs": [],
   "source": [
    "from tqdm.auto import tqdm\n",
    "\n",
    "def postprocess_qa_predictions(examples, features, raw_predictions, n_best_size = 30, max_answer_length = 60):\n",
    "    all_start_logits, all_end_logits = raw_predictions\n",
    "    \n",
    "    # Создаем карту для соответствующих подтекстов.\n",
    "    example_id_to_index = {k: i for i, k in enumerate(examples[\"id\"])} # id: index\n",
    "    features_per_example = collections.defaultdict(list) # пустой словарь    \n",
    "    # наполняем словарь данными вида: порядковый индекс документа: [номера поддокументов соответствующих документу]\n",
    "    for i, feature in enumerate(features):\n",
    "        features_per_example[example_id_to_index[feature[\"example_id\"]]].append(i)\n",
    "\n",
    "    # Словарь для заполнения:\n",
    "    predictions = collections.OrderedDict()\n",
    "\n",
    "    print(f\"Постобработка {len(examples)} текстов разбитых на {len(features)} подтекстов.\")\n",
    "\n",
    "    # Цикл по всем текстам\n",
    "    for example_index, example in enumerate(tqdm(examples)):\n",
    "        # Индексы подтекстов, связанных с текущим текстом.\n",
    "        feature_indices = features_per_example[example_index]\n",
    "\n",
    "        valid_answers = []\n",
    "        \n",
    "        context = example[\"text\"]\n",
    "        \n",
    "        # Перебор всех подтекстов, связанных с текущим текстом.\n",
    "        for feature_index in feature_indices:\n",
    "            \n",
    "            # Возьмем предсказания модели для этих текстов:\n",
    "            start_logits = all_start_logits[feature_index]\n",
    "            end_logits = all_end_logits[feature_index]\n",
    "            \n",
    "            # mapping позволит сопоставить позиции логитов с диапазоном подтекстов оригинального текста\n",
    "            offset_mapping = features[feature_index][\"offset_mapping\"]\n",
    "\n",
    "            # Соберем индексы лучших начальных/конечных логитов:\n",
    "            start_indexes = np.argsort(start_logits)[-1 : -n_best_size - 1 : -1].tolist()\n",
    "            end_indexes = np.argsort(end_logits)[-1 : -n_best_size - 1 : -1].tolist()\n",
    "            for start_index in start_indexes:\n",
    "                for end_index in end_indexes:\n",
    "                    # Не учитываем нестандартные ответы, индексы которых выходят за пределы границ\n",
    "                    # или ответы, соответствущие частям input_ids которых нет в тексте\n",
    "                    if (\n",
    "                        start_index >= len(offset_mapping)\n",
    "                        or end_index >= len(offset_mapping)\n",
    "                        or offset_mapping[start_index] is None\n",
    "                        or offset_mapping[end_index] is None\n",
    "                    ):\n",
    "                        continue\n",
    "                   # Не учитываем ответы, с нулевой длиной или длиной больше max_answer_length.\n",
    "                    if end_index < start_index or end_index - start_index + 1 > max_answer_length:\n",
    "                        continue\n",
    "\n",
    "                    start_char = offset_mapping[start_index][0]\n",
    "                    end_char = offset_mapping[end_index][1]\n",
    "                    valid_answers.append(\n",
    "                        {\n",
    "                            \"score\": start_logits[start_index] + end_logits[end_index],\n",
    "                            \"answer_end\": [end_char],\n",
    "                            \"answer_start\": [start_char],\n",
    "                            \"text\": context[start_char: end_char]\n",
    "                        }\n",
    "                    )\n",
    "        \n",
    "        if len(valid_answers) > 0:\n",
    "            best_answer = sorted(valid_answers, key=lambda x: x[\"score\"], reverse=True)[0]\n",
    "        else:\n",
    "            # В очень редком пограничном случае, когда у нас нет ни одного ненулевого предсказания, \n",
    "            # мы создаем ложный прогноз, чтобы избежать ошибки.\n",
    "            best_answer = {\"text\": \"\", \"score\": 0.0}\n",
    "        \n",
    "        # Выберем окончательный ответ: лучший или нулевой ответ:\n",
    "        predictions[example[\"id\"]] = {\"answer_end\": best_answer[\"answer_end\"],\n",
    "                                      \"answer_start\": best_answer[\"answer_start\"],\n",
    "                                      \"text\": [best_answer[\"text\"]]} if best_answer[\"score\"] > 0 else {\"answer_end\": [], \"answer_start\": [], \"text\": [\"\"]}\n",
    "        \n",
    "    return predictions"
   ]
  },
  {
   "cell_type": "markdown",
   "id": "84cfe476",
   "metadata": {
    "id": "84cfe476"
   },
   "source": [
    "Применим функцию постобработки к нашим необработанным прогнозам:"
   ]
  },
  {
   "cell_type": "code",
   "execution_count": null,
   "id": "9a43997b",
   "metadata": {
    "ExecuteTime": {
     "end_time": "2023-05-05T18:33:38.721464Z",
     "start_time": "2023-05-05T18:33:34.030806Z"
    },
    "colab": {
     "base_uri": "https://localhost:8080/",
     "height": 66,
     "referenced_widgets": [
      "2f97aa722daf4f2cb7db466a7ff2deab",
      "97c887b4b33a48b89817b5373b71f543",
      "f14a0bc166664e068f15f10ac1a96d0e",
      "cfc09376d1c74c739e585482e00a36a0",
      "61ac33fe37144764835327d3a4ec112b",
      "bc6512cd863b44d0ba4f60a0310b1fc3",
      "53c1e5169cb941939a69aac764c3ec09",
      "2b828f1d75ac40eeafde695563b575a9",
      "c6fcc5def84b45c0be9a1ea7a60029ae",
      "dcddf5a13b494cfcadcec85dd4dd6c9b",
      "77248918990e4a6798534aee0d9b0483"
     ]
    },
    "id": "9a43997b",
    "outputId": "82b5fa44-0ba6-4d0c-d619-b46f0d8aab25"
   },
   "outputs": [
    {
     "name": "stdout",
     "output_type": "stream",
     "text": [
      "Постобработка 299 текстов разбитых на 611 подтекстов.\n"
     ]
    },
    {
     "data": {
      "application/vnd.jupyter.widget-view+json": {
       "model_id": "2f97aa722daf4f2cb7db466a7ff2deab",
       "version_major": 2,
       "version_minor": 0
      },
      "text/plain": [
       "  0%|          | 0/299 [00:00<?, ?it/s]"
      ]
     },
     "metadata": {},
     "output_type": "display_data"
    }
   ],
   "source": [
    "final_predictions = postprocess_qa_predictions(datasets_train_valid[\"valid\"], validation_features, raw_predictions.predictions)"
   ]
  },
  {
   "cell_type": "markdown",
   "id": "2fdb1c14",
   "metadata": {
    "id": "2fdb1c14"
   },
   "source": [
    "Отформатируем полученные прогнозы и референсные данные, чтобы использовать из для расчета метрики:"
   ]
  },
  {
   "cell_type": "code",
   "execution_count": null,
   "id": "cc241efb",
   "metadata": {
    "ExecuteTime": {
     "end_time": "2023-05-05T18:33:38.808260Z",
     "start_time": "2023-05-05T18:33:38.723457Z"
    },
    "id": "cc241efb"
   },
   "outputs": [],
   "source": [
    "# прогнозы\n",
    "formatted_predictions = [{\"id\": k, \n",
    "                          \"answer_end\": v[\"answer_end\"],\n",
    "                          \"answer_start\": v[\"answer_start\"],\n",
    "                          \"text\": v[\"text\"]\n",
    "                         } for k, v in final_predictions.items()]\n",
    "\n",
    "# валидационные значения\n",
    "references = [{\"id\": ex[\"id\"], \n",
    "               \"answer_end\": ex[\"extracted_part\"][\"answer_end\"],\n",
    "               \"answer_start\": ex[\"extracted_part\"][\"answer_start\"],\n",
    "               \"text\": ex[\"extracted_part\"][\"text\"]               \n",
    "               } for i,ex in enumerate(datasets_train_valid[\"valid\"])]"
   ]
  },
  {
   "cell_type": "markdown",
   "id": "c18f0d94",
   "metadata": {
    "id": "c18f0d94"
   },
   "source": [
    "Сравним прогноз с ответом в валидационной выборке:"
   ]
  },
  {
   "cell_type": "code",
   "execution_count": null,
   "id": "ea62278b",
   "metadata": {
    "ExecuteTime": {
     "end_time": "2023-05-05T18:33:38.910994Z",
     "start_time": "2023-05-05T18:33:38.810225Z"
    },
    "colab": {
     "base_uri": "https://localhost:8080/",
     "height": 662
    },
    "id": "ea62278b",
    "outputId": "436e843d-8605-4c8d-b96d-0791e0bfbe26",
    "scrolled": false
   },
   "outputs": [
    {
     "data": {
      "text/html": [
       "\n",
       "  <div id=\"df-4a957294-7417-4f06-8e44-462d7d9ecf8b\">\n",
       "    <div class=\"colab-df-container\">\n",
       "      <div>\n",
       "<style scoped>\n",
       "    .dataframe tbody tr th:only-of-type {\n",
       "        vertical-align: middle;\n",
       "    }\n",
       "\n",
       "    .dataframe tbody tr th {\n",
       "        vertical-align: top;\n",
       "    }\n",
       "\n",
       "    .dataframe thead th {\n",
       "        text-align: right;\n",
       "    }\n",
       "</style>\n",
       "<table border=\"1\" class=\"dataframe\">\n",
       "  <thead>\n",
       "    <tr style=\"text-align: right;\">\n",
       "      <th></th>\n",
       "      <th>text</th>\n",
       "      <th>id</th>\n",
       "      <th>label</th>\n",
       "      <th>extracted_part</th>\n",
       "      <th>answers</th>\n",
       "    </tr>\n",
       "  </thead>\n",
       "  <tbody>\n",
       "    <tr>\n",
       "      <th>0</th>\n",
       "      <td>Раздел 3. или дающие основание предполагать, что произошло или может произойти нарушение каких-либо положений настоящих условий контрагентом, его аффилированными лицами, работниками или посредниками, выражающееся в действиях, квалифицируемых применимым законодательством, как дача или получение взятки, коммерческий подкуп, а также действиях, нарушающих требования применимого законодательства и международных актов о противодействии легализации доходов, полученных преступным путем. 14 Обеспечение исполнения договора 14.1. Обеспечение исполнения Договора может быть предоставлено участником закупки путем перечисления денежных средств на указанный заказчиком счет или предоставления независимой гарантии, выданной банком. 14.2. Должны быть обеспечены обязательства Поставщика по возмещению убытков Заказчика, причиненных неисполнением или ненадлежащим исполнением обязательств по Договору, а также обязанность по выплате неустойки (штрафа, пени) и иных долгов, возникших у Поставщика перед Заказчиком. 14.3. Обеспечение исполнения Договора, предоставляется на сумму 5 % от начальной максимальной цены Договора/максимального значения цены договора, что составляет 13 398 рублей 00 копеек. Если в ходе проведения конкурентной закупки при заключении Договора победителем закупки была снижена начальная максимальная цена Договора/начальная сумма цен единиц товара, работы, услуги на двадцать пять и более процентов, Заказчик применяет к победителю закупки антидемпинговые меры: победитель закупки обязан до заключения Договора предоставить обеспечение исполнения договора в размере, превышающем в полтора раза размер обеспечения исполнения Договора, указанный в извещении и (или) в документации о закупке. 14.4. Факт передачи денежных средств в обеспечение исполнения Договора подтверждается зачислением денежных средств на счет Заказчика. В случае, если участник закупки, с которым заключается Договор, вместе с таким Договором представил документ, подтверждающий внесение денежных средств в качестве обеспечения исполнения Договора, и такие денежные средства не поступили на счет Заказчика, указанный в закупочн Требования к качеству, техническим характеристикам товара, требования к их безопасности, к функциональным характеристикам (потребительским свойствам) товара, требования к размерам, упаковке, отгрузке товара, и иные показатели, связанные с определением соответствия поставляемого</td>\n",
       "      <td>439291516</td>\n",
       "      <td>обеспечение исполнения контракта</td>\n",
       "      <td>{'answer_end': [1111], 'answer_start': [1010], 'text': ['Обеспечение исполнения Договора, предоставляется на сумму 5 % от начальной максимальной цены Договора']}</td>\n",
       "      <td>{'id': 439291516, 'answer_end': [1148], 'answer_start': [1010], 'text': ['Обеспечение исполнения Договора, предоставляется на сумму 5 % от начальной максимальной цены Договора/максимального значения цены договора']}</td>\n",
       "    </tr>\n",
       "  </tbody>\n",
       "</table>\n",
       "</div>\n",
       "      <button class=\"colab-df-convert\" onclick=\"convertToInteractive('df-4a957294-7417-4f06-8e44-462d7d9ecf8b')\"\n",
       "              title=\"Convert this dataframe to an interactive table.\"\n",
       "              style=\"display:none;\">\n",
       "        \n",
       "  <svg xmlns=\"http://www.w3.org/2000/svg\" height=\"24px\"viewBox=\"0 0 24 24\"\n",
       "       width=\"24px\">\n",
       "    <path d=\"M0 0h24v24H0V0z\" fill=\"none\"/>\n",
       "    <path d=\"M18.56 5.44l.94 2.06.94-2.06 2.06-.94-2.06-.94-.94-2.06-.94 2.06-2.06.94zm-11 1L8.5 8.5l.94-2.06 2.06-.94-2.06-.94L8.5 2.5l-.94 2.06-2.06.94zm10 10l.94 2.06.94-2.06 2.06-.94-2.06-.94-.94-2.06-.94 2.06-2.06.94z\"/><path d=\"M17.41 7.96l-1.37-1.37c-.4-.4-.92-.59-1.43-.59-.52 0-1.04.2-1.43.59L10.3 9.45l-7.72 7.72c-.78.78-.78 2.05 0 2.83L4 21.41c.39.39.9.59 1.41.59.51 0 1.02-.2 1.41-.59l7.78-7.78 2.81-2.81c.8-.78.8-2.07 0-2.86zM5.41 20L4 18.59l7.72-7.72 1.47 1.35L5.41 20z\"/>\n",
       "  </svg>\n",
       "      </button>\n",
       "      \n",
       "  <style>\n",
       "    .colab-df-container {\n",
       "      display:flex;\n",
       "      flex-wrap:wrap;\n",
       "      gap: 12px;\n",
       "    }\n",
       "\n",
       "    .colab-df-convert {\n",
       "      background-color: #E8F0FE;\n",
       "      border: none;\n",
       "      border-radius: 50%;\n",
       "      cursor: pointer;\n",
       "      display: none;\n",
       "      fill: #1967D2;\n",
       "      height: 32px;\n",
       "      padding: 0 0 0 0;\n",
       "      width: 32px;\n",
       "    }\n",
       "\n",
       "    .colab-df-convert:hover {\n",
       "      background-color: #E2EBFA;\n",
       "      box-shadow: 0px 1px 2px rgba(60, 64, 67, 0.3), 0px 1px 3px 1px rgba(60, 64, 67, 0.15);\n",
       "      fill: #174EA6;\n",
       "    }\n",
       "\n",
       "    [theme=dark] .colab-df-convert {\n",
       "      background-color: #3B4455;\n",
       "      fill: #D2E3FC;\n",
       "    }\n",
       "\n",
       "    [theme=dark] .colab-df-convert:hover {\n",
       "      background-color: #434B5C;\n",
       "      box-shadow: 0px 1px 3px 1px rgba(0, 0, 0, 0.15);\n",
       "      filter: drop-shadow(0px 1px 2px rgba(0, 0, 0, 0.3));\n",
       "      fill: #FFFFFF;\n",
       "    }\n",
       "  </style>\n",
       "\n",
       "      <script>\n",
       "        const buttonEl =\n",
       "          document.querySelector('#df-4a957294-7417-4f06-8e44-462d7d9ecf8b button.colab-df-convert');\n",
       "        buttonEl.style.display =\n",
       "          google.colab.kernel.accessAllowed ? 'block' : 'none';\n",
       "\n",
       "        async function convertToInteractive(key) {\n",
       "          const element = document.querySelector('#df-4a957294-7417-4f06-8e44-462d7d9ecf8b');\n",
       "          const dataTable =\n",
       "            await google.colab.kernel.invokeFunction('convertToInteractive',\n",
       "                                                     [key], {});\n",
       "          if (!dataTable) return;\n",
       "\n",
       "          const docLinkHtml = 'Like what you see? Visit the ' +\n",
       "            '<a target=\"_blank\" href=https://colab.research.google.com/notebooks/data_table.ipynb>data table notebook</a>'\n",
       "            + ' to learn more about interactive tables.';\n",
       "          element.innerHTML = '';\n",
       "          dataTable['output_type'] = 'display_data';\n",
       "          await google.colab.output.renderOutput(dataTable, element);\n",
       "          const docLink = document.createElement('div');\n",
       "          docLink.innerHTML = docLinkHtml;\n",
       "          element.appendChild(docLink);\n",
       "        }\n",
       "      </script>\n",
       "    </div>\n",
       "  </div>\n",
       "  "
      ],
      "text/plain": [
       "                                                                                                                                                                                                                                                                                                                                                                                                                                                                                                                                                                                                                                                                                                                                                                                                                                                                                                                                                                                                                                                                                                                                                                                                                                                                                                                                                                                                                                                                                                                                                                                                                                                                                                                                                                                                                                                                                                                                                                                                                                                                                                                                                                                                                                                                                                                                                                                                                                                                                     text  \\\n",
       "0  Раздел 3. или дающие основание предполагать, что произошло или может произойти нарушение каких-либо положений настоящих условий контрагентом, его аффилированными лицами, работниками или посредниками, выражающееся в действиях, квалифицируемых применимым законодательством, как дача или получение взятки, коммерческий подкуп, а также действиях, нарушающих требования применимого законодательства и международных актов о противодействии легализации доходов, полученных преступным путем. 14 Обеспечение исполнения договора 14.1. Обеспечение исполнения Договора может быть предоставлено участником закупки путем перечисления денежных средств на указанный заказчиком счет или предоставления независимой гарантии, выданной банком. 14.2. Должны быть обеспечены обязательства Поставщика по возмещению убытков Заказчика, причиненных неисполнением или ненадлежащим исполнением обязательств по Договору, а также обязанность по выплате неустойки (штрафа, пени) и иных долгов, возникших у Поставщика перед Заказчиком. 14.3. Обеспечение исполнения Договора, предоставляется на сумму 5 % от начальной максимальной цены Договора/максимального значения цены договора, что составляет 13 398 рублей 00 копеек. Если в ходе проведения конкурентной закупки при заключении Договора победителем закупки была снижена начальная максимальная цена Договора/начальная сумма цен единиц товара, работы, услуги на двадцать пять и более процентов, Заказчик применяет к победителю закупки антидемпинговые меры: победитель закупки обязан до заключения Договора предоставить обеспечение исполнения договора в размере, превышающем в полтора раза размер обеспечения исполнения Договора, указанный в извещении и (или) в документации о закупке. 14.4. Факт передачи денежных средств в обеспечение исполнения Договора подтверждается зачислением денежных средств на счет Заказчика. В случае, если участник закупки, с которым заключается Договор, вместе с таким Договором представил документ, подтверждающий внесение денежных средств в качестве обеспечения исполнения Договора, и такие денежные средства не поступили на счет Заказчика, указанный в закупочн Требования к качеству, техническим характеристикам товара, требования к их безопасности, к функциональным характеристикам (потребительским свойствам) товара, требования к размерам, упаковке, отгрузке товара, и иные показатели, связанные с определением соответствия поставляемого   \n",
       "\n",
       "          id                             label  \\\n",
       "0  439291516  обеспечение исполнения контракта   \n",
       "\n",
       "                                                                                                                                                      extracted_part  \\\n",
       "0  {'answer_end': [1111], 'answer_start': [1010], 'text': ['Обеспечение исполнения Договора, предоставляется на сумму 5 % от начальной максимальной цены Договора']}   \n",
       "\n",
       "                                                                                                                                                                                                                   answers  \n",
       "0  {'id': 439291516, 'answer_end': [1148], 'answer_start': [1010], 'text': ['Обеспечение исполнения Договора, предоставляется на сумму 5 % от начальной максимальной цены Договора/максимального значения цены договора']}  "
      ]
     },
     "execution_count": 41,
     "metadata": {},
     "output_type": "execute_result"
    }
   ],
   "source": [
    "compare = pd.DataFrame(datasets_train_valid[\"valid\"])\n",
    "compare[\"answers\"] = formatted_predictions\n",
    "compare.head(1)"
   ]
  },
  {
   "cell_type": "markdown",
   "id": "4ede43d6",
   "metadata": {
    "id": "4ede43d6"
   },
   "source": [
    "Посчитаем Accuracy модели:"
   ]
  },
  {
   "cell_type": "code",
   "execution_count": null,
   "id": "529c0d5f",
   "metadata": {
    "ExecuteTime": {
     "end_time": "2023-05-05T18:33:38.942212Z",
     "start_time": "2023-05-05T18:33:38.913989Z"
    },
    "id": "529c0d5f"
   },
   "outputs": [],
   "source": [
    "predictions_list = []\n",
    "for i, x in enumerate(references):\n",
    "    for j, y in enumerate(formatted_predictions):\n",
    "        if x[\"id\"] == y[\"id\"]:\n",
    "            if x[\"text\"][0] == y[\"text\"][0]:\n",
    "                predictions_list.append(1)\n",
    "            else: \n",
    "                predictions_list.append(0)"
   ]
  },
  {
   "cell_type": "code",
   "execution_count": null,
   "id": "f1998da9",
   "metadata": {
    "ExecuteTime": {
     "end_time": "2023-05-05T18:33:41.024143Z",
     "start_time": "2023-05-05T18:33:38.945204Z"
    },
    "colab": {
     "base_uri": "https://localhost:8080/",
     "height": 66,
     "referenced_widgets": [
      "cb42294d452f4707a9ad00805b9bf984",
      "16d716cb48374cba91cc97da97d418d1",
      "849e887a6fd3461b962568c14e24b407",
      "b79386af056747058d85c97fbc642504",
      "df2b4f346ae34f10933bea56c73a6220",
      "1a3d37b5864645cebf111ae46720a1fa",
      "03f773ae5ceb4bfd90c2a6518385ac5b",
      "cb723cba9d2f4ebbb04503c9438cd787",
      "3116a37834664d20b5cc622f6a226325",
      "9cedef8e63fe45168b66dcf3f15a2c7c",
      "43fc77328b6b4c9e8e05f04b3ff7ea96"
     ]
    },
    "id": "f1998da9",
    "outputId": "e7c38e72-71d8-4c38-ec93-f3d9516a193d"
   },
   "outputs": [
    {
     "data": {
      "application/vnd.jupyter.widget-view+json": {
       "model_id": "cb42294d452f4707a9ad00805b9bf984",
       "version_major": 2,
       "version_minor": 0
      },
      "text/plain": [
       "Downloading builder script:   0%|          | 0.00/4.20k [00:00<?, ?B/s]"
      ]
     },
     "metadata": {},
     "output_type": "display_data"
    },
    {
     "data": {
      "text/plain": [
       "{'accuracy': 0.7658862876254181}"
      ]
     },
     "execution_count": 43,
     "metadata": {},
     "output_type": "execute_result"
    }
   ],
   "source": [
    "accuracy_metric = evaluate.load(\"accuracy\")\n",
    "results = accuracy_metric.compute(references=[1] * len(references), predictions=predictions_list)\n",
    "results"
   ]
  },
  {
   "cell_type": "markdown",
   "id": "veT4eO3ApOgR",
   "metadata": {
    "id": "veT4eO3ApOgR"
   },
   "source": [
    "## Fine-tuning модели на полных обучающих данных"
   ]
  },
  {
   "cell_type": "code",
   "execution_count": null,
   "id": "jGLf4mvbpgd4",
   "metadata": {
    "colab": {
     "base_uri": "https://localhost:8080/",
     "height": 17,
     "referenced_widgets": [
      "48922a36ac2f4f15ae1ed0ebd3fde657",
      "75c7c222b1644eb3a887440119af2f8f",
      "3ea6a4ae6baa4fd68c0f49f2f11b813f",
      "530ac31b0e6e4b23a9f088e59e1f80c6",
      "7528fa346c034cc4abb28b8650890336",
      "9c511ca9591041258464f60744056979",
      "3f0c8568268e4a2e90ca07e76f350abd",
      "b07bb18984274e5a970e2948629d37ce",
      "174fb9335ada4f0692429695a52d7cc3",
      "0e01fdd06ecd48ae97b5c3e9b1d3abb3",
      "70d72f664f0647ddba4dda8bb569b222"
     ]
    },
    "id": "jGLf4mvbpgd4",
    "outputId": "47e0048e-7684-4dfa-aedf-df6562731ba7"
   },
   "outputs": [
    {
     "data": {
      "application/vnd.jupyter.widget-view+json": {
       "model_id": "48922a36ac2f4f15ae1ed0ebd3fde657",
       "version_major": 2,
       "version_minor": 0
      },
      "text/plain": [
       "Map:   0%|          | 0/1492 [00:00<?, ? examples/s]"
      ]
     },
     "metadata": {},
     "output_type": "display_data"
    }
   ],
   "source": [
    "tokenized_datasets = datasets.map(prepare_features, batched=True, load_from_cache_file=True,\n",
    "                                  remove_columns=datasets_train_valid[\"train\"].column_names)"
   ]
  },
  {
   "cell_type": "code",
   "execution_count": null,
   "id": "gYlHa6CyphXb",
   "metadata": {
    "colab": {
     "base_uri": "https://localhost:8080/",
     "height": 161
    },
    "id": "gYlHa6CyphXb",
    "outputId": "17bff718-5032-447b-dcc3-45ce9eaf3b87"
   },
   "outputs": [
    {
     "name": "stderr",
     "output_type": "stream",
     "text": [
      "/usr/local/lib/python3.10/dist-packages/transformers/optimization.py:407: FutureWarning: This implementation of AdamW is deprecated and will be removed in a future version. Use the PyTorch implementation torch.optim.AdamW instead, or set `no_deprecation_warning=True` to disable this warning\n",
      "  warnings.warn(\n"
     ]
    },
    {
     "data": {
      "text/html": [
       "\n",
       "    <div>\n",
       "      \n",
       "      <progress value='765' max='765' style='width:300px; height:20px; vertical-align: middle;'></progress>\n",
       "      [765/765 17:04, Epoch 5/5]\n",
       "    </div>\n",
       "    <table border=\"1\" class=\"dataframe\">\n",
       "  <thead>\n",
       " <tr style=\"text-align: left;\">\n",
       "      <th>Step</th>\n",
       "      <th>Training Loss</th>\n",
       "    </tr>\n",
       "  </thead>\n",
       "  <tbody>\n",
       "    <tr>\n",
       "      <td>500</td>\n",
       "      <td>0.180000</td>\n",
       "    </tr>\n",
       "  </tbody>\n",
       "</table><p>"
      ],
      "text/plain": [
       "<IPython.core.display.HTML object>"
      ]
     },
     "metadata": {},
     "output_type": "display_data"
    }
   ],
   "source": [
    "# Загрузка ранее сохраненной настроенной модели\n",
    "model = AutoModelForQuestionAnswering.from_pretrained('QA_trainer_save_pretrained')\n",
    "\n",
    "# Зададим параметры обучения - TrainingArguments:\n",
    "model_name = model_checkpoint.split(\"/\")[-1]\n",
    "args = TrainingArguments(\n",
    "    f\"{model_name}-finetuned_final_model\",\n",
    "    save_strategy = \"no\",\n",
    "    learning_rate=2e-5,\n",
    "    per_device_train_batch_size=batch_size,\n",
    "    per_device_eval_batch_size=batch_size,\n",
    "    num_train_epochs=5,\n",
    "    weight_decay=0,\n",
    "    load_best_model_at_end=True\n",
    ")\n",
    "\n",
    "data_collator = default_data_collator\n",
    "\n",
    "# Передадим теперь всё это вместе с нашими наборами данных в класс Trainer:\n",
    "trainer = Trainer(\n",
    "    model,\n",
    "    args,\n",
    "    train_dataset=tokenized_datasets[\"train\"],\n",
    "    data_collator=data_collator,\n",
    "    tokenizer=tokenizer\n",
    ")\n",
    "\n",
    "# Выполняем обучение\n",
    "trainer.train()\n",
    "\n",
    "# Сохраняем модель и Trainer:\n",
    "trainer.save_model('QA_trainer_save_pretrained')"
   ]
  },
  {
   "cell_type": "markdown",
   "id": "03c656cd",
   "metadata": {
    "id": "03c656cd"
   },
   "source": [
    "## Прогнозирование и формирование результатов"
   ]
  },
  {
   "cell_type": "code",
   "execution_count": null,
   "id": "94d977a8",
   "metadata": {
    "ExecuteTime": {
     "end_time": "2023-05-05T18:33:42.053385Z",
     "start_time": "2023-05-05T18:33:41.028221Z"
    },
    "colab": {
     "base_uri": "https://localhost:8080/",
     "height": 168,
     "referenced_widgets": [
      "c7370cc35ec641249335fe11a661c6f5",
      "0643bc47f8984f7b82875ffbaf5ee991",
      "a336609faffe4d1aa9d0eb9bc9cdc092",
      "32426457036f4696b90a7177c8e52f78",
      "e698f6dc2c214ee6b18ee743754da638",
      "ac62cddf1fff404a9d270796e3a0ff66",
      "9de51137e9d743ad92aafeb433f776da",
      "85350eb2df634dd8a5ccb7d8401e1a86",
      "cf6559ce70dc4271bb26d62cb27a64ca",
      "9d7d8b52277a4538b42c972c83c69fc5",
      "3da759a826ad4656b8f85bb1e52b5598",
      "a1e17d826b534682a1776b90a0193da4",
      "1d87b8f1384d4ba287fe278b3b18602d",
      "9ef5db1974124ce088b1e98dba994777",
      "d0cb810aadbd446cad49dbbfd9651203",
      "c8c8712b2ef54c7591859a7b3c75d888",
      "13d9497b1d914253aef8718d4d23d051",
      "e22ecf428f08400d89adcf17fed97866",
      "549e32dd4d324c21b81b6adb927e6395",
      "0dc57d64467c4ba788e764c8eba56a17",
      "cd7a09b86142417c85b64bc2027d8e73",
      "ad2a4a5e2fed4da9b17c86cac0bfdb6c",
      "d59c687020934e3d9bbbe03e303bbd4c",
      "f3a86aed957344fea38b12d9046dc8d9",
      "9a74c20fa0574d1095ec15e0f6c06816",
      "afabb32b681948489bd9c95f09109634",
      "633bb29c7eee49798eaa780c8f405691",
      "651bc0d6cac3453b90739f446c146ba7",
      "e06ce5064d8846d39a133c8a3d507476",
      "ddc8add9c310437c90176e158624e347",
      "1917909e72d2404091cc40784ee6f350",
      "55391987a08c4405b6891e9d5a28d7c9",
      "415fbef1ca2e4575b7eb5dcc4a814936",
      "f437d4f823164133b3c6cef66a1fdd73",
      "d83f8d3bd87441498db05f43a4d590fa",
      "7a7b41af8d6b4318a170e10cf1905fb1",
      "2b5e4c58817549a7b20beeacdfdc515e",
      "15c04a2b05da473ebcdb143e3400db5f",
      "c3a862588932455a93eb394f429b00d4",
      "a09c84e3715d4be4a966079e45d9eb4f",
      "1fee552d09224e9b8a9d630808f6ad49",
      "f29494793dc2415ba222bf4aebcffa75",
      "8c6404dabac346398f60c1742d1634a0",
      "f4634a486b60489eb3b7ce6cf3e005f4"
     ]
    },
    "id": "94d977a8",
    "outputId": "e631383e-bcdb-455b-e83e-bc278f34e8ba"
   },
   "outputs": [
    {
     "name": "stdout",
     "output_type": "stream",
     "text": [
      "Downloading and preparing dataset json/default to /root/.cache/huggingface/datasets/json/default-b3aed09a11797876/0.0.0/e347ab1c932092252e717ff3f949105a4dd28b27e842dd53157d2f72e276c2e4...\n"
     ]
    },
    {
     "data": {
      "application/vnd.jupyter.widget-view+json": {
       "model_id": "c7370cc35ec641249335fe11a661c6f5",
       "version_major": 2,
       "version_minor": 0
      },
      "text/plain": [
       "Downloading data files:   0%|          | 0/1 [00:00<?, ?it/s]"
      ]
     },
     "metadata": {},
     "output_type": "display_data"
    },
    {
     "data": {
      "application/vnd.jupyter.widget-view+json": {
       "model_id": "a1e17d826b534682a1776b90a0193da4",
       "version_major": 2,
       "version_minor": 0
      },
      "text/plain": [
       "Extracting data files:   0%|          | 0/1 [00:00<?, ?it/s]"
      ]
     },
     "metadata": {},
     "output_type": "display_data"
    },
    {
     "data": {
      "application/vnd.jupyter.widget-view+json": {
       "model_id": "d59c687020934e3d9bbbe03e303bbd4c",
       "version_major": 2,
       "version_minor": 0
      },
      "text/plain": [
       "Generating train split: 0 examples [00:00, ? examples/s]"
      ]
     },
     "metadata": {},
     "output_type": "display_data"
    },
    {
     "name": "stdout",
     "output_type": "stream",
     "text": [
      "Dataset json downloaded and prepared to /root/.cache/huggingface/datasets/json/default-b3aed09a11797876/0.0.0/e347ab1c932092252e717ff3f949105a4dd28b27e842dd53157d2f72e276c2e4. Subsequent calls will reuse this data.\n"
     ]
    },
    {
     "data": {
      "application/vnd.jupyter.widget-view+json": {
       "model_id": "f437d4f823164133b3c6cef66a1fdd73",
       "version_major": 2,
       "version_minor": 0
      },
      "text/plain": [
       "  0%|          | 0/1 [00:00<?, ?it/s]"
      ]
     },
     "metadata": {},
     "output_type": "display_data"
    }
   ],
   "source": [
    "# чтение файлов с данными\n",
    "datasets_test = load_dataset(\"json\", data_files=\"test.json\")"
   ]
  },
  {
   "cell_type": "code",
   "execution_count": null,
   "id": "498ff5d8",
   "metadata": {
    "ExecuteTime": {
     "end_time": "2023-05-05T18:33:42.069367Z",
     "start_time": "2023-05-05T18:33:42.057375Z"
    },
    "colab": {
     "base_uri": "https://localhost:8080/"
    },
    "id": "498ff5d8",
    "outputId": "4ef33274-894d-4fad-d785-8a5b9f175a98"
   },
   "outputs": [
    {
     "data": {
      "text/plain": [
       "DatasetDict({\n",
       "    train: Dataset({\n",
       "        features: ['text', 'id', 'label'],\n",
       "        num_rows: 318\n",
       "    })\n",
       "})"
      ]
     },
     "execution_count": 47,
     "metadata": {},
     "output_type": "execute_result"
    }
   ],
   "source": [
    "datasets_test"
   ]
  },
  {
   "cell_type": "code",
   "execution_count": null,
   "id": "8b225b73",
   "metadata": {
    "ExecuteTime": {
     "end_time": "2023-05-05T18:33:42.141859Z",
     "start_time": "2023-05-05T18:33:42.072351Z"
    },
    "colab": {
     "base_uri": "https://localhost:8080/",
     "height": 17,
     "referenced_widgets": [
      "ddba34b0489f4b5eaeaa2279c5c4b51d",
      "76db130aa8884f10967fb5b570bc5f0c",
      "22e6543f51d14f889a309ee7eae1fd3e",
      "3b5330f4f897401f984368f621ca7817",
      "75ae3d4697984a418b3b0e57e478d634",
      "8c9954fe4eb2430290273447e1e103e3",
      "534f867b0a264902975bdb70f6c7af60",
      "d9491ae79d984741a7571163a968915b",
      "bcfddfbb93234bacab434501cba9d169",
      "16f7bf7396a1457e80bbf7582d0ce69a",
      "8a24fb057d2d44469b938f9da713047d"
     ]
    },
    "id": "8b225b73",
    "outputId": "e9a2fadf-61be-46e0-881a-e660b9e75dce"
   },
   "outputs": [
    {
     "data": {
      "application/vnd.jupyter.widget-view+json": {
       "model_id": "ddba34b0489f4b5eaeaa2279c5c4b51d",
       "version_major": 2,
       "version_minor": 0
      },
      "text/plain": [
       "Map:   0%|          | 0/318 [00:00<?, ? examples/s]"
      ]
     },
     "metadata": {},
     "output_type": "display_data"
    }
   ],
   "source": [
    "# предобработка тестовых данных\n",
    "test_features = datasets_test[\"train\"].map(\n",
    "    prepare_valid_features,\n",
    "    batched=True,\n",
    "    remove_columns=datasets_test[\"train\"].column_names\n",
    ")"
   ]
  },
  {
   "cell_type": "code",
   "execution_count": null,
   "id": "22f02c2f",
   "metadata": {
    "ExecuteTime": {
     "end_time": "2023-05-05T18:33:42.156887Z",
     "start_time": "2023-05-05T18:33:42.143854Z"
    },
    "colab": {
     "base_uri": "https://localhost:8080/"
    },
    "id": "22f02c2f",
    "outputId": "c5ca2a23-6615-4a5b-c4ec-df1e651ff808"
   },
   "outputs": [
    {
     "data": {
      "text/plain": [
       "Dataset({\n",
       "    features: ['input_ids', 'token_type_ids', 'attention_mask', 'offset_mapping', 'example_id'],\n",
       "    num_rows: 622\n",
       "})"
      ]
     },
     "execution_count": 49,
     "metadata": {},
     "output_type": "execute_result"
    }
   ],
   "source": [
    "test_features"
   ]
  },
  {
   "cell_type": "code",
   "execution_count": null,
   "id": "6317aae6",
   "metadata": {
    "ExecuteTime": {
     "start_time": "2023-05-05T18:22:57.911Z"
    },
    "colab": {
     "base_uri": "https://localhost:8080/",
     "height": 17
    },
    "id": "6317aae6",
    "outputId": "7726fedb-0a9e-49ce-f548-e7d6c183c3d4"
   },
   "outputs": [
    {
     "data": {
      "text/html": [],
      "text/plain": [
       "<IPython.core.display.HTML object>"
      ]
     },
     "metadata": {},
     "output_type": "display_data"
    }
   ],
   "source": [
    "# Формируем прогнозы\n",
    "test_predictions = trainer.predict(test_features)"
   ]
  },
  {
   "cell_type": "code",
   "execution_count": null,
   "id": "87b844d2",
   "metadata": {
    "ExecuteTime": {
     "start_time": "2023-05-05T18:22:57.955Z"
    },
    "id": "87b844d2"
   },
   "outputs": [],
   "source": [
    "# Вернем скрытые столбцы\n",
    "test_features.set_format(type=test_features.format[\"type\"], columns=list(test_features.features.keys()))"
   ]
  },
  {
   "cell_type": "code",
   "execution_count": null,
   "id": "16a620e6",
   "metadata": {
    "ExecuteTime": {
     "start_time": "2023-05-05T18:22:58.001Z"
    },
    "colab": {
     "base_uri": "https://localhost:8080/",
     "height": 66,
     "referenced_widgets": [
      "6d84a19310414fd38e528e8a04e86f2e",
      "bb4a714e683540fda9a4f681d64c27c6",
      "17fb246809d04bf6968fe6a06b8e0257",
      "ae93e4bbf30c4f8ea14a203c215bf248",
      "d58b9aeee62a4ddcace24bd9912c587e",
      "4e65788fdb824dea8e15bbf3ad74a4b1",
      "c161c1ec6a5240d990a131604f9aff33",
      "de056f4ba38448e49322755a5d9ae1c0",
      "bd9d51ff22994ede833f514fa886da8f",
      "c9e61ea88c1241f99d454617fea498b5",
      "9010d21e706644119d3af70ad0428d50"
     ]
    },
    "id": "16a620e6",
    "outputId": "a7a00ba9-c062-46cb-bdda-ad168468e23e"
   },
   "outputs": [
    {
     "name": "stdout",
     "output_type": "stream",
     "text": [
      "Постобработка 318 текстов разбитых на 622 подтекстов.\n"
     ]
    },
    {
     "data": {
      "application/vnd.jupyter.widget-view+json": {
       "model_id": "6d84a19310414fd38e528e8a04e86f2e",
       "version_major": 2,
       "version_minor": 0
      },
      "text/plain": [
       "  0%|          | 0/318 [00:00<?, ?it/s]"
      ]
     },
     "metadata": {},
     "output_type": "display_data"
    }
   ],
   "source": [
    "# Применим функцию постобработки к нашим необработанным прогнозам:\n",
    "final_predictions_test = postprocess_qa_predictions(datasets_test[\"train\"], test_features, test_predictions.predictions)"
   ]
  },
  {
   "cell_type": "code",
   "execution_count": null,
   "id": "71dc50b4",
   "metadata": {
    "ExecuteTime": {
     "start_time": "2023-05-05T18:22:58.051Z"
    },
    "id": "71dc50b4"
   },
   "outputs": [],
   "source": [
    "# Отформатируем полученные прогнозы и референсные данные, чтобы использовать из для расчета метрики:\n",
    "formatted_predictions_test = [{\"text\": v[\"text\"],\n",
    "                               \"answer_start\": v[\"answer_start\"],\n",
    "                               \"answer_end\": v[\"answer_end\"]\n",
    "                              } for k, v in final_predictions_test.items()]"
   ]
  },
  {
   "cell_type": "code",
   "execution_count": null,
   "id": "6b2dc3a1",
   "metadata": {
    "ExecuteTime": {
     "start_time": "2023-05-05T18:22:58.102Z"
    },
    "colab": {
     "base_uri": "https://localhost:8080/",
     "height": 576
    },
    "id": "6b2dc3a1",
    "outputId": "ba15a9b1-d735-4c5d-8169-f8c52b62dcdb"
   },
   "outputs": [
    {
     "data": {
      "text/html": [
       "\n",
       "  <div id=\"df-973b628f-fecf-47c3-86a5-794cbcd72652\">\n",
       "    <div class=\"colab-df-container\">\n",
       "      <div>\n",
       "<style scoped>\n",
       "    .dataframe tbody tr th:only-of-type {\n",
       "        vertical-align: middle;\n",
       "    }\n",
       "\n",
       "    .dataframe tbody tr th {\n",
       "        vertical-align: top;\n",
       "    }\n",
       "\n",
       "    .dataframe thead th {\n",
       "        text-align: right;\n",
       "    }\n",
       "</style>\n",
       "<table border=\"1\" class=\"dataframe\">\n",
       "  <thead>\n",
       "    <tr style=\"text-align: right;\">\n",
       "      <th></th>\n",
       "      <th>text</th>\n",
       "      <th>id</th>\n",
       "      <th>label</th>\n",
       "      <th>extracted_part</th>\n",
       "    </tr>\n",
       "  </thead>\n",
       "  <tbody>\n",
       "    <tr>\n",
       "      <th>0</th>\n",
       "      <td>МУНИЦИПАЛЬНЫЙ КОНТРАКТ № ______ на оказание услуг по техническому обслуживанию и ремонту принтеров и многофункциональных устройств, заправке и восстановлению картриджей (идентификационный код закупки 223861800296886010100100590019511244) г. Ханты-Мансийск «___» ____________ 2022 г.  (или) возмещения убытков причинённых Исполнителем убытков. 6. Обеспечение исполнения контракта 6.1. Исполнение контракта обеспечиваются предоставлением независимой гарантии, выданной банком и соответствующей требованиям Федерального закона от 05.04.2013 № 44-ФЗ «О контрактной системе в сфере закупок товаров, работ, услуг для обеспечения государственных и муниципальных нужд», или внесением денежных средств на указанный заказчиком счет, на котором в соответствии с законодательством Российской Федерации учитываются операции со средствами, поступающими заказчику. Способ обеспечения исполнения контракта, срок действия независимой гарантии определяются в соответствии с требованиями Федерального закона от 05.04.2013 № 44-ФЗ «О контрактной системе в сфере закупок товаров, работ, услуг для обеспечения государственных и муниципальных нужд» участником закупки, с которым заключается контракт, самостоятельно. 6.2. Обеспечение исполнения Контракта предоставляется Заказчику до заключения Контракта. Размер обеспечения исполнения Контракта составляет _______ рублей ____ копеек (5 процентов от цены контракта). Получатель: Комитет по финансам администрации Ханты-Мансийского района (Администрация Ханты-Мансийского района, л/сч 040.01.001.2) ИНН 8618002968 КПП 860101001 Банк плательщика: РКЦ Ханты-Мансийск//УФК по Ханты-Мансийскому автономному округу – Югре г. Ханты-Мансийск, ЕКС 40102810245370000007 БИК 007162163 Казначейский счет 03232643718290008700 В случае заключения контракта по результатам определения Исполнителя в соответствии с пунктом 1 части 1 статьи 30 Федерального закона от 05.04.2013 № 44-ФЗ «О контрактной системе в сфере закупок товаров, работ, услуг для обеспечения государственных и муниципальных нужд» размер обеспечения исполнения контракта, в том числе предоставляемого с учетом положений статьи 37 Федерального закона от 05.04.2013 № 44-ФЗ «О контрактной системе в сфере закупок товаров, работ, услуг для обеспечения государственных и муниципальных нужд», устанавливается от цены, по которой в соответствии с Федерального закона от 05.04.2013 № 44-ФЗ «О контрактной системе в сфере 13.Адреса места нахождения, банковские реквизиты и подписи Сторон ЗАКАЗЧИК: Администрация Ханты-Мансийского района Юридический адрес: 628011, Тюменская область, Ханты-Мансийский автономный округ - Югра, г. Ханты-Мансийск, ул. Гагарина, 214 Почтовый адрес: 628011,</td>\n",
       "      <td>762883279</td>\n",
       "      <td>обеспечение исполнения контракта</td>\n",
       "      <td>{'text': ['Размер обеспечения исполнения Контракта составляет _______ рублей ____ копеек (5 процентов от цены контракта).'], 'answer_start': [1283], 'answer_end': [1393]}</td>\n",
       "    </tr>\n",
       "  </tbody>\n",
       "</table>\n",
       "</div>\n",
       "      <button class=\"colab-df-convert\" onclick=\"convertToInteractive('df-973b628f-fecf-47c3-86a5-794cbcd72652')\"\n",
       "              title=\"Convert this dataframe to an interactive table.\"\n",
       "              style=\"display:none;\">\n",
       "        \n",
       "  <svg xmlns=\"http://www.w3.org/2000/svg\" height=\"24px\"viewBox=\"0 0 24 24\"\n",
       "       width=\"24px\">\n",
       "    <path d=\"M0 0h24v24H0V0z\" fill=\"none\"/>\n",
       "    <path d=\"M18.56 5.44l.94 2.06.94-2.06 2.06-.94-2.06-.94-.94-2.06-.94 2.06-2.06.94zm-11 1L8.5 8.5l.94-2.06 2.06-.94-2.06-.94L8.5 2.5l-.94 2.06-2.06.94zm10 10l.94 2.06.94-2.06 2.06-.94-2.06-.94-.94-2.06-.94 2.06-2.06.94z\"/><path d=\"M17.41 7.96l-1.37-1.37c-.4-.4-.92-.59-1.43-.59-.52 0-1.04.2-1.43.59L10.3 9.45l-7.72 7.72c-.78.78-.78 2.05 0 2.83L4 21.41c.39.39.9.59 1.41.59.51 0 1.02-.2 1.41-.59l7.78-7.78 2.81-2.81c.8-.78.8-2.07 0-2.86zM5.41 20L4 18.59l7.72-7.72 1.47 1.35L5.41 20z\"/>\n",
       "  </svg>\n",
       "      </button>\n",
       "      \n",
       "  <style>\n",
       "    .colab-df-container {\n",
       "      display:flex;\n",
       "      flex-wrap:wrap;\n",
       "      gap: 12px;\n",
       "    }\n",
       "\n",
       "    .colab-df-convert {\n",
       "      background-color: #E8F0FE;\n",
       "      border: none;\n",
       "      border-radius: 50%;\n",
       "      cursor: pointer;\n",
       "      display: none;\n",
       "      fill: #1967D2;\n",
       "      height: 32px;\n",
       "      padding: 0 0 0 0;\n",
       "      width: 32px;\n",
       "    }\n",
       "\n",
       "    .colab-df-convert:hover {\n",
       "      background-color: #E2EBFA;\n",
       "      box-shadow: 0px 1px 2px rgba(60, 64, 67, 0.3), 0px 1px 3px 1px rgba(60, 64, 67, 0.15);\n",
       "      fill: #174EA6;\n",
       "    }\n",
       "\n",
       "    [theme=dark] .colab-df-convert {\n",
       "      background-color: #3B4455;\n",
       "      fill: #D2E3FC;\n",
       "    }\n",
       "\n",
       "    [theme=dark] .colab-df-convert:hover {\n",
       "      background-color: #434B5C;\n",
       "      box-shadow: 0px 1px 3px 1px rgba(0, 0, 0, 0.15);\n",
       "      filter: drop-shadow(0px 1px 2px rgba(0, 0, 0, 0.3));\n",
       "      fill: #FFFFFF;\n",
       "    }\n",
       "  </style>\n",
       "\n",
       "      <script>\n",
       "        const buttonEl =\n",
       "          document.querySelector('#df-973b628f-fecf-47c3-86a5-794cbcd72652 button.colab-df-convert');\n",
       "        buttonEl.style.display =\n",
       "          google.colab.kernel.accessAllowed ? 'block' : 'none';\n",
       "\n",
       "        async function convertToInteractive(key) {\n",
       "          const element = document.querySelector('#df-973b628f-fecf-47c3-86a5-794cbcd72652');\n",
       "          const dataTable =\n",
       "            await google.colab.kernel.invokeFunction('convertToInteractive',\n",
       "                                                     [key], {});\n",
       "          if (!dataTable) return;\n",
       "\n",
       "          const docLinkHtml = 'Like what you see? Visit the ' +\n",
       "            '<a target=\"_blank\" href=https://colab.research.google.com/notebooks/data_table.ipynb>data table notebook</a>'\n",
       "            + ' to learn more about interactive tables.';\n",
       "          element.innerHTML = '';\n",
       "          dataTable['output_type'] = 'display_data';\n",
       "          await google.colab.output.renderOutput(dataTable, element);\n",
       "          const docLink = document.createElement('div');\n",
       "          docLink.innerHTML = docLinkHtml;\n",
       "          element.appendChild(docLink);\n",
       "        }\n",
       "      </script>\n",
       "    </div>\n",
       "  </div>\n",
       "  "
      ],
      "text/plain": [
       "                                                                                                                                                                                                                                                                                                                                                                                                                                                                                                                                                                                                                                                                                                                                                                                                                                                                                                                                                                                                                                                                                                                                                                                                                                                                                                                                                                                                                                                                                                                                                                                                                                                                                                                                                                                                                                                                                                                                                                                                                                                                                                                                                                                                                                                                                                                                                                                                                                                                                                                                                                                                                                                                                                                                                                text  \\\n",
       "0  МУНИЦИПАЛЬНЫЙ КОНТРАКТ № ______ на оказание услуг по техническому обслуживанию и ремонту принтеров и многофункциональных устройств, заправке и восстановлению картриджей (идентификационный код закупки 223861800296886010100100590019511244) г. Ханты-Мансийск «___» ____________ 2022 г.  (или) возмещения убытков причинённых Исполнителем убытков. 6. Обеспечение исполнения контракта 6.1. Исполнение контракта обеспечиваются предоставлением независимой гарантии, выданной банком и соответствующей требованиям Федерального закона от 05.04.2013 № 44-ФЗ «О контрактной системе в сфере закупок товаров, работ, услуг для обеспечения государственных и муниципальных нужд», или внесением денежных средств на указанный заказчиком счет, на котором в соответствии с законодательством Российской Федерации учитываются операции со средствами, поступающими заказчику. Способ обеспечения исполнения контракта, срок действия независимой гарантии определяются в соответствии с требованиями Федерального закона от 05.04.2013 № 44-ФЗ «О контрактной системе в сфере закупок товаров, работ, услуг для обеспечения государственных и муниципальных нужд» участником закупки, с которым заключается контракт, самостоятельно. 6.2. Обеспечение исполнения Контракта предоставляется Заказчику до заключения Контракта. Размер обеспечения исполнения Контракта составляет _______ рублей ____ копеек (5 процентов от цены контракта). Получатель: Комитет по финансам администрации Ханты-Мансийского района (Администрация Ханты-Мансийского района, л/сч 040.01.001.2) ИНН 8618002968 КПП 860101001 Банк плательщика: РКЦ Ханты-Мансийск//УФК по Ханты-Мансийскому автономному округу – Югре г. Ханты-Мансийск, ЕКС 40102810245370000007 БИК 007162163 Казначейский счет 03232643718290008700 В случае заключения контракта по результатам определения Исполнителя в соответствии с пунктом 1 части 1 статьи 30 Федерального закона от 05.04.2013 № 44-ФЗ «О контрактной системе в сфере закупок товаров, работ, услуг для обеспечения государственных и муниципальных нужд» размер обеспечения исполнения контракта, в том числе предоставляемого с учетом положений статьи 37 Федерального закона от 05.04.2013 № 44-ФЗ «О контрактной системе в сфере закупок товаров, работ, услуг для обеспечения государственных и муниципальных нужд», устанавливается от цены, по которой в соответствии с Федерального закона от 05.04.2013 № 44-ФЗ «О контрактной системе в сфере 13.Адреса места нахождения, банковские реквизиты и подписи Сторон ЗАКАЗЧИК: Администрация Ханты-Мансийского района Юридический адрес: 628011, Тюменская область, Ханты-Мансийский автономный округ - Югра, г. Ханты-Мансийск, ул. Гагарина, 214 Почтовый адрес: 628011,   \n",
       "\n",
       "          id                             label  \\\n",
       "0  762883279  обеспечение исполнения контракта   \n",
       "\n",
       "                                                                                                                                                               extracted_part  \n",
       "0  {'text': ['Размер обеспечения исполнения Контракта составляет _______ рублей ____ копеек (5 процентов от цены контракта).'], 'answer_start': [1283], 'answer_end': [1393]}  "
      ]
     },
     "execution_count": 54,
     "metadata": {},
     "output_type": "execute_result"
    }
   ],
   "source": [
    "compare_test = pd.DataFrame(datasets_test[\"train\"])\n",
    "compare_test[\"extracted_part\"] = formatted_predictions_test\n",
    "compare_test.head(1)"
   ]
  },
  {
   "cell_type": "code",
   "execution_count": null,
   "id": "b02926e6",
   "metadata": {
    "ExecuteTime": {
     "start_time": "2023-05-05T18:22:58.149Z"
    },
    "colab": {
     "base_uri": "https://localhost:8080/"
    },
    "id": "b02926e6",
    "outputId": "19fbfafc-f211-498c-8db4-18111a88ac9e"
   },
   "outputs": [
    {
     "name": "stdout",
     "output_type": "stream",
     "text": [
      "Отсутствует фрагментов к извлечению: 54\n",
      "Доля отсутствующих фрагментов к извлечению: 0.17\n"
     ]
    }
   ],
   "source": [
    "empty_extracted = 0\n",
    "for i in compare_test[\"extracted_part\"]:\n",
    "    if i['text'][0] == '':\n",
    "        empty_extracted += 1\n",
    "print(\"Отсутствует фрагментов к извлечению:\", empty_extracted)\n",
    "print(\"Доля отсутствующих фрагментов к извлечению:\", round(empty_extracted/len(compare_test), 2))"
   ]
  },
  {
   "cell_type": "markdown",
   "id": "9514b5a1",
   "metadata": {
    "id": "9514b5a1"
   },
   "source": [
    "Сформируем итоговый файл с прогнозом:"
   ]
  },
  {
   "cell_type": "code",
   "execution_count": null,
   "id": "a29985a4",
   "metadata": {
    "ExecuteTime": {
     "start_time": "2023-05-05T18:22:58.219Z"
    },
    "id": "a29985a4"
   },
   "outputs": [],
   "source": [
    "ds_test_predictions = DatasetDict({'train': Dataset.from_dict({'id': datasets_test[\"train\"][\"id\"], \n",
    "                                                               'text': datasets_test[\"train\"][\"text\"],\n",
    "                                                               'label': datasets_test[\"train\"][\"label\"],\n",
    "                                                               'extracted_part': formatted_predictions_test})\n",
    "                                  })"
   ]
  },
  {
   "cell_type": "code",
   "execution_count": null,
   "id": "1e22c211",
   "metadata": {
    "ExecuteTime": {
     "start_time": "2023-05-05T18:22:58.283Z"
    },
    "colab": {
     "base_uri": "https://localhost:8080/",
     "height": 49,
     "referenced_widgets": [
      "072e22da9cd645219fc15c176aae4c22",
      "860797a7e3ec403591bada2d1dd625cb",
      "bf1e8647f7044a4b8ea1ed14f0c942e0",
      "8aab6b71e17d489687d84b04c5e2946a",
      "372533e2aa1d4bd281a5f151299b94f4",
      "b8f09f252e294d8cbd1ceb550163021a",
      "821293d3966a4d3d8e1d11b781bf83c3",
      "88608c5276c04b6b99e28be8d998bd3b",
      "5f91aabb7b224db0bddaaf58e529c5e9",
      "b8953fc9751f441ab3ee4bc571d6f1bd",
      "d189b9167994406abefdeaece8ae4895"
     ]
    },
    "id": "1e22c211",
    "outputId": "084579f3-fd3a-4187-cb96-37e0372ee266"
   },
   "outputs": [
    {
     "data": {
      "application/vnd.jupyter.widget-view+json": {
       "model_id": "072e22da9cd645219fc15c176aae4c22",
       "version_major": 2,
       "version_minor": 0
      },
      "text/plain": [
       "Creating json from Arrow format:   0%|          | 0/1 [00:00<?, ?ba/s]"
      ]
     },
     "metadata": {},
     "output_type": "display_data"
    }
   ],
   "source": [
    "for split, dataset in ds_test_predictions.items():\n",
    "    dataset.to_json(\"predictions.json\", force_ascii=False, orient='records', indent=2, lines=False)"
   ]
  },
  {
   "cell_type": "markdown",
   "id": "61c5ca6a",
   "metadata": {
    "id": "61c5ca6a"
   },
   "source": [
    "## Проверка на тестовом датасете"
   ]
  },
  {
   "cell_type": "code",
   "execution_count": 3,
   "id": "5772db05",
   "metadata": {
    "ExecuteTime": {
     "start_time": "2023-05-05T18:22:58.359Z"
    },
    "colab": {
     "base_uri": "https://localhost:8080/",
     "height": 298,
     "referenced_widgets": [
      "e8c16967c27648f291fa8a4d7741bb78",
      "af7f161fdb5249e3a525ae3d035c5c3e",
      "6c5f8a363a4344dd8c21c1c8f0cc8c25",
      "d69bead43af44cc69b69c23d95141724",
      "98e3787121b74420bf26ccdebaea6b44",
      "3c01ba189e6740f18f8a87ff62c1d7ac",
      "b132b31da9dc4f409eecc4bc8265be4f",
      "a44e38f2a6c34a60a3621d1f3f3e7d0b",
      "0104e0ac03ea4280aee14f2980781b0d",
      "791c5d8bd82c41b2962b7aade194c16f",
      "320f6ec92ff74e3490e4a1348dcc5041",
      "f21f8b6c99d043048f4a908132271041",
      "a0aed6a6bdf2473bb0bdb75b9c208dfb",
      "c9d881ff56c44f0e866ff227e14c5d50",
      "81837a262af84d0087ee79ade506f503",
      "77b44968ee2a404fb4ef3211d339456e",
      "34638cc92a5743078a786dcd591e5630",
      "3556abefb6ba4c3f93a5eb6cdf5e3a07",
      "449c18dd4aee470fb1f2d32dc680fc8c",
      "dff93f67d78542bbaf3ec76f599f2b5d",
      "b455c5a7389847e4bdcd2ad6e4eaec99",
      "d0e6c12392c14270b07e9196a3b133c2",
      "7576966900a74e258cf1b718c3937ad2",
      "08a4b8c8fa234313a23fc0b306857745",
      "f603c3864d0d4e8d8e85248623ef8c26",
      "c03b99453ea246ea85ca57362045b08d",
      "4e9bb8a2e9ab4c858b6a19312bf7739a",
      "ce9e1e77954f46ddbe263b6a67635781",
      "ccb9c76f00fa4028b21e3c6dfb477340",
      "2acc610ccb154b73b7abaf4048ecbe7f",
      "f0488bb1d6284c5da67dff8c1b67c6a7",
      "38e08c51beb147acac2e0141ab8f0147",
      "946e68f0c3a34414bb2299e0322989a2",
      "eba73ff46f8549629b306b1e565cbdb6",
      "88a8241c7a084614a2bab6876a1a2417",
      "4d05ae6d52934687b513ef9b6bd38195",
      "cbf2348e63b74bce980b4d36d7f11d03",
      "ef910c37f20e487dad89293ce4d464f2",
      "10d4ae54f01c4424981bb6478a9c52ae",
      "6bb1adf9e1344806a6c1c6a63c1d83f1",
      "b39fd6df685e49409d0ff1a7dc9d86c6",
      "c78b3679e9254d8989badbada54b4de3",
      "f8e00cff9614485f8c077ed101794a11",
      "fa0bcd4803384904ba952562c129686d",
      "aec6b65624934afdbd92d14abc5134ac",
      "2d1708afebd54491944da2e35fc2b94b",
      "1e84b5a8cdbd4230b4cacb6919281199",
      "b7e2282bf8d845b1a577a25c456cf76d",
      "c2ac8bb49021411597bf38075ea2f9b5",
      "aeaf6f4f362d4935859934d961803b7e",
      "b7ce13c98ea24fd08b3ffba2390dbc70",
      "5a4f586e56c34bd983a15acf7a366a33",
      "fd3baa0e6718470c9d24af190ab96954",
      "b35d06439010474d81ff0e51c8ccbd94",
      "eba894afa1664e69b27c18e018bbd96b",
      "1b56e64e497e45a58bf3da140ea0ff53",
      "10f18e81eec4411896f299b46d47e8d0",
      "27506f4752a84edc8a50bf1b24970a54",
      "7741477051f0454c9afb3b00765551a0",
      "c456f53ac97b451d8fa1d74f4b223298",
      "3e423eb0811d4ced834090ee3dcd2b1f",
      "511ea609f1f4406f822ae89d7bf664b6",
      "ede05119f3fc4c43950ee266507cfa19",
      "64378ba8c2b94b65a22d5ccea0d60cbd",
      "f3a9615ab22a4a6ea86bff17dd3bc763",
      "cb51fb7d1a204e4da2a96a6bba8b22a8",
      "3c8b8c6f04824797a9a74d9c24374e19",
      "66bf997b929a4e57844af0f038a283de",
      "b34fbbec4e3041c9bbdadf0858652ca3",
      "6f9c8216b3ad43a28de63f23e990fde0",
      "3c55af8e68224f7e8b2eb19ffbd0b227",
      "2aebebe6902744079d2344e9522a711e",
      "916b8106fd544ed59bae3809dcf9153e",
      "699732337b52412283256a9bc650d8ab",
      "3b5099aa4a4b4af4a9ace4b650b96756",
      "ff1b2b7239434591a38804c0ad25ffcf",
      "67306df61a484ac19f74acf6a097b623",
      "d2ece1b01f3b4d7ba30577cc668304bf",
      "31628e70ea18482fab6b42ffcb62fb38",
      "871e022bc96c442bbcda5ea0d2db84a2",
      "77840ccdab5046318d6488601458d935",
      "25de6ddce33c47f18e2fdec2e5e5c739",
      "2fc6eb5c89804760b571ab8726e096a5",
      "032c0d3ced5f416eada19713f232fc94",
      "3819c5d370f540b48ae7c6333e1c6137",
      "2b9dc50cb5124b6da8fab7a56116947e",
      "9aea8e51ec0a4e62bddac5de8bfe3c72",
      "bfd5ca02403c48ef94f752ef7e005846"
     ]
    },
    "id": "5772db05",
    "outputId": "d015204b-fa4e-46ba-ea10-194fb33d87a7"
   },
   "outputs": [
    {
     "name": "stdout",
     "output_type": "stream",
     "text": [
      "Downloading and preparing dataset json/default to /root/.cache/huggingface/datasets/json/default-934430baca6be6fe/0.0.0/e347ab1c932092252e717ff3f949105a4dd28b27e842dd53157d2f72e276c2e4...\n"
     ]
    },
    {
     "data": {
      "application/vnd.jupyter.widget-view+json": {
       "model_id": "e8c16967c27648f291fa8a4d7741bb78",
       "version_major": 2,
       "version_minor": 0
      },
      "text/plain": [
       "Downloading data files:   0%|          | 0/1 [00:00<?, ?it/s]"
      ]
     },
     "metadata": {},
     "output_type": "display_data"
    },
    {
     "data": {
      "application/vnd.jupyter.widget-view+json": {
       "model_id": "f21f8b6c99d043048f4a908132271041",
       "version_major": 2,
       "version_minor": 0
      },
      "text/plain": [
       "Extracting data files:   0%|          | 0/1 [00:00<?, ?it/s]"
      ]
     },
     "metadata": {},
     "output_type": "display_data"
    },
    {
     "data": {
      "application/vnd.jupyter.widget-view+json": {
       "model_id": "7576966900a74e258cf1b718c3937ad2",
       "version_major": 2,
       "version_minor": 0
      },
      "text/plain": [
       "Generating train split: 0 examples [00:00, ? examples/s]"
      ]
     },
     "metadata": {},
     "output_type": "display_data"
    },
    {
     "name": "stdout",
     "output_type": "stream",
     "text": [
      "Dataset json downloaded and prepared to /root/.cache/huggingface/datasets/json/default-934430baca6be6fe/0.0.0/e347ab1c932092252e717ff3f949105a4dd28b27e842dd53157d2f72e276c2e4. Subsequent calls will reuse this data.\n"
     ]
    },
    {
     "data": {
      "application/vnd.jupyter.widget-view+json": {
       "model_id": "eba73ff46f8549629b306b1e565cbdb6",
       "version_major": 2,
       "version_minor": 0
      },
      "text/plain": [
       "  0%|          | 0/1 [00:00<?, ?it/s]"
      ]
     },
     "metadata": {},
     "output_type": "display_data"
    },
    {
     "name": "stdout",
     "output_type": "stream",
     "text": [
      "Downloading and preparing dataset json/default to /root/.cache/huggingface/datasets/json/default-01be44909b89e318/0.0.0/e347ab1c932092252e717ff3f949105a4dd28b27e842dd53157d2f72e276c2e4...\n"
     ]
    },
    {
     "data": {
      "application/vnd.jupyter.widget-view+json": {
       "model_id": "aec6b65624934afdbd92d14abc5134ac",
       "version_major": 2,
       "version_minor": 0
      },
      "text/plain": [
       "Downloading data files:   0%|          | 0/1 [00:00<?, ?it/s]"
      ]
     },
     "metadata": {},
     "output_type": "display_data"
    },
    {
     "data": {
      "application/vnd.jupyter.widget-view+json": {
       "model_id": "1b56e64e497e45a58bf3da140ea0ff53",
       "version_major": 2,
       "version_minor": 0
      },
      "text/plain": [
       "Extracting data files:   0%|          | 0/1 [00:00<?, ?it/s]"
      ]
     },
     "metadata": {},
     "output_type": "display_data"
    },
    {
     "data": {
      "application/vnd.jupyter.widget-view+json": {
       "model_id": "3c8b8c6f04824797a9a74d9c24374e19",
       "version_major": 2,
       "version_minor": 0
      },
      "text/plain": [
       "Generating train split: 0 examples [00:00, ? examples/s]"
      ]
     },
     "metadata": {},
     "output_type": "display_data"
    },
    {
     "name": "stdout",
     "output_type": "stream",
     "text": [
      "Dataset json downloaded and prepared to /root/.cache/huggingface/datasets/json/default-01be44909b89e318/0.0.0/e347ab1c932092252e717ff3f949105a4dd28b27e842dd53157d2f72e276c2e4. Subsequent calls will reuse this data.\n"
     ]
    },
    {
     "data": {
      "application/vnd.jupyter.widget-view+json": {
       "model_id": "d2ece1b01f3b4d7ba30577cc668304bf",
       "version_major": 2,
       "version_minor": 0
      },
      "text/plain": [
       "  0%|          | 0/1 [00:00<?, ?it/s]"
      ]
     },
     "metadata": {},
     "output_type": "display_data"
    }
   ],
   "source": [
    "answers_test = load_dataset(\"json\", data_files=\"test_with_labels.json\")\n",
    "answers_predictions = load_dataset(\"json\", data_files=\"predictions.json\")"
   ]
  },
  {
   "cell_type": "code",
   "execution_count": 4,
   "id": "5e7d6b10",
   "metadata": {
    "ExecuteTime": {
     "start_time": "2023-05-05T18:22:58.410Z"
    },
    "id": "5e7d6b10"
   },
   "outputs": [],
   "source": [
    "predictions_list = []\n",
    "for i, x in enumerate(answers_test[\"train\"]):\n",
    "    for j, y in enumerate(answers_predictions[\"train\"]):\n",
    "        if x[\"id\"] == y[\"id\"]:\n",
    "            if x[\"extracted_part\"][\"text\"] == y[\"extracted_part\"][\"text\"]:\n",
    "                predictions_list.append(1)\n",
    "            else: \n",
    "                predictions_list.append(0)"
   ]
  },
  {
   "cell_type": "code",
   "execution_count": 5,
   "id": "074b541c",
   "metadata": {
    "ExecuteTime": {
     "start_time": "2023-05-05T18:22:58.461Z"
    },
    "colab": {
     "base_uri": "https://localhost:8080/"
    },
    "id": "074b541c",
    "outputId": "1e53b8b2-182c-41ff-c383-09be71662238"
   },
   "outputs": [
    {
     "data": {
      "text/plain": [
       "{'accuracy': 0.8270440251572327}"
      ]
     },
     "execution_count": 5,
     "metadata": {},
     "output_type": "execute_result"
    }
   ],
   "source": [
    "accuracy_metric = evaluate.load(\"accuracy\")\n",
    "results = accuracy_metric.compute(references=[1] * len(answers_test[\"train\"]), predictions=predictions_list)\n",
    "results"
   ]
  },
  {
   "cell_type": "markdown",
   "id": "6e3b9bb5",
   "metadata": {
    "id": "6e3b9bb5"
   },
   "source": [
    "## Вывод исследования"
   ]
  },
  {
   "cell_type": "markdown",
   "id": "e4bbfda4",
   "metadata": {
    "id": "e4bbfda4"
   },
   "source": [
    "В ходе работы было выполнено:\n",
    "\n",
    "* Загружены данные;\n",
    "* Проведен исследовательский анализ данных;\n",
    "* Выполнен Fine-tuning модели из DeepPavlov/rubert-base-cased и проведена преварительная оценка модели на валидационных данных;\n",
    "* Дообучение модели на полном датасете;\n",
    "* Прогнозирование на тестовых данных и формирование результатов;\n",
    "* Проведена оценка модели: точность модели (Accuracy) на тестовых данных составила 0.8270.\n",
    "\n",
    "**Таким образом, была разработана модель, которая способна по паре текст документа и пункт анкеты извлекать из текста документа нужный фрагмент.**"
   ]
  },
  {
   "cell_type": "markdown",
   "id": "b8cd672d",
   "metadata": {},
   "source": [
    "Рекомендации для дальнейшего исследования:\n",
    "* Обучить и протестировать различные модели.\n",
    "* Выполнить подбор оптимальных гиперпараметров."
   ]
  }
 ],
 "metadata": {
  "accelerator": "GPU",
  "colab": {
   "gpuType": "T4",
   "provenance": []
  },
  "gpuClass": "standard",
  "hide_input": false,
  "kernelspec": {
   "display_name": "Python 3 (ipykernel)",
   "language": "python",
   "name": "python3"
  },
  "language_info": {
   "codemirror_mode": {
    "name": "ipython",
    "version": 3
   },
   "file_extension": ".py",
   "mimetype": "text/x-python",
   "name": "python",
   "nbconvert_exporter": "python",
   "pygments_lexer": "ipython3",
   "version": "3.9.13"
  },
  "nbTranslate": {
   "displayLangs": [
    "*"
   ],
   "hotkey": "alt-t",
   "langInMainMenu": true,
   "sourceLang": "en",
   "targetLang": "fr",
   "useGoogleTranslate": true
  },
  "toc": {
   "base_numbering": 1,
   "nav_menu": {},
   "number_sections": true,
   "sideBar": true,
   "skip_h1_title": true,
   "title_cell": "Содержание",
   "title_sidebar": "Contents",
   "toc_cell": true,
   "toc_position": {
    "height": "541.6px",
    "left": "21px",
    "top": "182.525px",
    "width": "308.625px"
   },
   "toc_section_display": true,
   "toc_window_display": true
  },
  "varInspector": {
   "cols": {
    "lenName": 16,
    "lenType": 16,
    "lenVar": 40
   },
   "kernels_config": {
    "python": {
     "delete_cmd_postfix": "",
     "delete_cmd_prefix": "del ",
     "library": "var_list.py",
     "varRefreshCmd": "print(var_dic_list())"
    },
    "r": {
     "delete_cmd_postfix": ") ",
     "delete_cmd_prefix": "rm(",
     "library": "var_list.r",
     "varRefreshCmd": "cat(var_dic_list()) "
    }
   },
   "types_to_exclude": [
    "module",
    "function",
    "builtin_function_or_method",
    "instance",
    "_Feature"
   ],
   "window_display": false
  },
  "widgets": {
   "application/vnd.jupyter.widget-state+json": {
    "0104e0ac03ea4280aee14f2980781b0d": {
     "model_module": "@jupyter-widgets/controls",
     "model_module_version": "1.5.0",
     "model_name": "ProgressStyleModel",
     "state": {
      "_model_module": "@jupyter-widgets/controls",
      "_model_module_version": "1.5.0",
      "_model_name": "ProgressStyleModel",
      "_view_count": null,
      "_view_module": "@jupyter-widgets/base",
      "_view_module_version": "1.2.0",
      "_view_name": "StyleView",
      "bar_color": null,
      "description_width": ""
     }
    },
    "02b64a42d31c442ebc1d157b5d8cfc7f": {
     "model_module": "@jupyter-widgets/controls",
     "model_module_version": "1.5.0",
     "model_name": "FloatProgressModel",
     "state": {
      "_dom_classes": [],
      "_model_module": "@jupyter-widgets/controls",
      "_model_module_version": "1.5.0",
      "_model_name": "FloatProgressModel",
      "_view_count": null,
      "_view_module": "@jupyter-widgets/controls",
      "_view_module_version": "1.5.0",
      "_view_name": "ProgressView",
      "bar_style": "success",
      "description": "",
      "description_tooltip": null,
      "layout": "IPY_MODEL_d8b70bf0aaa84f3cb90add8077c28e7e",
      "max": 1,
      "min": 0,
      "orientation": "horizontal",
      "style": "IPY_MODEL_0ca67a4bcf4f471585a658c5231a01f9",
      "value": 1
     }
    },
    "032c0d3ced5f416eada19713f232fc94": {
     "model_module": "@jupyter-widgets/controls",
     "model_module_version": "1.5.0",
     "model_name": "DescriptionStyleModel",
     "state": {
      "_model_module": "@jupyter-widgets/controls",
      "_model_module_version": "1.5.0",
      "_model_name": "DescriptionStyleModel",
      "_view_count": null,
      "_view_module": "@jupyter-widgets/base",
      "_view_module_version": "1.2.0",
      "_view_name": "StyleView",
      "description_width": ""
     }
    },
    "03f773ae5ceb4bfd90c2a6518385ac5b": {
     "model_module": "@jupyter-widgets/controls",
     "model_module_version": "1.5.0",
     "model_name": "DescriptionStyleModel",
     "state": {
      "_model_module": "@jupyter-widgets/controls",
      "_model_module_version": "1.5.0",
      "_model_name": "DescriptionStyleModel",
      "_view_count": null,
      "_view_module": "@jupyter-widgets/base",
      "_view_module_version": "1.2.0",
      "_view_name": "StyleView",
      "description_width": ""
     }
    },
    "0643bc47f8984f7b82875ffbaf5ee991": {
     "model_module": "@jupyter-widgets/controls",
     "model_module_version": "1.5.0",
     "model_name": "HTMLModel",
     "state": {
      "_dom_classes": [],
      "_model_module": "@jupyter-widgets/controls",
      "_model_module_version": "1.5.0",
      "_model_name": "HTMLModel",
      "_view_count": null,
      "_view_module": "@jupyter-widgets/controls",
      "_view_module_version": "1.5.0",
      "_view_name": "HTMLView",
      "description": "",
      "description_tooltip": null,
      "layout": "IPY_MODEL_ac62cddf1fff404a9d270796e3a0ff66",
      "placeholder": "​",
      "style": "IPY_MODEL_9de51137e9d743ad92aafeb433f776da",
      "value": "Downloading data files: 100%"
     }
    },
    "072e22da9cd645219fc15c176aae4c22": {
     "model_module": "@jupyter-widgets/controls",
     "model_module_version": "1.5.0",
     "model_name": "HBoxModel",
     "state": {
      "_dom_classes": [],
      "_model_module": "@jupyter-widgets/controls",
      "_model_module_version": "1.5.0",
      "_model_name": "HBoxModel",
      "_view_count": null,
      "_view_module": "@jupyter-widgets/controls",
      "_view_module_version": "1.5.0",
      "_view_name": "HBoxView",
      "box_style": "",
      "children": [
       "IPY_MODEL_860797a7e3ec403591bada2d1dd625cb",
       "IPY_MODEL_bf1e8647f7044a4b8ea1ed14f0c942e0",
       "IPY_MODEL_8aab6b71e17d489687d84b04c5e2946a"
      ],
      "layout": "IPY_MODEL_372533e2aa1d4bd281a5f151299b94f4"
     }
    },
    "08a4b8c8fa234313a23fc0b306857745": {
     "model_module": "@jupyter-widgets/controls",
     "model_module_version": "1.5.0",
     "model_name": "HTMLModel",
     "state": {
      "_dom_classes": [],
      "_model_module": "@jupyter-widgets/controls",
      "_model_module_version": "1.5.0",
      "_model_name": "HTMLModel",
      "_view_count": null,
      "_view_module": "@jupyter-widgets/controls",
      "_view_module_version": "1.5.0",
      "_view_name": "HTMLView",
      "description": "",
      "description_tooltip": null,
      "layout": "IPY_MODEL_ce9e1e77954f46ddbe263b6a67635781",
      "placeholder": "​",
      "style": "IPY_MODEL_ccb9c76f00fa4028b21e3c6dfb477340",
      "value": "Generating train split: "
     }
    },
    "0c15d4bc4a324980ae8d98c942d90ee8": {
     "model_module": "@jupyter-widgets/controls",
     "model_module_version": "1.5.0",
     "model_name": "FloatProgressModel",
     "state": {
      "_dom_classes": [],
      "_model_module": "@jupyter-widgets/controls",
      "_model_module_version": "1.5.0",
      "_model_name": "FloatProgressModel",
      "_view_count": null,
      "_view_module": "@jupyter-widgets/controls",
      "_view_module_version": "1.5.0",
      "_view_name": "ProgressView",
      "bar_style": "",
      "description": "",
      "description_tooltip": null,
      "layout": "IPY_MODEL_b002b3bb352e4ce0a05fc038fac3d63a",
      "max": 299,
      "min": 0,
      "orientation": "horizontal",
      "style": "IPY_MODEL_bb5562484cf548cd9426ac23af8802b3",
      "value": 299
     }
    },
    "0ca67a4bcf4f471585a658c5231a01f9": {
     "model_module": "@jupyter-widgets/controls",
     "model_module_version": "1.5.0",
     "model_name": "ProgressStyleModel",
     "state": {
      "_model_module": "@jupyter-widgets/controls",
      "_model_module_version": "1.5.0",
      "_model_name": "ProgressStyleModel",
      "_view_count": null,
      "_view_module": "@jupyter-widgets/base",
      "_view_module_version": "1.2.0",
      "_view_name": "StyleView",
      "bar_color": null,
      "description_width": ""
     }
    },
    "0dc57d64467c4ba788e764c8eba56a17": {
     "model_module": "@jupyter-widgets/controls",
     "model_module_version": "1.5.0",
     "model_name": "ProgressStyleModel",
     "state": {
      "_model_module": "@jupyter-widgets/controls",
      "_model_module_version": "1.5.0",
      "_model_name": "ProgressStyleModel",
      "_view_count": null,
      "_view_module": "@jupyter-widgets/base",
      "_view_module_version": "1.2.0",
      "_view_name": "StyleView",
      "bar_color": null,
      "description_width": ""
     }
    },
    "0e01fdd06ecd48ae97b5c3e9b1d3abb3": {
     "model_module": "@jupyter-widgets/base",
     "model_module_version": "1.2.0",
     "model_name": "LayoutModel",
     "state": {
      "_model_module": "@jupyter-widgets/base",
      "_model_module_version": "1.2.0",
      "_model_name": "LayoutModel",
      "_view_count": null,
      "_view_module": "@jupyter-widgets/base",
      "_view_module_version": "1.2.0",
      "_view_name": "LayoutView",
      "align_content": null,
      "align_items": null,
      "align_self": null,
      "border": null,
      "bottom": null,
      "display": null,
      "flex": null,
      "flex_flow": null,
      "grid_area": null,
      "grid_auto_columns": null,
      "grid_auto_flow": null,
      "grid_auto_rows": null,
      "grid_column": null,
      "grid_gap": null,
      "grid_row": null,
      "grid_template_areas": null,
      "grid_template_columns": null,
      "grid_template_rows": null,
      "height": null,
      "justify_content": null,
      "justify_items": null,
      "left": null,
      "margin": null,
      "max_height": null,
      "max_width": null,
      "min_height": null,
      "min_width": null,
      "object_fit": null,
      "object_position": null,
      "order": null,
      "overflow": null,
      "overflow_x": null,
      "overflow_y": null,
      "padding": null,
      "right": null,
      "top": null,
      "visibility": null,
      "width": null
     }
    },
    "10d4ae54f01c4424981bb6478a9c52ae": {
     "model_module": "@jupyter-widgets/base",
     "model_module_version": "1.2.0",
     "model_name": "LayoutModel",
     "state": {
      "_model_module": "@jupyter-widgets/base",
      "_model_module_version": "1.2.0",
      "_model_name": "LayoutModel",
      "_view_count": null,
      "_view_module": "@jupyter-widgets/base",
      "_view_module_version": "1.2.0",
      "_view_name": "LayoutView",
      "align_content": null,
      "align_items": null,
      "align_self": null,
      "border": null,
      "bottom": null,
      "display": null,
      "flex": null,
      "flex_flow": null,
      "grid_area": null,
      "grid_auto_columns": null,
      "grid_auto_flow": null,
      "grid_auto_rows": null,
      "grid_column": null,
      "grid_gap": null,
      "grid_row": null,
      "grid_template_areas": null,
      "grid_template_columns": null,
      "grid_template_rows": null,
      "height": null,
      "justify_content": null,
      "justify_items": null,
      "left": null,
      "margin": null,
      "max_height": null,
      "max_width": null,
      "min_height": null,
      "min_width": null,
      "object_fit": null,
      "object_position": null,
      "order": null,
      "overflow": null,
      "overflow_x": null,
      "overflow_y": null,
      "padding": null,
      "right": null,
      "top": null,
      "visibility": null,
      "width": null
     }
    },
    "10f18e81eec4411896f299b46d47e8d0": {
     "model_module": "@jupyter-widgets/controls",
     "model_module_version": "1.5.0",
     "model_name": "HTMLModel",
     "state": {
      "_dom_classes": [],
      "_model_module": "@jupyter-widgets/controls",
      "_model_module_version": "1.5.0",
      "_model_name": "HTMLModel",
      "_view_count": null,
      "_view_module": "@jupyter-widgets/controls",
      "_view_module_version": "1.5.0",
      "_view_name": "HTMLView",
      "description": "",
      "description_tooltip": null,
      "layout": "IPY_MODEL_3e423eb0811d4ced834090ee3dcd2b1f",
      "placeholder": "​",
      "style": "IPY_MODEL_511ea609f1f4406f822ae89d7bf664b6",
      "value": "Extracting data files: 100%"
     }
    },
    "13d9497b1d914253aef8718d4d23d051": {
     "model_module": "@jupyter-widgets/base",
     "model_module_version": "1.2.0",
     "model_name": "LayoutModel",
     "state": {
      "_model_module": "@jupyter-widgets/base",
      "_model_module_version": "1.2.0",
      "_model_name": "LayoutModel",
      "_view_count": null,
      "_view_module": "@jupyter-widgets/base",
      "_view_module_version": "1.2.0",
      "_view_name": "LayoutView",
      "align_content": null,
      "align_items": null,
      "align_self": null,
      "border": null,
      "bottom": null,
      "display": null,
      "flex": null,
      "flex_flow": null,
      "grid_area": null,
      "grid_auto_columns": null,
      "grid_auto_flow": null,
      "grid_auto_rows": null,
      "grid_column": null,
      "grid_gap": null,
      "grid_row": null,
      "grid_template_areas": null,
      "grid_template_columns": null,
      "grid_template_rows": null,
      "height": null,
      "justify_content": null,
      "justify_items": null,
      "left": null,
      "margin": null,
      "max_height": null,
      "max_width": null,
      "min_height": null,
      "min_width": null,
      "object_fit": null,
      "object_position": null,
      "order": null,
      "overflow": null,
      "overflow_x": null,
      "overflow_y": null,
      "padding": null,
      "right": null,
      "top": null,
      "visibility": null,
      "width": null
     }
    },
    "15c04a2b05da473ebcdb143e3400db5f": {
     "model_module": "@jupyter-widgets/base",
     "model_module_version": "1.2.0",
     "model_name": "LayoutModel",
     "state": {
      "_model_module": "@jupyter-widgets/base",
      "_model_module_version": "1.2.0",
      "_model_name": "LayoutModel",
      "_view_count": null,
      "_view_module": "@jupyter-widgets/base",
      "_view_module_version": "1.2.0",
      "_view_name": "LayoutView",
      "align_content": null,
      "align_items": null,
      "align_self": null,
      "border": null,
      "bottom": null,
      "display": null,
      "flex": null,
      "flex_flow": null,
      "grid_area": null,
      "grid_auto_columns": null,
      "grid_auto_flow": null,
      "grid_auto_rows": null,
      "grid_column": null,
      "grid_gap": null,
      "grid_row": null,
      "grid_template_areas": null,
      "grid_template_columns": null,
      "grid_template_rows": null,
      "height": null,
      "justify_content": null,
      "justify_items": null,
      "left": null,
      "margin": null,
      "max_height": null,
      "max_width": null,
      "min_height": null,
      "min_width": null,
      "object_fit": null,
      "object_position": null,
      "order": null,
      "overflow": null,
      "overflow_x": null,
      "overflow_y": null,
      "padding": null,
      "right": null,
      "top": null,
      "visibility": null,
      "width": null
     }
    },
    "16d2958fb5be4f689232d44572ebe016": {
     "model_module": "@jupyter-widgets/base",
     "model_module_version": "1.2.0",
     "model_name": "LayoutModel",
     "state": {
      "_model_module": "@jupyter-widgets/base",
      "_model_module_version": "1.2.0",
      "_model_name": "LayoutModel",
      "_view_count": null,
      "_view_module": "@jupyter-widgets/base",
      "_view_module_version": "1.2.0",
      "_view_name": "LayoutView",
      "align_content": null,
      "align_items": null,
      "align_self": null,
      "border": null,
      "bottom": null,
      "display": null,
      "flex": null,
      "flex_flow": null,
      "grid_area": null,
      "grid_auto_columns": null,
      "grid_auto_flow": null,
      "grid_auto_rows": null,
      "grid_column": null,
      "grid_gap": null,
      "grid_row": null,
      "grid_template_areas": null,
      "grid_template_columns": null,
      "grid_template_rows": null,
      "height": null,
      "justify_content": null,
      "justify_items": null,
      "left": null,
      "margin": null,
      "max_height": null,
      "max_width": null,
      "min_height": null,
      "min_width": null,
      "object_fit": null,
      "object_position": null,
      "order": null,
      "overflow": null,
      "overflow_x": null,
      "overflow_y": null,
      "padding": null,
      "right": null,
      "top": null,
      "visibility": null,
      "width": null
     }
    },
    "16d716cb48374cba91cc97da97d418d1": {
     "model_module": "@jupyter-widgets/controls",
     "model_module_version": "1.5.0",
     "model_name": "HTMLModel",
     "state": {
      "_dom_classes": [],
      "_model_module": "@jupyter-widgets/controls",
      "_model_module_version": "1.5.0",
      "_model_name": "HTMLModel",
      "_view_count": null,
      "_view_module": "@jupyter-widgets/controls",
      "_view_module_version": "1.5.0",
      "_view_name": "HTMLView",
      "description": "",
      "description_tooltip": null,
      "layout": "IPY_MODEL_1a3d37b5864645cebf111ae46720a1fa",
      "placeholder": "​",
      "style": "IPY_MODEL_03f773ae5ceb4bfd90c2a6518385ac5b",
      "value": "Downloading builder script: 100%"
     }
    },
    "16f7bf7396a1457e80bbf7582d0ce69a": {
     "model_module": "@jupyter-widgets/base",
     "model_module_version": "1.2.0",
     "model_name": "LayoutModel",
     "state": {
      "_model_module": "@jupyter-widgets/base",
      "_model_module_version": "1.2.0",
      "_model_name": "LayoutModel",
      "_view_count": null,
      "_view_module": "@jupyter-widgets/base",
      "_view_module_version": "1.2.0",
      "_view_name": "LayoutView",
      "align_content": null,
      "align_items": null,
      "align_self": null,
      "border": null,
      "bottom": null,
      "display": null,
      "flex": null,
      "flex_flow": null,
      "grid_area": null,
      "grid_auto_columns": null,
      "grid_auto_flow": null,
      "grid_auto_rows": null,
      "grid_column": null,
      "grid_gap": null,
      "grid_row": null,
      "grid_template_areas": null,
      "grid_template_columns": null,
      "grid_template_rows": null,
      "height": null,
      "justify_content": null,
      "justify_items": null,
      "left": null,
      "margin": null,
      "max_height": null,
      "max_width": null,
      "min_height": null,
      "min_width": null,
      "object_fit": null,
      "object_position": null,
      "order": null,
      "overflow": null,
      "overflow_x": null,
      "overflow_y": null,
      "padding": null,
      "right": null,
      "top": null,
      "visibility": null,
      "width": null
     }
    },
    "174fb9335ada4f0692429695a52d7cc3": {
     "model_module": "@jupyter-widgets/controls",
     "model_module_version": "1.5.0",
     "model_name": "ProgressStyleModel",
     "state": {
      "_model_module": "@jupyter-widgets/controls",
      "_model_module_version": "1.5.0",
      "_model_name": "ProgressStyleModel",
      "_view_count": null,
      "_view_module": "@jupyter-widgets/base",
      "_view_module_version": "1.2.0",
      "_view_name": "StyleView",
      "bar_color": null,
      "description_width": ""
     }
    },
    "17fb246809d04bf6968fe6a06b8e0257": {
     "model_module": "@jupyter-widgets/controls",
     "model_module_version": "1.5.0",
     "model_name": "FloatProgressModel",
     "state": {
      "_dom_classes": [],
      "_model_module": "@jupyter-widgets/controls",
      "_model_module_version": "1.5.0",
      "_model_name": "FloatProgressModel",
      "_view_count": null,
      "_view_module": "@jupyter-widgets/controls",
      "_view_module_version": "1.5.0",
      "_view_name": "ProgressView",
      "bar_style": "success",
      "description": "",
      "description_tooltip": null,
      "layout": "IPY_MODEL_de056f4ba38448e49322755a5d9ae1c0",
      "max": 318,
      "min": 0,
      "orientation": "horizontal",
      "style": "IPY_MODEL_bd9d51ff22994ede833f514fa886da8f",
      "value": 318
     }
    },
    "1917909e72d2404091cc40784ee6f350": {
     "model_module": "@jupyter-widgets/controls",
     "model_module_version": "1.5.0",
     "model_name": "ProgressStyleModel",
     "state": {
      "_model_module": "@jupyter-widgets/controls",
      "_model_module_version": "1.5.0",
      "_model_name": "ProgressStyleModel",
      "_view_count": null,
      "_view_module": "@jupyter-widgets/base",
      "_view_module_version": "1.2.0",
      "_view_name": "StyleView",
      "bar_color": null,
      "description_width": ""
     }
    },
    "1a3d37b5864645cebf111ae46720a1fa": {
     "model_module": "@jupyter-widgets/base",
     "model_module_version": "1.2.0",
     "model_name": "LayoutModel",
     "state": {
      "_model_module": "@jupyter-widgets/base",
      "_model_module_version": "1.2.0",
      "_model_name": "LayoutModel",
      "_view_count": null,
      "_view_module": "@jupyter-widgets/base",
      "_view_module_version": "1.2.0",
      "_view_name": "LayoutView",
      "align_content": null,
      "align_items": null,
      "align_self": null,
      "border": null,
      "bottom": null,
      "display": null,
      "flex": null,
      "flex_flow": null,
      "grid_area": null,
      "grid_auto_columns": null,
      "grid_auto_flow": null,
      "grid_auto_rows": null,
      "grid_column": null,
      "grid_gap": null,
      "grid_row": null,
      "grid_template_areas": null,
      "grid_template_columns": null,
      "grid_template_rows": null,
      "height": null,
      "justify_content": null,
      "justify_items": null,
      "left": null,
      "margin": null,
      "max_height": null,
      "max_width": null,
      "min_height": null,
      "min_width": null,
      "object_fit": null,
      "object_position": null,
      "order": null,
      "overflow": null,
      "overflow_x": null,
      "overflow_y": null,
      "padding": null,
      "right": null,
      "top": null,
      "visibility": null,
      "width": null
     }
    },
    "1b56e64e497e45a58bf3da140ea0ff53": {
     "model_module": "@jupyter-widgets/controls",
     "model_module_version": "1.5.0",
     "model_name": "HBoxModel",
     "state": {
      "_dom_classes": [],
      "_model_module": "@jupyter-widgets/controls",
      "_model_module_version": "1.5.0",
      "_model_name": "HBoxModel",
      "_view_count": null,
      "_view_module": "@jupyter-widgets/controls",
      "_view_module_version": "1.5.0",
      "_view_name": "HBoxView",
      "box_style": "",
      "children": [
       "IPY_MODEL_10f18e81eec4411896f299b46d47e8d0",
       "IPY_MODEL_27506f4752a84edc8a50bf1b24970a54",
       "IPY_MODEL_7741477051f0454c9afb3b00765551a0"
      ],
      "layout": "IPY_MODEL_c456f53ac97b451d8fa1d74f4b223298"
     }
    },
    "1d87b8f1384d4ba287fe278b3b18602d": {
     "model_module": "@jupyter-widgets/controls",
     "model_module_version": "1.5.0",
     "model_name": "HTMLModel",
     "state": {
      "_dom_classes": [],
      "_model_module": "@jupyter-widgets/controls",
      "_model_module_version": "1.5.0",
      "_model_name": "HTMLModel",
      "_view_count": null,
      "_view_module": "@jupyter-widgets/controls",
      "_view_module_version": "1.5.0",
      "_view_name": "HTMLView",
      "description": "",
      "description_tooltip": null,
      "layout": "IPY_MODEL_13d9497b1d914253aef8718d4d23d051",
      "placeholder": "​",
      "style": "IPY_MODEL_e22ecf428f08400d89adcf17fed97866",
      "value": "Extracting data files: 100%"
     }
    },
    "1e84b5a8cdbd4230b4cacb6919281199": {
     "model_module": "@jupyter-widgets/controls",
     "model_module_version": "1.5.0",
     "model_name": "FloatProgressModel",
     "state": {
      "_dom_classes": [],
      "_model_module": "@jupyter-widgets/controls",
      "_model_module_version": "1.5.0",
      "_model_name": "FloatProgressModel",
      "_view_count": null,
      "_view_module": "@jupyter-widgets/controls",
      "_view_module_version": "1.5.0",
      "_view_name": "ProgressView",
      "bar_style": "success",
      "description": "",
      "description_tooltip": null,
      "layout": "IPY_MODEL_5a4f586e56c34bd983a15acf7a366a33",
      "max": 1,
      "min": 0,
      "orientation": "horizontal",
      "style": "IPY_MODEL_fd3baa0e6718470c9d24af190ab96954",
      "value": 1
     }
    },
    "1fee552d09224e9b8a9d630808f6ad49": {
     "model_module": "@jupyter-widgets/base",
     "model_module_version": "1.2.0",
     "model_name": "LayoutModel",
     "state": {
      "_model_module": "@jupyter-widgets/base",
      "_model_module_version": "1.2.0",
      "_model_name": "LayoutModel",
      "_view_count": null,
      "_view_module": "@jupyter-widgets/base",
      "_view_module_version": "1.2.0",
      "_view_name": "LayoutView",
      "align_content": null,
      "align_items": null,
      "align_self": null,
      "border": null,
      "bottom": null,
      "display": null,
      "flex": null,
      "flex_flow": null,
      "grid_area": null,
      "grid_auto_columns": null,
      "grid_auto_flow": null,
      "grid_auto_rows": null,
      "grid_column": null,
      "grid_gap": null,
      "grid_row": null,
      "grid_template_areas": null,
      "grid_template_columns": null,
      "grid_template_rows": null,
      "height": null,
      "justify_content": null,
      "justify_items": null,
      "left": null,
      "margin": null,
      "max_height": null,
      "max_width": null,
      "min_height": null,
      "min_width": null,
      "object_fit": null,
      "object_position": null,
      "order": null,
      "overflow": null,
      "overflow_x": null,
      "overflow_y": null,
      "padding": null,
      "right": null,
      "top": null,
      "visibility": null,
      "width": null
     }
    },
    "22e6543f51d14f889a309ee7eae1fd3e": {
     "model_module": "@jupyter-widgets/controls",
     "model_module_version": "1.5.0",
     "model_name": "FloatProgressModel",
     "state": {
      "_dom_classes": [],
      "_model_module": "@jupyter-widgets/controls",
      "_model_module_version": "1.5.0",
      "_model_name": "FloatProgressModel",
      "_view_count": null,
      "_view_module": "@jupyter-widgets/controls",
      "_view_module_version": "1.5.0",
      "_view_name": "ProgressView",
      "bar_style": "",
      "description": "",
      "description_tooltip": null,
      "layout": "IPY_MODEL_d9491ae79d984741a7571163a968915b",
      "max": 318,
      "min": 0,
      "orientation": "horizontal",
      "style": "IPY_MODEL_bcfddfbb93234bacab434501cba9d169",
      "value": 318
     }
    },
    "25de6ddce33c47f18e2fdec2e5e5c739": {
     "model_module": "@jupyter-widgets/base",
     "model_module_version": "1.2.0",
     "model_name": "LayoutModel",
     "state": {
      "_model_module": "@jupyter-widgets/base",
      "_model_module_version": "1.2.0",
      "_model_name": "LayoutModel",
      "_view_count": null,
      "_view_module": "@jupyter-widgets/base",
      "_view_module_version": "1.2.0",
      "_view_name": "LayoutView",
      "align_content": null,
      "align_items": null,
      "align_self": null,
      "border": null,
      "bottom": null,
      "display": null,
      "flex": null,
      "flex_flow": null,
      "grid_area": null,
      "grid_auto_columns": null,
      "grid_auto_flow": null,
      "grid_auto_rows": null,
      "grid_column": null,
      "grid_gap": null,
      "grid_row": null,
      "grid_template_areas": null,
      "grid_template_columns": null,
      "grid_template_rows": null,
      "height": null,
      "justify_content": null,
      "justify_items": null,
      "left": null,
      "margin": null,
      "max_height": null,
      "max_width": null,
      "min_height": null,
      "min_width": null,
      "object_fit": null,
      "object_position": null,
      "order": null,
      "overflow": null,
      "overflow_x": null,
      "overflow_y": null,
      "padding": null,
      "right": null,
      "top": null,
      "visibility": null,
      "width": null
     }
    },
    "27506f4752a84edc8a50bf1b24970a54": {
     "model_module": "@jupyter-widgets/controls",
     "model_module_version": "1.5.0",
     "model_name": "FloatProgressModel",
     "state": {
      "_dom_classes": [],
      "_model_module": "@jupyter-widgets/controls",
      "_model_module_version": "1.5.0",
      "_model_name": "FloatProgressModel",
      "_view_count": null,
      "_view_module": "@jupyter-widgets/controls",
      "_view_module_version": "1.5.0",
      "_view_name": "ProgressView",
      "bar_style": "success",
      "description": "",
      "description_tooltip": null,
      "layout": "IPY_MODEL_ede05119f3fc4c43950ee266507cfa19",
      "max": 1,
      "min": 0,
      "orientation": "horizontal",
      "style": "IPY_MODEL_64378ba8c2b94b65a22d5ccea0d60cbd",
      "value": 1
     }
    },
    "2acc610ccb154b73b7abaf4048ecbe7f": {
     "model_module": "@jupyter-widgets/base",
     "model_module_version": "1.2.0",
     "model_name": "LayoutModel",
     "state": {
      "_model_module": "@jupyter-widgets/base",
      "_model_module_version": "1.2.0",
      "_model_name": "LayoutModel",
      "_view_count": null,
      "_view_module": "@jupyter-widgets/base",
      "_view_module_version": "1.2.0",
      "_view_name": "LayoutView",
      "align_content": null,
      "align_items": null,
      "align_self": null,
      "border": null,
      "bottom": null,
      "display": null,
      "flex": null,
      "flex_flow": null,
      "grid_area": null,
      "grid_auto_columns": null,
      "grid_auto_flow": null,
      "grid_auto_rows": null,
      "grid_column": null,
      "grid_gap": null,
      "grid_row": null,
      "grid_template_areas": null,
      "grid_template_columns": null,
      "grid_template_rows": null,
      "height": null,
      "justify_content": null,
      "justify_items": null,
      "left": null,
      "margin": null,
      "max_height": null,
      "max_width": null,
      "min_height": null,
      "min_width": null,
      "object_fit": null,
      "object_position": null,
      "order": null,
      "overflow": null,
      "overflow_x": null,
      "overflow_y": null,
      "padding": null,
      "right": null,
      "top": null,
      "visibility": null,
      "width": "20px"
     }
    },
    "2aebebe6902744079d2344e9522a711e": {
     "model_module": "@jupyter-widgets/base",
     "model_module_version": "1.2.0",
     "model_name": "LayoutModel",
     "state": {
      "_model_module": "@jupyter-widgets/base",
      "_model_module_version": "1.2.0",
      "_model_name": "LayoutModel",
      "_view_count": null,
      "_view_module": "@jupyter-widgets/base",
      "_view_module_version": "1.2.0",
      "_view_name": "LayoutView",
      "align_content": null,
      "align_items": null,
      "align_self": null,
      "border": null,
      "bottom": null,
      "display": null,
      "flex": null,
      "flex_flow": null,
      "grid_area": null,
      "grid_auto_columns": null,
      "grid_auto_flow": null,
      "grid_auto_rows": null,
      "grid_column": null,
      "grid_gap": null,
      "grid_row": null,
      "grid_template_areas": null,
      "grid_template_columns": null,
      "grid_template_rows": null,
      "height": null,
      "justify_content": null,
      "justify_items": null,
      "left": null,
      "margin": null,
      "max_height": null,
      "max_width": null,
      "min_height": null,
      "min_width": null,
      "object_fit": null,
      "object_position": null,
      "order": null,
      "overflow": null,
      "overflow_x": null,
      "overflow_y": null,
      "padding": null,
      "right": null,
      "top": null,
      "visibility": null,
      "width": null
     }
    },
    "2b5e4c58817549a7b20beeacdfdc515e": {
     "model_module": "@jupyter-widgets/controls",
     "model_module_version": "1.5.0",
     "model_name": "HTMLModel",
     "state": {
      "_dom_classes": [],
      "_model_module": "@jupyter-widgets/controls",
      "_model_module_version": "1.5.0",
      "_model_name": "HTMLModel",
      "_view_count": null,
      "_view_module": "@jupyter-widgets/controls",
      "_view_module_version": "1.5.0",
      "_view_name": "HTMLView",
      "description": "",
      "description_tooltip": null,
      "layout": "IPY_MODEL_8c6404dabac346398f60c1742d1634a0",
      "placeholder": "​",
      "style": "IPY_MODEL_f4634a486b60489eb3b7ce6cf3e005f4",
      "value": " 1/1 [00:00&lt;00:00, 32.82it/s]"
     }
    },
    "2b828f1d75ac40eeafde695563b575a9": {
     "model_module": "@jupyter-widgets/base",
     "model_module_version": "1.2.0",
     "model_name": "LayoutModel",
     "state": {
      "_model_module": "@jupyter-widgets/base",
      "_model_module_version": "1.2.0",
      "_model_name": "LayoutModel",
      "_view_count": null,
      "_view_module": "@jupyter-widgets/base",
      "_view_module_version": "1.2.0",
      "_view_name": "LayoutView",
      "align_content": null,
      "align_items": null,
      "align_self": null,
      "border": null,
      "bottom": null,
      "display": null,
      "flex": null,
      "flex_flow": null,
      "grid_area": null,
      "grid_auto_columns": null,
      "grid_auto_flow": null,
      "grid_auto_rows": null,
      "grid_column": null,
      "grid_gap": null,
      "grid_row": null,
      "grid_template_areas": null,
      "grid_template_columns": null,
      "grid_template_rows": null,
      "height": null,
      "justify_content": null,
      "justify_items": null,
      "left": null,
      "margin": null,
      "max_height": null,
      "max_width": null,
      "min_height": null,
      "min_width": null,
      "object_fit": null,
      "object_position": null,
      "order": null,
      "overflow": null,
      "overflow_x": null,
      "overflow_y": null,
      "padding": null,
      "right": null,
      "top": null,
      "visibility": null,
      "width": null
     }
    },
    "2b9dc50cb5124b6da8fab7a56116947e": {
     "model_module": "@jupyter-widgets/controls",
     "model_module_version": "1.5.0",
     "model_name": "ProgressStyleModel",
     "state": {
      "_model_module": "@jupyter-widgets/controls",
      "_model_module_version": "1.5.0",
      "_model_name": "ProgressStyleModel",
      "_view_count": null,
      "_view_module": "@jupyter-widgets/base",
      "_view_module_version": "1.2.0",
      "_view_name": "StyleView",
      "bar_color": null,
      "description_width": ""
     }
    },
    "2bb74abb7a7b4cc6a4732b79d8da4d98": {
     "model_module": "@jupyter-widgets/controls",
     "model_module_version": "1.5.0",
     "model_name": "HTMLModel",
     "state": {
      "_dom_classes": [],
      "_model_module": "@jupyter-widgets/controls",
      "_model_module_version": "1.5.0",
      "_model_name": "HTMLModel",
      "_view_count": null,
      "_view_module": "@jupyter-widgets/controls",
      "_view_module_version": "1.5.0",
      "_view_name": "HTMLView",
      "description": "",
      "description_tooltip": null,
      "layout": "IPY_MODEL_9737fed8d9384331adf9c727d2ddc489",
      "placeholder": "​",
      "style": "IPY_MODEL_7d970aba0123416685731dc035e1723e",
      "value": " 299/299 [00:00&lt;00:00, 421.97 examples/s]"
     }
    },
    "2d1708afebd54491944da2e35fc2b94b": {
     "model_module": "@jupyter-widgets/controls",
     "model_module_version": "1.5.0",
     "model_name": "HTMLModel",
     "state": {
      "_dom_classes": [],
      "_model_module": "@jupyter-widgets/controls",
      "_model_module_version": "1.5.0",
      "_model_name": "HTMLModel",
      "_view_count": null,
      "_view_module": "@jupyter-widgets/controls",
      "_view_module_version": "1.5.0",
      "_view_name": "HTMLView",
      "description": "",
      "description_tooltip": null,
      "layout": "IPY_MODEL_aeaf6f4f362d4935859934d961803b7e",
      "placeholder": "​",
      "style": "IPY_MODEL_b7ce13c98ea24fd08b3ffba2390dbc70",
      "value": "Downloading data files: 100%"
     }
    },
    "2f97aa722daf4f2cb7db466a7ff2deab": {
     "model_module": "@jupyter-widgets/controls",
     "model_module_version": "1.5.0",
     "model_name": "HBoxModel",
     "state": {
      "_dom_classes": [],
      "_model_module": "@jupyter-widgets/controls",
      "_model_module_version": "1.5.0",
      "_model_name": "HBoxModel",
      "_view_count": null,
      "_view_module": "@jupyter-widgets/controls",
      "_view_module_version": "1.5.0",
      "_view_name": "HBoxView",
      "box_style": "",
      "children": [
       "IPY_MODEL_97c887b4b33a48b89817b5373b71f543",
       "IPY_MODEL_f14a0bc166664e068f15f10ac1a96d0e",
       "IPY_MODEL_cfc09376d1c74c739e585482e00a36a0"
      ],
      "layout": "IPY_MODEL_61ac33fe37144764835327d3a4ec112b"
     }
    },
    "2fc6eb5c89804760b571ab8726e096a5": {
     "model_module": "@jupyter-widgets/base",
     "model_module_version": "1.2.0",
     "model_name": "LayoutModel",
     "state": {
      "_model_module": "@jupyter-widgets/base",
      "_model_module_version": "1.2.0",
      "_model_name": "LayoutModel",
      "_view_count": null,
      "_view_module": "@jupyter-widgets/base",
      "_view_module_version": "1.2.0",
      "_view_name": "LayoutView",
      "align_content": null,
      "align_items": null,
      "align_self": null,
      "border": null,
      "bottom": null,
      "display": null,
      "flex": null,
      "flex_flow": null,
      "grid_area": null,
      "grid_auto_columns": null,
      "grid_auto_flow": null,
      "grid_auto_rows": null,
      "grid_column": null,
      "grid_gap": null,
      "grid_row": null,
      "grid_template_areas": null,
      "grid_template_columns": null,
      "grid_template_rows": null,
      "height": null,
      "justify_content": null,
      "justify_items": null,
      "left": null,
      "margin": null,
      "max_height": null,
      "max_width": null,
      "min_height": null,
      "min_width": null,
      "object_fit": null,
      "object_position": null,
      "order": null,
      "overflow": null,
      "overflow_x": null,
      "overflow_y": null,
      "padding": null,
      "right": null,
      "top": null,
      "visibility": null,
      "width": null
     }
    },
    "3116a37834664d20b5cc622f6a226325": {
     "model_module": "@jupyter-widgets/controls",
     "model_module_version": "1.5.0",
     "model_name": "ProgressStyleModel",
     "state": {
      "_model_module": "@jupyter-widgets/controls",
      "_model_module_version": "1.5.0",
      "_model_name": "ProgressStyleModel",
      "_view_count": null,
      "_view_module": "@jupyter-widgets/base",
      "_view_module_version": "1.2.0",
      "_view_name": "StyleView",
      "bar_color": null,
      "description_width": ""
     }
    },
    "31628e70ea18482fab6b42ffcb62fb38": {
     "model_module": "@jupyter-widgets/controls",
     "model_module_version": "1.5.0",
     "model_name": "HTMLModel",
     "state": {
      "_dom_classes": [],
      "_model_module": "@jupyter-widgets/controls",
      "_model_module_version": "1.5.0",
      "_model_name": "HTMLModel",
      "_view_count": null,
      "_view_module": "@jupyter-widgets/controls",
      "_view_module_version": "1.5.0",
      "_view_name": "HTMLView",
      "description": "",
      "description_tooltip": null,
      "layout": "IPY_MODEL_2fc6eb5c89804760b571ab8726e096a5",
      "placeholder": "​",
      "style": "IPY_MODEL_032c0d3ced5f416eada19713f232fc94",
      "value": "100%"
     }
    },
    "320f6ec92ff74e3490e4a1348dcc5041": {
     "model_module": "@jupyter-widgets/controls",
     "model_module_version": "1.5.0",
     "model_name": "DescriptionStyleModel",
     "state": {
      "_model_module": "@jupyter-widgets/controls",
      "_model_module_version": "1.5.0",
      "_model_name": "DescriptionStyleModel",
      "_view_count": null,
      "_view_module": "@jupyter-widgets/base",
      "_view_module_version": "1.2.0",
      "_view_name": "StyleView",
      "description_width": ""
     }
    },
    "32426457036f4696b90a7177c8e52f78": {
     "model_module": "@jupyter-widgets/controls",
     "model_module_version": "1.5.0",
     "model_name": "HTMLModel",
     "state": {
      "_dom_classes": [],
      "_model_module": "@jupyter-widgets/controls",
      "_model_module_version": "1.5.0",
      "_model_name": "HTMLModel",
      "_view_count": null,
      "_view_module": "@jupyter-widgets/controls",
      "_view_module_version": "1.5.0",
      "_view_name": "HTMLView",
      "description": "",
      "description_tooltip": null,
      "layout": "IPY_MODEL_9d7d8b52277a4538b42c972c83c69fc5",
      "placeholder": "​",
      "style": "IPY_MODEL_3da759a826ad4656b8f85bb1e52b5598",
      "value": " 1/1 [00:00&lt;00:00, 48.28it/s]"
     }
    },
    "34638cc92a5743078a786dcd591e5630": {
     "model_module": "@jupyter-widgets/base",
     "model_module_version": "1.2.0",
     "model_name": "LayoutModel",
     "state": {
      "_model_module": "@jupyter-widgets/base",
      "_model_module_version": "1.2.0",
      "_model_name": "LayoutModel",
      "_view_count": null,
      "_view_module": "@jupyter-widgets/base",
      "_view_module_version": "1.2.0",
      "_view_name": "LayoutView",
      "align_content": null,
      "align_items": null,
      "align_self": null,
      "border": null,
      "bottom": null,
      "display": null,
      "flex": null,
      "flex_flow": null,
      "grid_area": null,
      "grid_auto_columns": null,
      "grid_auto_flow": null,
      "grid_auto_rows": null,
      "grid_column": null,
      "grid_gap": null,
      "grid_row": null,
      "grid_template_areas": null,
      "grid_template_columns": null,
      "grid_template_rows": null,
      "height": null,
      "justify_content": null,
      "justify_items": null,
      "left": null,
      "margin": null,
      "max_height": null,
      "max_width": null,
      "min_height": null,
      "min_width": null,
      "object_fit": null,
      "object_position": null,
      "order": null,
      "overflow": null,
      "overflow_x": null,
      "overflow_y": null,
      "padding": null,
      "right": null,
      "top": null,
      "visibility": null,
      "width": null
     }
    },
    "3556abefb6ba4c3f93a5eb6cdf5e3a07": {
     "model_module": "@jupyter-widgets/controls",
     "model_module_version": "1.5.0",
     "model_name": "DescriptionStyleModel",
     "state": {
      "_model_module": "@jupyter-widgets/controls",
      "_model_module_version": "1.5.0",
      "_model_name": "DescriptionStyleModel",
      "_view_count": null,
      "_view_module": "@jupyter-widgets/base",
      "_view_module_version": "1.2.0",
      "_view_name": "StyleView",
      "description_width": ""
     }
    },
    "372533e2aa1d4bd281a5f151299b94f4": {
     "model_module": "@jupyter-widgets/base",
     "model_module_version": "1.2.0",
     "model_name": "LayoutModel",
     "state": {
      "_model_module": "@jupyter-widgets/base",
      "_model_module_version": "1.2.0",
      "_model_name": "LayoutModel",
      "_view_count": null,
      "_view_module": "@jupyter-widgets/base",
      "_view_module_version": "1.2.0",
      "_view_name": "LayoutView",
      "align_content": null,
      "align_items": null,
      "align_self": null,
      "border": null,
      "bottom": null,
      "display": null,
      "flex": null,
      "flex_flow": null,
      "grid_area": null,
      "grid_auto_columns": null,
      "grid_auto_flow": null,
      "grid_auto_rows": null,
      "grid_column": null,
      "grid_gap": null,
      "grid_row": null,
      "grid_template_areas": null,
      "grid_template_columns": null,
      "grid_template_rows": null,
      "height": null,
      "justify_content": null,
      "justify_items": null,
      "left": null,
      "margin": null,
      "max_height": null,
      "max_width": null,
      "min_height": null,
      "min_width": null,
      "object_fit": null,
      "object_position": null,
      "order": null,
      "overflow": null,
      "overflow_x": null,
      "overflow_y": null,
      "padding": null,
      "right": null,
      "top": null,
      "visibility": null,
      "width": null
     }
    },
    "3819c5d370f540b48ae7c6333e1c6137": {
     "model_module": "@jupyter-widgets/base",
     "model_module_version": "1.2.0",
     "model_name": "LayoutModel",
     "state": {
      "_model_module": "@jupyter-widgets/base",
      "_model_module_version": "1.2.0",
      "_model_name": "LayoutModel",
      "_view_count": null,
      "_view_module": "@jupyter-widgets/base",
      "_view_module_version": "1.2.0",
      "_view_name": "LayoutView",
      "align_content": null,
      "align_items": null,
      "align_self": null,
      "border": null,
      "bottom": null,
      "display": null,
      "flex": null,
      "flex_flow": null,
      "grid_area": null,
      "grid_auto_columns": null,
      "grid_auto_flow": null,
      "grid_auto_rows": null,
      "grid_column": null,
      "grid_gap": null,
      "grid_row": null,
      "grid_template_areas": null,
      "grid_template_columns": null,
      "grid_template_rows": null,
      "height": null,
      "justify_content": null,
      "justify_items": null,
      "left": null,
      "margin": null,
      "max_height": null,
      "max_width": null,
      "min_height": null,
      "min_width": null,
      "object_fit": null,
      "object_position": null,
      "order": null,
      "overflow": null,
      "overflow_x": null,
      "overflow_y": null,
      "padding": null,
      "right": null,
      "top": null,
      "visibility": null,
      "width": null
     }
    },
    "38e08c51beb147acac2e0141ab8f0147": {
     "model_module": "@jupyter-widgets/base",
     "model_module_version": "1.2.0",
     "model_name": "LayoutModel",
     "state": {
      "_model_module": "@jupyter-widgets/base",
      "_model_module_version": "1.2.0",
      "_model_name": "LayoutModel",
      "_view_count": null,
      "_view_module": "@jupyter-widgets/base",
      "_view_module_version": "1.2.0",
      "_view_name": "LayoutView",
      "align_content": null,
      "align_items": null,
      "align_self": null,
      "border": null,
      "bottom": null,
      "display": null,
      "flex": null,
      "flex_flow": null,
      "grid_area": null,
      "grid_auto_columns": null,
      "grid_auto_flow": null,
      "grid_auto_rows": null,
      "grid_column": null,
      "grid_gap": null,
      "grid_row": null,
      "grid_template_areas": null,
      "grid_template_columns": null,
      "grid_template_rows": null,
      "height": null,
      "justify_content": null,
      "justify_items": null,
      "left": null,
      "margin": null,
      "max_height": null,
      "max_width": null,
      "min_height": null,
      "min_width": null,
      "object_fit": null,
      "object_position": null,
      "order": null,
      "overflow": null,
      "overflow_x": null,
      "overflow_y": null,
      "padding": null,
      "right": null,
      "top": null,
      "visibility": null,
      "width": null
     }
    },
    "3b5099aa4a4b4af4a9ace4b650b96756": {
     "model_module": "@jupyter-widgets/controls",
     "model_module_version": "1.5.0",
     "model_name": "ProgressStyleModel",
     "state": {
      "_model_module": "@jupyter-widgets/controls",
      "_model_module_version": "1.5.0",
      "_model_name": "ProgressStyleModel",
      "_view_count": null,
      "_view_module": "@jupyter-widgets/base",
      "_view_module_version": "1.2.0",
      "_view_name": "StyleView",
      "bar_color": null,
      "description_width": ""
     }
    },
    "3b5330f4f897401f984368f621ca7817": {
     "model_module": "@jupyter-widgets/controls",
     "model_module_version": "1.5.0",
     "model_name": "HTMLModel",
     "state": {
      "_dom_classes": [],
      "_model_module": "@jupyter-widgets/controls",
      "_model_module_version": "1.5.0",
      "_model_name": "HTMLModel",
      "_view_count": null,
      "_view_module": "@jupyter-widgets/controls",
      "_view_module_version": "1.5.0",
      "_view_name": "HTMLView",
      "description": "",
      "description_tooltip": null,
      "layout": "IPY_MODEL_16f7bf7396a1457e80bbf7582d0ce69a",
      "placeholder": "​",
      "style": "IPY_MODEL_8a24fb057d2d44469b938f9da713047d",
      "value": " 318/318 [00:00&lt;00:00, 499.85 examples/s]"
     }
    },
    "3c01ba189e6740f18f8a87ff62c1d7ac": {
     "model_module": "@jupyter-widgets/base",
     "model_module_version": "1.2.0",
     "model_name": "LayoutModel",
     "state": {
      "_model_module": "@jupyter-widgets/base",
      "_model_module_version": "1.2.0",
      "_model_name": "LayoutModel",
      "_view_count": null,
      "_view_module": "@jupyter-widgets/base",
      "_view_module_version": "1.2.0",
      "_view_name": "LayoutView",
      "align_content": null,
      "align_items": null,
      "align_self": null,
      "border": null,
      "bottom": null,
      "display": null,
      "flex": null,
      "flex_flow": null,
      "grid_area": null,
      "grid_auto_columns": null,
      "grid_auto_flow": null,
      "grid_auto_rows": null,
      "grid_column": null,
      "grid_gap": null,
      "grid_row": null,
      "grid_template_areas": null,
      "grid_template_columns": null,
      "grid_template_rows": null,
      "height": null,
      "justify_content": null,
      "justify_items": null,
      "left": null,
      "margin": null,
      "max_height": null,
      "max_width": null,
      "min_height": null,
      "min_width": null,
      "object_fit": null,
      "object_position": null,
      "order": null,
      "overflow": null,
      "overflow_x": null,
      "overflow_y": null,
      "padding": null,
      "right": null,
      "top": null,
      "visibility": null,
      "width": null
     }
    },
    "3c55af8e68224f7e8b2eb19ffbd0b227": {
     "model_module": "@jupyter-widgets/base",
     "model_module_version": "1.2.0",
     "model_name": "LayoutModel",
     "state": {
      "_model_module": "@jupyter-widgets/base",
      "_model_module_version": "1.2.0",
      "_model_name": "LayoutModel",
      "_view_count": null,
      "_view_module": "@jupyter-widgets/base",
      "_view_module_version": "1.2.0",
      "_view_name": "LayoutView",
      "align_content": null,
      "align_items": null,
      "align_self": null,
      "border": null,
      "bottom": null,
      "display": null,
      "flex": null,
      "flex_flow": null,
      "grid_area": null,
      "grid_auto_columns": null,
      "grid_auto_flow": null,
      "grid_auto_rows": null,
      "grid_column": null,
      "grid_gap": null,
      "grid_row": null,
      "grid_template_areas": null,
      "grid_template_columns": null,
      "grid_template_rows": null,
      "height": null,
      "justify_content": null,
      "justify_items": null,
      "left": null,
      "margin": null,
      "max_height": null,
      "max_width": null,
      "min_height": null,
      "min_width": null,
      "object_fit": null,
      "object_position": null,
      "order": null,
      "overflow": null,
      "overflow_x": null,
      "overflow_y": null,
      "padding": null,
      "right": null,
      "top": null,
      "visibility": "hidden",
      "width": null
     }
    },
    "3c8b8c6f04824797a9a74d9c24374e19": {
     "model_module": "@jupyter-widgets/controls",
     "model_module_version": "1.5.0",
     "model_name": "HBoxModel",
     "state": {
      "_dom_classes": [],
      "_model_module": "@jupyter-widgets/controls",
      "_model_module_version": "1.5.0",
      "_model_name": "HBoxModel",
      "_view_count": null,
      "_view_module": "@jupyter-widgets/controls",
      "_view_module_version": "1.5.0",
      "_view_name": "HBoxView",
      "box_style": "",
      "children": [
       "IPY_MODEL_66bf997b929a4e57844af0f038a283de",
       "IPY_MODEL_b34fbbec4e3041c9bbdadf0858652ca3",
       "IPY_MODEL_6f9c8216b3ad43a28de63f23e990fde0"
      ],
      "layout": "IPY_MODEL_3c55af8e68224f7e8b2eb19ffbd0b227"
     }
    },
    "3da759a826ad4656b8f85bb1e52b5598": {
     "model_module": "@jupyter-widgets/controls",
     "model_module_version": "1.5.0",
     "model_name": "DescriptionStyleModel",
     "state": {
      "_model_module": "@jupyter-widgets/controls",
      "_model_module_version": "1.5.0",
      "_model_name": "DescriptionStyleModel",
      "_view_count": null,
      "_view_module": "@jupyter-widgets/base",
      "_view_module_version": "1.2.0",
      "_view_name": "StyleView",
      "description_width": ""
     }
    },
    "3e423eb0811d4ced834090ee3dcd2b1f": {
     "model_module": "@jupyter-widgets/base",
     "model_module_version": "1.2.0",
     "model_name": "LayoutModel",
     "state": {
      "_model_module": "@jupyter-widgets/base",
      "_model_module_version": "1.2.0",
      "_model_name": "LayoutModel",
      "_view_count": null,
      "_view_module": "@jupyter-widgets/base",
      "_view_module_version": "1.2.0",
      "_view_name": "LayoutView",
      "align_content": null,
      "align_items": null,
      "align_self": null,
      "border": null,
      "bottom": null,
      "display": null,
      "flex": null,
      "flex_flow": null,
      "grid_area": null,
      "grid_auto_columns": null,
      "grid_auto_flow": null,
      "grid_auto_rows": null,
      "grid_column": null,
      "grid_gap": null,
      "grid_row": null,
      "grid_template_areas": null,
      "grid_template_columns": null,
      "grid_template_rows": null,
      "height": null,
      "justify_content": null,
      "justify_items": null,
      "left": null,
      "margin": null,
      "max_height": null,
      "max_width": null,
      "min_height": null,
      "min_width": null,
      "object_fit": null,
      "object_position": null,
      "order": null,
      "overflow": null,
      "overflow_x": null,
      "overflow_y": null,
      "padding": null,
      "right": null,
      "top": null,
      "visibility": null,
      "width": null
     }
    },
    "3ea6a4ae6baa4fd68c0f49f2f11b813f": {
     "model_module": "@jupyter-widgets/controls",
     "model_module_version": "1.5.0",
     "model_name": "FloatProgressModel",
     "state": {
      "_dom_classes": [],
      "_model_module": "@jupyter-widgets/controls",
      "_model_module_version": "1.5.0",
      "_model_name": "FloatProgressModel",
      "_view_count": null,
      "_view_module": "@jupyter-widgets/controls",
      "_view_module_version": "1.5.0",
      "_view_name": "ProgressView",
      "bar_style": "",
      "description": "",
      "description_tooltip": null,
      "layout": "IPY_MODEL_b07bb18984274e5a970e2948629d37ce",
      "max": 1492,
      "min": 0,
      "orientation": "horizontal",
      "style": "IPY_MODEL_174fb9335ada4f0692429695a52d7cc3",
      "value": 1492
     }
    },
    "3f0c8568268e4a2e90ca07e76f350abd": {
     "model_module": "@jupyter-widgets/controls",
     "model_module_version": "1.5.0",
     "model_name": "DescriptionStyleModel",
     "state": {
      "_model_module": "@jupyter-widgets/controls",
      "_model_module_version": "1.5.0",
      "_model_name": "DescriptionStyleModel",
      "_view_count": null,
      "_view_module": "@jupyter-widgets/base",
      "_view_module_version": "1.2.0",
      "_view_name": "StyleView",
      "description_width": ""
     }
    },
    "415fbef1ca2e4575b7eb5dcc4a814936": {
     "model_module": "@jupyter-widgets/controls",
     "model_module_version": "1.5.0",
     "model_name": "DescriptionStyleModel",
     "state": {
      "_model_module": "@jupyter-widgets/controls",
      "_model_module_version": "1.5.0",
      "_model_name": "DescriptionStyleModel",
      "_view_count": null,
      "_view_module": "@jupyter-widgets/base",
      "_view_module_version": "1.2.0",
      "_view_name": "StyleView",
      "description_width": ""
     }
    },
    "43fc77328b6b4c9e8e05f04b3ff7ea96": {
     "model_module": "@jupyter-widgets/controls",
     "model_module_version": "1.5.0",
     "model_name": "DescriptionStyleModel",
     "state": {
      "_model_module": "@jupyter-widgets/controls",
      "_model_module_version": "1.5.0",
      "_model_name": "DescriptionStyleModel",
      "_view_count": null,
      "_view_module": "@jupyter-widgets/base",
      "_view_module_version": "1.2.0",
      "_view_name": "StyleView",
      "description_width": ""
     }
    },
    "449c18dd4aee470fb1f2d32dc680fc8c": {
     "model_module": "@jupyter-widgets/base",
     "model_module_version": "1.2.0",
     "model_name": "LayoutModel",
     "state": {
      "_model_module": "@jupyter-widgets/base",
      "_model_module_version": "1.2.0",
      "_model_name": "LayoutModel",
      "_view_count": null,
      "_view_module": "@jupyter-widgets/base",
      "_view_module_version": "1.2.0",
      "_view_name": "LayoutView",
      "align_content": null,
      "align_items": null,
      "align_self": null,
      "border": null,
      "bottom": null,
      "display": null,
      "flex": null,
      "flex_flow": null,
      "grid_area": null,
      "grid_auto_columns": null,
      "grid_auto_flow": null,
      "grid_auto_rows": null,
      "grid_column": null,
      "grid_gap": null,
      "grid_row": null,
      "grid_template_areas": null,
      "grid_template_columns": null,
      "grid_template_rows": null,
      "height": null,
      "justify_content": null,
      "justify_items": null,
      "left": null,
      "margin": null,
      "max_height": null,
      "max_width": null,
      "min_height": null,
      "min_width": null,
      "object_fit": null,
      "object_position": null,
      "order": null,
      "overflow": null,
      "overflow_x": null,
      "overflow_y": null,
      "padding": null,
      "right": null,
      "top": null,
      "visibility": null,
      "width": null
     }
    },
    "473d842ef13444d6804da7ebad208d9f": {
     "model_module": "@jupyter-widgets/controls",
     "model_module_version": "1.5.0",
     "model_name": "DescriptionStyleModel",
     "state": {
      "_model_module": "@jupyter-widgets/controls",
      "_model_module_version": "1.5.0",
      "_model_name": "DescriptionStyleModel",
      "_view_count": null,
      "_view_module": "@jupyter-widgets/base",
      "_view_module_version": "1.2.0",
      "_view_name": "StyleView",
      "description_width": ""
     }
    },
    "48922a36ac2f4f15ae1ed0ebd3fde657": {
     "model_module": "@jupyter-widgets/controls",
     "model_module_version": "1.5.0",
     "model_name": "HBoxModel",
     "state": {
      "_dom_classes": [],
      "_model_module": "@jupyter-widgets/controls",
      "_model_module_version": "1.5.0",
      "_model_name": "HBoxModel",
      "_view_count": null,
      "_view_module": "@jupyter-widgets/controls",
      "_view_module_version": "1.5.0",
      "_view_name": "HBoxView",
      "box_style": "",
      "children": [
       "IPY_MODEL_75c7c222b1644eb3a887440119af2f8f",
       "IPY_MODEL_3ea6a4ae6baa4fd68c0f49f2f11b813f",
       "IPY_MODEL_530ac31b0e6e4b23a9f088e59e1f80c6"
      ],
      "layout": "IPY_MODEL_7528fa346c034cc4abb28b8650890336"
     }
    },
    "4a81490685694af18b4a9656e2bf251c": {
     "model_module": "@jupyter-widgets/controls",
     "model_module_version": "1.5.0",
     "model_name": "HBoxModel",
     "state": {
      "_dom_classes": [],
      "_model_module": "@jupyter-widgets/controls",
      "_model_module_version": "1.5.0",
      "_model_name": "HBoxModel",
      "_view_count": null,
      "_view_module": "@jupyter-widgets/controls",
      "_view_module_version": "1.5.0",
      "_view_name": "HBoxView",
      "box_style": "",
      "children": [
       "IPY_MODEL_a9dc974bcdb24a0e909039588272a80b",
       "IPY_MODEL_0c15d4bc4a324980ae8d98c942d90ee8",
       "IPY_MODEL_2bb74abb7a7b4cc6a4732b79d8da4d98"
      ],
      "layout": "IPY_MODEL_996235ae5c3547848cadfd0f746d276e"
     }
    },
    "4d05ae6d52934687b513ef9b6bd38195": {
     "model_module": "@jupyter-widgets/controls",
     "model_module_version": "1.5.0",
     "model_name": "FloatProgressModel",
     "state": {
      "_dom_classes": [],
      "_model_module": "@jupyter-widgets/controls",
      "_model_module_version": "1.5.0",
      "_model_name": "FloatProgressModel",
      "_view_count": null,
      "_view_module": "@jupyter-widgets/controls",
      "_view_module_version": "1.5.0",
      "_view_name": "ProgressView",
      "bar_style": "success",
      "description": "",
      "description_tooltip": null,
      "layout": "IPY_MODEL_b39fd6df685e49409d0ff1a7dc9d86c6",
      "max": 1,
      "min": 0,
      "orientation": "horizontal",
      "style": "IPY_MODEL_c78b3679e9254d8989badbada54b4de3",
      "value": 1
     }
    },
    "4e65788fdb824dea8e15bbf3ad74a4b1": {
     "model_module": "@jupyter-widgets/base",
     "model_module_version": "1.2.0",
     "model_name": "LayoutModel",
     "state": {
      "_model_module": "@jupyter-widgets/base",
      "_model_module_version": "1.2.0",
      "_model_name": "LayoutModel",
      "_view_count": null,
      "_view_module": "@jupyter-widgets/base",
      "_view_module_version": "1.2.0",
      "_view_name": "LayoutView",
      "align_content": null,
      "align_items": null,
      "align_self": null,
      "border": null,
      "bottom": null,
      "display": null,
      "flex": null,
      "flex_flow": null,
      "grid_area": null,
      "grid_auto_columns": null,
      "grid_auto_flow": null,
      "grid_auto_rows": null,
      "grid_column": null,
      "grid_gap": null,
      "grid_row": null,
      "grid_template_areas": null,
      "grid_template_columns": null,
      "grid_template_rows": null,
      "height": null,
      "justify_content": null,
      "justify_items": null,
      "left": null,
      "margin": null,
      "max_height": null,
      "max_width": null,
      "min_height": null,
      "min_width": null,
      "object_fit": null,
      "object_position": null,
      "order": null,
      "overflow": null,
      "overflow_x": null,
      "overflow_y": null,
      "padding": null,
      "right": null,
      "top": null,
      "visibility": null,
      "width": null
     }
    },
    "4e9bb8a2e9ab4c858b6a19312bf7739a": {
     "model_module": "@jupyter-widgets/base",
     "model_module_version": "1.2.0",
     "model_name": "LayoutModel",
     "state": {
      "_model_module": "@jupyter-widgets/base",
      "_model_module_version": "1.2.0",
      "_model_name": "LayoutModel",
      "_view_count": null,
      "_view_module": "@jupyter-widgets/base",
      "_view_module_version": "1.2.0",
      "_view_name": "LayoutView",
      "align_content": null,
      "align_items": null,
      "align_self": null,
      "border": null,
      "bottom": null,
      "display": null,
      "flex": null,
      "flex_flow": null,
      "grid_area": null,
      "grid_auto_columns": null,
      "grid_auto_flow": null,
      "grid_auto_rows": null,
      "grid_column": null,
      "grid_gap": null,
      "grid_row": null,
      "grid_template_areas": null,
      "grid_template_columns": null,
      "grid_template_rows": null,
      "height": null,
      "justify_content": null,
      "justify_items": null,
      "left": null,
      "margin": null,
      "max_height": null,
      "max_width": null,
      "min_height": null,
      "min_width": null,
      "object_fit": null,
      "object_position": null,
      "order": null,
      "overflow": null,
      "overflow_x": null,
      "overflow_y": null,
      "padding": null,
      "right": null,
      "top": null,
      "visibility": "hidden",
      "width": null
     }
    },
    "5064832d809344c490b40d268991cd96": {
     "model_module": "@jupyter-widgets/base",
     "model_module_version": "1.2.0",
     "model_name": "LayoutModel",
     "state": {
      "_model_module": "@jupyter-widgets/base",
      "_model_module_version": "1.2.0",
      "_model_name": "LayoutModel",
      "_view_count": null,
      "_view_module": "@jupyter-widgets/base",
      "_view_module_version": "1.2.0",
      "_view_name": "LayoutView",
      "align_content": null,
      "align_items": null,
      "align_self": null,
      "border": null,
      "bottom": null,
      "display": null,
      "flex": null,
      "flex_flow": null,
      "grid_area": null,
      "grid_auto_columns": null,
      "grid_auto_flow": null,
      "grid_auto_rows": null,
      "grid_column": null,
      "grid_gap": null,
      "grid_row": null,
      "grid_template_areas": null,
      "grid_template_columns": null,
      "grid_template_rows": null,
      "height": null,
      "justify_content": null,
      "justify_items": null,
      "left": null,
      "margin": null,
      "max_height": null,
      "max_width": null,
      "min_height": null,
      "min_width": null,
      "object_fit": null,
      "object_position": null,
      "order": null,
      "overflow": null,
      "overflow_x": null,
      "overflow_y": null,
      "padding": null,
      "right": null,
      "top": null,
      "visibility": null,
      "width": null
     }
    },
    "511ea609f1f4406f822ae89d7bf664b6": {
     "model_module": "@jupyter-widgets/controls",
     "model_module_version": "1.5.0",
     "model_name": "DescriptionStyleModel",
     "state": {
      "_model_module": "@jupyter-widgets/controls",
      "_model_module_version": "1.5.0",
      "_model_name": "DescriptionStyleModel",
      "_view_count": null,
      "_view_module": "@jupyter-widgets/base",
      "_view_module_version": "1.2.0",
      "_view_name": "StyleView",
      "description_width": ""
     }
    },
    "530ac31b0e6e4b23a9f088e59e1f80c6": {
     "model_module": "@jupyter-widgets/controls",
     "model_module_version": "1.5.0",
     "model_name": "HTMLModel",
     "state": {
      "_dom_classes": [],
      "_model_module": "@jupyter-widgets/controls",
      "_model_module_version": "1.5.0",
      "_model_name": "HTMLModel",
      "_view_count": null,
      "_view_module": "@jupyter-widgets/controls",
      "_view_module_version": "1.5.0",
      "_view_name": "HTMLView",
      "description": "",
      "description_tooltip": null,
      "layout": "IPY_MODEL_0e01fdd06ecd48ae97b5c3e9b1d3abb3",
      "placeholder": "​",
      "style": "IPY_MODEL_70d72f664f0647ddba4dda8bb569b222",
      "value": " 1492/1492 [00:03&lt;00:00, 379.67 examples/s]"
     }
    },
    "534f867b0a264902975bdb70f6c7af60": {
     "model_module": "@jupyter-widgets/controls",
     "model_module_version": "1.5.0",
     "model_name": "DescriptionStyleModel",
     "state": {
      "_model_module": "@jupyter-widgets/controls",
      "_model_module_version": "1.5.0",
      "_model_name": "DescriptionStyleModel",
      "_view_count": null,
      "_view_module": "@jupyter-widgets/base",
      "_view_module_version": "1.2.0",
      "_view_name": "StyleView",
      "description_width": ""
     }
    },
    "53c1e5169cb941939a69aac764c3ec09": {
     "model_module": "@jupyter-widgets/controls",
     "model_module_version": "1.5.0",
     "model_name": "DescriptionStyleModel",
     "state": {
      "_model_module": "@jupyter-widgets/controls",
      "_model_module_version": "1.5.0",
      "_model_name": "DescriptionStyleModel",
      "_view_count": null,
      "_view_module": "@jupyter-widgets/base",
      "_view_module_version": "1.2.0",
      "_view_name": "StyleView",
      "description_width": ""
     }
    },
    "549e32dd4d324c21b81b6adb927e6395": {
     "model_module": "@jupyter-widgets/base",
     "model_module_version": "1.2.0",
     "model_name": "LayoutModel",
     "state": {
      "_model_module": "@jupyter-widgets/base",
      "_model_module_version": "1.2.0",
      "_model_name": "LayoutModel",
      "_view_count": null,
      "_view_module": "@jupyter-widgets/base",
      "_view_module_version": "1.2.0",
      "_view_name": "LayoutView",
      "align_content": null,
      "align_items": null,
      "align_self": null,
      "border": null,
      "bottom": null,
      "display": null,
      "flex": null,
      "flex_flow": null,
      "grid_area": null,
      "grid_auto_columns": null,
      "grid_auto_flow": null,
      "grid_auto_rows": null,
      "grid_column": null,
      "grid_gap": null,
      "grid_row": null,
      "grid_template_areas": null,
      "grid_template_columns": null,
      "grid_template_rows": null,
      "height": null,
      "justify_content": null,
      "justify_items": null,
      "left": null,
      "margin": null,
      "max_height": null,
      "max_width": null,
      "min_height": null,
      "min_width": null,
      "object_fit": null,
      "object_position": null,
      "order": null,
      "overflow": null,
      "overflow_x": null,
      "overflow_y": null,
      "padding": null,
      "right": null,
      "top": null,
      "visibility": null,
      "width": null
     }
    },
    "55391987a08c4405b6891e9d5a28d7c9": {
     "model_module": "@jupyter-widgets/base",
     "model_module_version": "1.2.0",
     "model_name": "LayoutModel",
     "state": {
      "_model_module": "@jupyter-widgets/base",
      "_model_module_version": "1.2.0",
      "_model_name": "LayoutModel",
      "_view_count": null,
      "_view_module": "@jupyter-widgets/base",
      "_view_module_version": "1.2.0",
      "_view_name": "LayoutView",
      "align_content": null,
      "align_items": null,
      "align_self": null,
      "border": null,
      "bottom": null,
      "display": null,
      "flex": null,
      "flex_flow": null,
      "grid_area": null,
      "grid_auto_columns": null,
      "grid_auto_flow": null,
      "grid_auto_rows": null,
      "grid_column": null,
      "grid_gap": null,
      "grid_row": null,
      "grid_template_areas": null,
      "grid_template_columns": null,
      "grid_template_rows": null,
      "height": null,
      "justify_content": null,
      "justify_items": null,
      "left": null,
      "margin": null,
      "max_height": null,
      "max_width": null,
      "min_height": null,
      "min_width": null,
      "object_fit": null,
      "object_position": null,
      "order": null,
      "overflow": null,
      "overflow_x": null,
      "overflow_y": null,
      "padding": null,
      "right": null,
      "top": null,
      "visibility": null,
      "width": null
     }
    },
    "5a4f586e56c34bd983a15acf7a366a33": {
     "model_module": "@jupyter-widgets/base",
     "model_module_version": "1.2.0",
     "model_name": "LayoutModel",
     "state": {
      "_model_module": "@jupyter-widgets/base",
      "_model_module_version": "1.2.0",
      "_model_name": "LayoutModel",
      "_view_count": null,
      "_view_module": "@jupyter-widgets/base",
      "_view_module_version": "1.2.0",
      "_view_name": "LayoutView",
      "align_content": null,
      "align_items": null,
      "align_self": null,
      "border": null,
      "bottom": null,
      "display": null,
      "flex": null,
      "flex_flow": null,
      "grid_area": null,
      "grid_auto_columns": null,
      "grid_auto_flow": null,
      "grid_auto_rows": null,
      "grid_column": null,
      "grid_gap": null,
      "grid_row": null,
      "grid_template_areas": null,
      "grid_template_columns": null,
      "grid_template_rows": null,
      "height": null,
      "justify_content": null,
      "justify_items": null,
      "left": null,
      "margin": null,
      "max_height": null,
      "max_width": null,
      "min_height": null,
      "min_width": null,
      "object_fit": null,
      "object_position": null,
      "order": null,
      "overflow": null,
      "overflow_x": null,
      "overflow_y": null,
      "padding": null,
      "right": null,
      "top": null,
      "visibility": null,
      "width": null
     }
    },
    "5f91aabb7b224db0bddaaf58e529c5e9": {
     "model_module": "@jupyter-widgets/controls",
     "model_module_version": "1.5.0",
     "model_name": "ProgressStyleModel",
     "state": {
      "_model_module": "@jupyter-widgets/controls",
      "_model_module_version": "1.5.0",
      "_model_name": "ProgressStyleModel",
      "_view_count": null,
      "_view_module": "@jupyter-widgets/base",
      "_view_module_version": "1.2.0",
      "_view_name": "StyleView",
      "bar_color": null,
      "description_width": ""
     }
    },
    "61ac33fe37144764835327d3a4ec112b": {
     "model_module": "@jupyter-widgets/base",
     "model_module_version": "1.2.0",
     "model_name": "LayoutModel",
     "state": {
      "_model_module": "@jupyter-widgets/base",
      "_model_module_version": "1.2.0",
      "_model_name": "LayoutModel",
      "_view_count": null,
      "_view_module": "@jupyter-widgets/base",
      "_view_module_version": "1.2.0",
      "_view_name": "LayoutView",
      "align_content": null,
      "align_items": null,
      "align_self": null,
      "border": null,
      "bottom": null,
      "display": null,
      "flex": null,
      "flex_flow": null,
      "grid_area": null,
      "grid_auto_columns": null,
      "grid_auto_flow": null,
      "grid_auto_rows": null,
      "grid_column": null,
      "grid_gap": null,
      "grid_row": null,
      "grid_template_areas": null,
      "grid_template_columns": null,
      "grid_template_rows": null,
      "height": null,
      "justify_content": null,
      "justify_items": null,
      "left": null,
      "margin": null,
      "max_height": null,
      "max_width": null,
      "min_height": null,
      "min_width": null,
      "object_fit": null,
      "object_position": null,
      "order": null,
      "overflow": null,
      "overflow_x": null,
      "overflow_y": null,
      "padding": null,
      "right": null,
      "top": null,
      "visibility": null,
      "width": null
     }
    },
    "61fead7ce3af4ff78bccf7f0886f0b36": {
     "model_module": "@jupyter-widgets/controls",
     "model_module_version": "1.5.0",
     "model_name": "DescriptionStyleModel",
     "state": {
      "_model_module": "@jupyter-widgets/controls",
      "_model_module_version": "1.5.0",
      "_model_name": "DescriptionStyleModel",
      "_view_count": null,
      "_view_module": "@jupyter-widgets/base",
      "_view_module_version": "1.2.0",
      "_view_name": "StyleView",
      "description_width": ""
     }
    },
    "633bb29c7eee49798eaa780c8f405691": {
     "model_module": "@jupyter-widgets/base",
     "model_module_version": "1.2.0",
     "model_name": "LayoutModel",
     "state": {
      "_model_module": "@jupyter-widgets/base",
      "_model_module_version": "1.2.0",
      "_model_name": "LayoutModel",
      "_view_count": null,
      "_view_module": "@jupyter-widgets/base",
      "_view_module_version": "1.2.0",
      "_view_name": "LayoutView",
      "align_content": null,
      "align_items": null,
      "align_self": null,
      "border": null,
      "bottom": null,
      "display": null,
      "flex": null,
      "flex_flow": null,
      "grid_area": null,
      "grid_auto_columns": null,
      "grid_auto_flow": null,
      "grid_auto_rows": null,
      "grid_column": null,
      "grid_gap": null,
      "grid_row": null,
      "grid_template_areas": null,
      "grid_template_columns": null,
      "grid_template_rows": null,
      "height": null,
      "justify_content": null,
      "justify_items": null,
      "left": null,
      "margin": null,
      "max_height": null,
      "max_width": null,
      "min_height": null,
      "min_width": null,
      "object_fit": null,
      "object_position": null,
      "order": null,
      "overflow": null,
      "overflow_x": null,
      "overflow_y": null,
      "padding": null,
      "right": null,
      "top": null,
      "visibility": "hidden",
      "width": null
     }
    },
    "64378ba8c2b94b65a22d5ccea0d60cbd": {
     "model_module": "@jupyter-widgets/controls",
     "model_module_version": "1.5.0",
     "model_name": "ProgressStyleModel",
     "state": {
      "_model_module": "@jupyter-widgets/controls",
      "_model_module_version": "1.5.0",
      "_model_name": "ProgressStyleModel",
      "_view_count": null,
      "_view_module": "@jupyter-widgets/base",
      "_view_module_version": "1.2.0",
      "_view_name": "StyleView",
      "bar_color": null,
      "description_width": ""
     }
    },
    "651bc0d6cac3453b90739f446c146ba7": {
     "model_module": "@jupyter-widgets/base",
     "model_module_version": "1.2.0",
     "model_name": "LayoutModel",
     "state": {
      "_model_module": "@jupyter-widgets/base",
      "_model_module_version": "1.2.0",
      "_model_name": "LayoutModel",
      "_view_count": null,
      "_view_module": "@jupyter-widgets/base",
      "_view_module_version": "1.2.0",
      "_view_name": "LayoutView",
      "align_content": null,
      "align_items": null,
      "align_self": null,
      "border": null,
      "bottom": null,
      "display": null,
      "flex": null,
      "flex_flow": null,
      "grid_area": null,
      "grid_auto_columns": null,
      "grid_auto_flow": null,
      "grid_auto_rows": null,
      "grid_column": null,
      "grid_gap": null,
      "grid_row": null,
      "grid_template_areas": null,
      "grid_template_columns": null,
      "grid_template_rows": null,
      "height": null,
      "justify_content": null,
      "justify_items": null,
      "left": null,
      "margin": null,
      "max_height": null,
      "max_width": null,
      "min_height": null,
      "min_width": null,
      "object_fit": null,
      "object_position": null,
      "order": null,
      "overflow": null,
      "overflow_x": null,
      "overflow_y": null,
      "padding": null,
      "right": null,
      "top": null,
      "visibility": null,
      "width": null
     }
    },
    "66bf997b929a4e57844af0f038a283de": {
     "model_module": "@jupyter-widgets/controls",
     "model_module_version": "1.5.0",
     "model_name": "HTMLModel",
     "state": {
      "_dom_classes": [],
      "_model_module": "@jupyter-widgets/controls",
      "_model_module_version": "1.5.0",
      "_model_name": "HTMLModel",
      "_view_count": null,
      "_view_module": "@jupyter-widgets/controls",
      "_view_module_version": "1.5.0",
      "_view_name": "HTMLView",
      "description": "",
      "description_tooltip": null,
      "layout": "IPY_MODEL_2aebebe6902744079d2344e9522a711e",
      "placeholder": "​",
      "style": "IPY_MODEL_916b8106fd544ed59bae3809dcf9153e",
      "value": "Generating train split: "
     }
    },
    "67306df61a484ac19f74acf6a097b623": {
     "model_module": "@jupyter-widgets/controls",
     "model_module_version": "1.5.0",
     "model_name": "DescriptionStyleModel",
     "state": {
      "_model_module": "@jupyter-widgets/controls",
      "_model_module_version": "1.5.0",
      "_model_name": "DescriptionStyleModel",
      "_view_count": null,
      "_view_module": "@jupyter-widgets/base",
      "_view_module_version": "1.2.0",
      "_view_name": "StyleView",
      "description_width": ""
     }
    },
    "6733f67f18ba4bafb6d917b536ab24ae": {
     "model_module": "@jupyter-widgets/controls",
     "model_module_version": "1.5.0",
     "model_name": "HBoxModel",
     "state": {
      "_dom_classes": [],
      "_model_module": "@jupyter-widgets/controls",
      "_model_module_version": "1.5.0",
      "_model_name": "HBoxModel",
      "_view_count": null,
      "_view_module": "@jupyter-widgets/controls",
      "_view_module_version": "1.5.0",
      "_view_name": "HBoxView",
      "box_style": "",
      "children": [
       "IPY_MODEL_967c67caf50443a1bde4add13fe95f80",
       "IPY_MODEL_02b64a42d31c442ebc1d157b5d8cfc7f",
       "IPY_MODEL_a17367315a234bf78bc865ce0a17e39a"
      ],
      "layout": "IPY_MODEL_ab4ace70166947dbb0ef619a4965cbfb"
     }
    },
    "699732337b52412283256a9bc650d8ab": {
     "model_module": "@jupyter-widgets/base",
     "model_module_version": "1.2.0",
     "model_name": "LayoutModel",
     "state": {
      "_model_module": "@jupyter-widgets/base",
      "_model_module_version": "1.2.0",
      "_model_name": "LayoutModel",
      "_view_count": null,
      "_view_module": "@jupyter-widgets/base",
      "_view_module_version": "1.2.0",
      "_view_name": "LayoutView",
      "align_content": null,
      "align_items": null,
      "align_self": null,
      "border": null,
      "bottom": null,
      "display": null,
      "flex": null,
      "flex_flow": null,
      "grid_area": null,
      "grid_auto_columns": null,
      "grid_auto_flow": null,
      "grid_auto_rows": null,
      "grid_column": null,
      "grid_gap": null,
      "grid_row": null,
      "grid_template_areas": null,
      "grid_template_columns": null,
      "grid_template_rows": null,
      "height": null,
      "justify_content": null,
      "justify_items": null,
      "left": null,
      "margin": null,
      "max_height": null,
      "max_width": null,
      "min_height": null,
      "min_width": null,
      "object_fit": null,
      "object_position": null,
      "order": null,
      "overflow": null,
      "overflow_x": null,
      "overflow_y": null,
      "padding": null,
      "right": null,
      "top": null,
      "visibility": null,
      "width": "20px"
     }
    },
    "6bb1adf9e1344806a6c1c6a63c1d83f1": {
     "model_module": "@jupyter-widgets/controls",
     "model_module_version": "1.5.0",
     "model_name": "DescriptionStyleModel",
     "state": {
      "_model_module": "@jupyter-widgets/controls",
      "_model_module_version": "1.5.0",
      "_model_name": "DescriptionStyleModel",
      "_view_count": null,
      "_view_module": "@jupyter-widgets/base",
      "_view_module_version": "1.2.0",
      "_view_name": "StyleView",
      "description_width": ""
     }
    },
    "6c5f8a363a4344dd8c21c1c8f0cc8c25": {
     "model_module": "@jupyter-widgets/controls",
     "model_module_version": "1.5.0",
     "model_name": "FloatProgressModel",
     "state": {
      "_dom_classes": [],
      "_model_module": "@jupyter-widgets/controls",
      "_model_module_version": "1.5.0",
      "_model_name": "FloatProgressModel",
      "_view_count": null,
      "_view_module": "@jupyter-widgets/controls",
      "_view_module_version": "1.5.0",
      "_view_name": "ProgressView",
      "bar_style": "success",
      "description": "",
      "description_tooltip": null,
      "layout": "IPY_MODEL_a44e38f2a6c34a60a3621d1f3f3e7d0b",
      "max": 1,
      "min": 0,
      "orientation": "horizontal",
      "style": "IPY_MODEL_0104e0ac03ea4280aee14f2980781b0d",
      "value": 1
     }
    },
    "6d84a19310414fd38e528e8a04e86f2e": {
     "model_module": "@jupyter-widgets/controls",
     "model_module_version": "1.5.0",
     "model_name": "HBoxModel",
     "state": {
      "_dom_classes": [],
      "_model_module": "@jupyter-widgets/controls",
      "_model_module_version": "1.5.0",
      "_model_name": "HBoxModel",
      "_view_count": null,
      "_view_module": "@jupyter-widgets/controls",
      "_view_module_version": "1.5.0",
      "_view_name": "HBoxView",
      "box_style": "",
      "children": [
       "IPY_MODEL_bb4a714e683540fda9a4f681d64c27c6",
       "IPY_MODEL_17fb246809d04bf6968fe6a06b8e0257",
       "IPY_MODEL_ae93e4bbf30c4f8ea14a203c215bf248"
      ],
      "layout": "IPY_MODEL_d58b9aeee62a4ddcace24bd9912c587e"
     }
    },
    "6f9c8216b3ad43a28de63f23e990fde0": {
     "model_module": "@jupyter-widgets/controls",
     "model_module_version": "1.5.0",
     "model_name": "HTMLModel",
     "state": {
      "_dom_classes": [],
      "_model_module": "@jupyter-widgets/controls",
      "_model_module_version": "1.5.0",
      "_model_name": "HTMLModel",
      "_view_count": null,
      "_view_module": "@jupyter-widgets/controls",
      "_view_module_version": "1.5.0",
      "_view_name": "HTMLView",
      "description": "",
      "description_tooltip": null,
      "layout": "IPY_MODEL_ff1b2b7239434591a38804c0ad25ffcf",
      "placeholder": "​",
      "style": "IPY_MODEL_67306df61a484ac19f74acf6a097b623",
      "value": " 318/0 [00:00&lt;00:00, 2793.44 examples/s]"
     }
    },
    "70d72f664f0647ddba4dda8bb569b222": {
     "model_module": "@jupyter-widgets/controls",
     "model_module_version": "1.5.0",
     "model_name": "DescriptionStyleModel",
     "state": {
      "_model_module": "@jupyter-widgets/controls",
      "_model_module_version": "1.5.0",
      "_model_name": "DescriptionStyleModel",
      "_view_count": null,
      "_view_module": "@jupyter-widgets/base",
      "_view_module_version": "1.2.0",
      "_view_name": "StyleView",
      "description_width": ""
     }
    },
    "7528fa346c034cc4abb28b8650890336": {
     "model_module": "@jupyter-widgets/base",
     "model_module_version": "1.2.0",
     "model_name": "LayoutModel",
     "state": {
      "_model_module": "@jupyter-widgets/base",
      "_model_module_version": "1.2.0",
      "_model_name": "LayoutModel",
      "_view_count": null,
      "_view_module": "@jupyter-widgets/base",
      "_view_module_version": "1.2.0",
      "_view_name": "LayoutView",
      "align_content": null,
      "align_items": null,
      "align_self": null,
      "border": null,
      "bottom": null,
      "display": null,
      "flex": null,
      "flex_flow": null,
      "grid_area": null,
      "grid_auto_columns": null,
      "grid_auto_flow": null,
      "grid_auto_rows": null,
      "grid_column": null,
      "grid_gap": null,
      "grid_row": null,
      "grid_template_areas": null,
      "grid_template_columns": null,
      "grid_template_rows": null,
      "height": null,
      "justify_content": null,
      "justify_items": null,
      "left": null,
      "margin": null,
      "max_height": null,
      "max_width": null,
      "min_height": null,
      "min_width": null,
      "object_fit": null,
      "object_position": null,
      "order": null,
      "overflow": null,
      "overflow_x": null,
      "overflow_y": null,
      "padding": null,
      "right": null,
      "top": null,
      "visibility": "hidden",
      "width": null
     }
    },
    "7576966900a74e258cf1b718c3937ad2": {
     "model_module": "@jupyter-widgets/controls",
     "model_module_version": "1.5.0",
     "model_name": "HBoxModel",
     "state": {
      "_dom_classes": [],
      "_model_module": "@jupyter-widgets/controls",
      "_model_module_version": "1.5.0",
      "_model_name": "HBoxModel",
      "_view_count": null,
      "_view_module": "@jupyter-widgets/controls",
      "_view_module_version": "1.5.0",
      "_view_name": "HBoxView",
      "box_style": "",
      "children": [
       "IPY_MODEL_08a4b8c8fa234313a23fc0b306857745",
       "IPY_MODEL_f603c3864d0d4e8d8e85248623ef8c26",
       "IPY_MODEL_c03b99453ea246ea85ca57362045b08d"
      ],
      "layout": "IPY_MODEL_4e9bb8a2e9ab4c858b6a19312bf7739a"
     }
    },
    "75ae3d4697984a418b3b0e57e478d634": {
     "model_module": "@jupyter-widgets/base",
     "model_module_version": "1.2.0",
     "model_name": "LayoutModel",
     "state": {
      "_model_module": "@jupyter-widgets/base",
      "_model_module_version": "1.2.0",
      "_model_name": "LayoutModel",
      "_view_count": null,
      "_view_module": "@jupyter-widgets/base",
      "_view_module_version": "1.2.0",
      "_view_name": "LayoutView",
      "align_content": null,
      "align_items": null,
      "align_self": null,
      "border": null,
      "bottom": null,
      "display": null,
      "flex": null,
      "flex_flow": null,
      "grid_area": null,
      "grid_auto_columns": null,
      "grid_auto_flow": null,
      "grid_auto_rows": null,
      "grid_column": null,
      "grid_gap": null,
      "grid_row": null,
      "grid_template_areas": null,
      "grid_template_columns": null,
      "grid_template_rows": null,
      "height": null,
      "justify_content": null,
      "justify_items": null,
      "left": null,
      "margin": null,
      "max_height": null,
      "max_width": null,
      "min_height": null,
      "min_width": null,
      "object_fit": null,
      "object_position": null,
      "order": null,
      "overflow": null,
      "overflow_x": null,
      "overflow_y": null,
      "padding": null,
      "right": null,
      "top": null,
      "visibility": "hidden",
      "width": null
     }
    },
    "75c7c222b1644eb3a887440119af2f8f": {
     "model_module": "@jupyter-widgets/controls",
     "model_module_version": "1.5.0",
     "model_name": "HTMLModel",
     "state": {
      "_dom_classes": [],
      "_model_module": "@jupyter-widgets/controls",
      "_model_module_version": "1.5.0",
      "_model_name": "HTMLModel",
      "_view_count": null,
      "_view_module": "@jupyter-widgets/controls",
      "_view_module_version": "1.5.0",
      "_view_name": "HTMLView",
      "description": "",
      "description_tooltip": null,
      "layout": "IPY_MODEL_9c511ca9591041258464f60744056979",
      "placeholder": "​",
      "style": "IPY_MODEL_3f0c8568268e4a2e90ca07e76f350abd",
      "value": "Map: 100%"
     }
    },
    "76db130aa8884f10967fb5b570bc5f0c": {
     "model_module": "@jupyter-widgets/controls",
     "model_module_version": "1.5.0",
     "model_name": "HTMLModel",
     "state": {
      "_dom_classes": [],
      "_model_module": "@jupyter-widgets/controls",
      "_model_module_version": "1.5.0",
      "_model_name": "HTMLModel",
      "_view_count": null,
      "_view_module": "@jupyter-widgets/controls",
      "_view_module_version": "1.5.0",
      "_view_name": "HTMLView",
      "description": "",
      "description_tooltip": null,
      "layout": "IPY_MODEL_8c9954fe4eb2430290273447e1e103e3",
      "placeholder": "​",
      "style": "IPY_MODEL_534f867b0a264902975bdb70f6c7af60",
      "value": "Map: 100%"
     }
    },
    "77248918990e4a6798534aee0d9b0483": {
     "model_module": "@jupyter-widgets/controls",
     "model_module_version": "1.5.0",
     "model_name": "DescriptionStyleModel",
     "state": {
      "_model_module": "@jupyter-widgets/controls",
      "_model_module_version": "1.5.0",
      "_model_name": "DescriptionStyleModel",
      "_view_count": null,
      "_view_module": "@jupyter-widgets/base",
      "_view_module_version": "1.2.0",
      "_view_name": "StyleView",
      "description_width": ""
     }
    },
    "7741477051f0454c9afb3b00765551a0": {
     "model_module": "@jupyter-widgets/controls",
     "model_module_version": "1.5.0",
     "model_name": "HTMLModel",
     "state": {
      "_dom_classes": [],
      "_model_module": "@jupyter-widgets/controls",
      "_model_module_version": "1.5.0",
      "_model_name": "HTMLModel",
      "_view_count": null,
      "_view_module": "@jupyter-widgets/controls",
      "_view_module_version": "1.5.0",
      "_view_name": "HTMLView",
      "description": "",
      "description_tooltip": null,
      "layout": "IPY_MODEL_f3a9615ab22a4a6ea86bff17dd3bc763",
      "placeholder": "​",
      "style": "IPY_MODEL_cb51fb7d1a204e4da2a96a6bba8b22a8",
      "value": " 1/1 [00:00&lt;00:00, 19.66it/s]"
     }
    },
    "77840ccdab5046318d6488601458d935": {
     "model_module": "@jupyter-widgets/controls",
     "model_module_version": "1.5.0",
     "model_name": "HTMLModel",
     "state": {
      "_dom_classes": [],
      "_model_module": "@jupyter-widgets/controls",
      "_model_module_version": "1.5.0",
      "_model_name": "HTMLModel",
      "_view_count": null,
      "_view_module": "@jupyter-widgets/controls",
      "_view_module_version": "1.5.0",
      "_view_name": "HTMLView",
      "description": "",
      "description_tooltip": null,
      "layout": "IPY_MODEL_9aea8e51ec0a4e62bddac5de8bfe3c72",
      "placeholder": "​",
      "style": "IPY_MODEL_bfd5ca02403c48ef94f752ef7e005846",
      "value": " 1/1 [00:00&lt;00:00, 30.63it/s]"
     }
    },
    "77b44968ee2a404fb4ef3211d339456e": {
     "model_module": "@jupyter-widgets/base",
     "model_module_version": "1.2.0",
     "model_name": "LayoutModel",
     "state": {
      "_model_module": "@jupyter-widgets/base",
      "_model_module_version": "1.2.0",
      "_model_name": "LayoutModel",
      "_view_count": null,
      "_view_module": "@jupyter-widgets/base",
      "_view_module_version": "1.2.0",
      "_view_name": "LayoutView",
      "align_content": null,
      "align_items": null,
      "align_self": null,
      "border": null,
      "bottom": null,
      "display": null,
      "flex": null,
      "flex_flow": null,
      "grid_area": null,
      "grid_auto_columns": null,
      "grid_auto_flow": null,
      "grid_auto_rows": null,
      "grid_column": null,
      "grid_gap": null,
      "grid_row": null,
      "grid_template_areas": null,
      "grid_template_columns": null,
      "grid_template_rows": null,
      "height": null,
      "justify_content": null,
      "justify_items": null,
      "left": null,
      "margin": null,
      "max_height": null,
      "max_width": null,
      "min_height": null,
      "min_width": null,
      "object_fit": null,
      "object_position": null,
      "order": null,
      "overflow": null,
      "overflow_x": null,
      "overflow_y": null,
      "padding": null,
      "right": null,
      "top": null,
      "visibility": null,
      "width": null
     }
    },
    "791c5d8bd82c41b2962b7aade194c16f": {
     "model_module": "@jupyter-widgets/base",
     "model_module_version": "1.2.0",
     "model_name": "LayoutModel",
     "state": {
      "_model_module": "@jupyter-widgets/base",
      "_model_module_version": "1.2.0",
      "_model_name": "LayoutModel",
      "_view_count": null,
      "_view_module": "@jupyter-widgets/base",
      "_view_module_version": "1.2.0",
      "_view_name": "LayoutView",
      "align_content": null,
      "align_items": null,
      "align_self": null,
      "border": null,
      "bottom": null,
      "display": null,
      "flex": null,
      "flex_flow": null,
      "grid_area": null,
      "grid_auto_columns": null,
      "grid_auto_flow": null,
      "grid_auto_rows": null,
      "grid_column": null,
      "grid_gap": null,
      "grid_row": null,
      "grid_template_areas": null,
      "grid_template_columns": null,
      "grid_template_rows": null,
      "height": null,
      "justify_content": null,
      "justify_items": null,
      "left": null,
      "margin": null,
      "max_height": null,
      "max_width": null,
      "min_height": null,
      "min_width": null,
      "object_fit": null,
      "object_position": null,
      "order": null,
      "overflow": null,
      "overflow_x": null,
      "overflow_y": null,
      "padding": null,
      "right": null,
      "top": null,
      "visibility": null,
      "width": null
     }
    },
    "7a7b41af8d6b4318a170e10cf1905fb1": {
     "model_module": "@jupyter-widgets/controls",
     "model_module_version": "1.5.0",
     "model_name": "FloatProgressModel",
     "state": {
      "_dom_classes": [],
      "_model_module": "@jupyter-widgets/controls",
      "_model_module_version": "1.5.0",
      "_model_name": "FloatProgressModel",
      "_view_count": null,
      "_view_module": "@jupyter-widgets/controls",
      "_view_module_version": "1.5.0",
      "_view_name": "ProgressView",
      "bar_style": "success",
      "description": "",
      "description_tooltip": null,
      "layout": "IPY_MODEL_1fee552d09224e9b8a9d630808f6ad49",
      "max": 1,
      "min": 0,
      "orientation": "horizontal",
      "style": "IPY_MODEL_f29494793dc2415ba222bf4aebcffa75",
      "value": 1
     }
    },
    "7d970aba0123416685731dc035e1723e": {
     "model_module": "@jupyter-widgets/controls",
     "model_module_version": "1.5.0",
     "model_name": "DescriptionStyleModel",
     "state": {
      "_model_module": "@jupyter-widgets/controls",
      "_model_module_version": "1.5.0",
      "_model_name": "DescriptionStyleModel",
      "_view_count": null,
      "_view_module": "@jupyter-widgets/base",
      "_view_module_version": "1.2.0",
      "_view_name": "StyleView",
      "description_width": ""
     }
    },
    "81837a262af84d0087ee79ade506f503": {
     "model_module": "@jupyter-widgets/controls",
     "model_module_version": "1.5.0",
     "model_name": "HTMLModel",
     "state": {
      "_dom_classes": [],
      "_model_module": "@jupyter-widgets/controls",
      "_model_module_version": "1.5.0",
      "_model_name": "HTMLModel",
      "_view_count": null,
      "_view_module": "@jupyter-widgets/controls",
      "_view_module_version": "1.5.0",
      "_view_name": "HTMLView",
      "description": "",
      "description_tooltip": null,
      "layout": "IPY_MODEL_b455c5a7389847e4bdcd2ad6e4eaec99",
      "placeholder": "​",
      "style": "IPY_MODEL_d0e6c12392c14270b07e9196a3b133c2",
      "value": " 1/1 [00:00&lt;00:00, 22.34it/s]"
     }
    },
    "821293d3966a4d3d8e1d11b781bf83c3": {
     "model_module": "@jupyter-widgets/controls",
     "model_module_version": "1.5.0",
     "model_name": "DescriptionStyleModel",
     "state": {
      "_model_module": "@jupyter-widgets/controls",
      "_model_module_version": "1.5.0",
      "_model_name": "DescriptionStyleModel",
      "_view_count": null,
      "_view_module": "@jupyter-widgets/base",
      "_view_module_version": "1.2.0",
      "_view_name": "StyleView",
      "description_width": ""
     }
    },
    "849e887a6fd3461b962568c14e24b407": {
     "model_module": "@jupyter-widgets/controls",
     "model_module_version": "1.5.0",
     "model_name": "FloatProgressModel",
     "state": {
      "_dom_classes": [],
      "_model_module": "@jupyter-widgets/controls",
      "_model_module_version": "1.5.0",
      "_model_name": "FloatProgressModel",
      "_view_count": null,
      "_view_module": "@jupyter-widgets/controls",
      "_view_module_version": "1.5.0",
      "_view_name": "ProgressView",
      "bar_style": "success",
      "description": "",
      "description_tooltip": null,
      "layout": "IPY_MODEL_cb723cba9d2f4ebbb04503c9438cd787",
      "max": 4203,
      "min": 0,
      "orientation": "horizontal",
      "style": "IPY_MODEL_3116a37834664d20b5cc622f6a226325",
      "value": 4203
     }
    },
    "85350eb2df634dd8a5ccb7d8401e1a86": {
     "model_module": "@jupyter-widgets/base",
     "model_module_version": "1.2.0",
     "model_name": "LayoutModel",
     "state": {
      "_model_module": "@jupyter-widgets/base",
      "_model_module_version": "1.2.0",
      "_model_name": "LayoutModel",
      "_view_count": null,
      "_view_module": "@jupyter-widgets/base",
      "_view_module_version": "1.2.0",
      "_view_name": "LayoutView",
      "align_content": null,
      "align_items": null,
      "align_self": null,
      "border": null,
      "bottom": null,
      "display": null,
      "flex": null,
      "flex_flow": null,
      "grid_area": null,
      "grid_auto_columns": null,
      "grid_auto_flow": null,
      "grid_auto_rows": null,
      "grid_column": null,
      "grid_gap": null,
      "grid_row": null,
      "grid_template_areas": null,
      "grid_template_columns": null,
      "grid_template_rows": null,
      "height": null,
      "justify_content": null,
      "justify_items": null,
      "left": null,
      "margin": null,
      "max_height": null,
      "max_width": null,
      "min_height": null,
      "min_width": null,
      "object_fit": null,
      "object_position": null,
      "order": null,
      "overflow": null,
      "overflow_x": null,
      "overflow_y": null,
      "padding": null,
      "right": null,
      "top": null,
      "visibility": null,
      "width": null
     }
    },
    "860797a7e3ec403591bada2d1dd625cb": {
     "model_module": "@jupyter-widgets/controls",
     "model_module_version": "1.5.0",
     "model_name": "HTMLModel",
     "state": {
      "_dom_classes": [],
      "_model_module": "@jupyter-widgets/controls",
      "_model_module_version": "1.5.0",
      "_model_name": "HTMLModel",
      "_view_count": null,
      "_view_module": "@jupyter-widgets/controls",
      "_view_module_version": "1.5.0",
      "_view_name": "HTMLView",
      "description": "",
      "description_tooltip": null,
      "layout": "IPY_MODEL_b8f09f252e294d8cbd1ceb550163021a",
      "placeholder": "​",
      "style": "IPY_MODEL_821293d3966a4d3d8e1d11b781bf83c3",
      "value": "Creating json from Arrow format: 100%"
     }
    },
    "871e022bc96c442bbcda5ea0d2db84a2": {
     "model_module": "@jupyter-widgets/controls",
     "model_module_version": "1.5.0",
     "model_name": "FloatProgressModel",
     "state": {
      "_dom_classes": [],
      "_model_module": "@jupyter-widgets/controls",
      "_model_module_version": "1.5.0",
      "_model_name": "FloatProgressModel",
      "_view_count": null,
      "_view_module": "@jupyter-widgets/controls",
      "_view_module_version": "1.5.0",
      "_view_name": "ProgressView",
      "bar_style": "success",
      "description": "",
      "description_tooltip": null,
      "layout": "IPY_MODEL_3819c5d370f540b48ae7c6333e1c6137",
      "max": 1,
      "min": 0,
      "orientation": "horizontal",
      "style": "IPY_MODEL_2b9dc50cb5124b6da8fab7a56116947e",
      "value": 1
     }
    },
    "88608c5276c04b6b99e28be8d998bd3b": {
     "model_module": "@jupyter-widgets/base",
     "model_module_version": "1.2.0",
     "model_name": "LayoutModel",
     "state": {
      "_model_module": "@jupyter-widgets/base",
      "_model_module_version": "1.2.0",
      "_model_name": "LayoutModel",
      "_view_count": null,
      "_view_module": "@jupyter-widgets/base",
      "_view_module_version": "1.2.0",
      "_view_name": "LayoutView",
      "align_content": null,
      "align_items": null,
      "align_self": null,
      "border": null,
      "bottom": null,
      "display": null,
      "flex": null,
      "flex_flow": null,
      "grid_area": null,
      "grid_auto_columns": null,
      "grid_auto_flow": null,
      "grid_auto_rows": null,
      "grid_column": null,
      "grid_gap": null,
      "grid_row": null,
      "grid_template_areas": null,
      "grid_template_columns": null,
      "grid_template_rows": null,
      "height": null,
      "justify_content": null,
      "justify_items": null,
      "left": null,
      "margin": null,
      "max_height": null,
      "max_width": null,
      "min_height": null,
      "min_width": null,
      "object_fit": null,
      "object_position": null,
      "order": null,
      "overflow": null,
      "overflow_x": null,
      "overflow_y": null,
      "padding": null,
      "right": null,
      "top": null,
      "visibility": null,
      "width": null
     }
    },
    "88a8241c7a084614a2bab6876a1a2417": {
     "model_module": "@jupyter-widgets/controls",
     "model_module_version": "1.5.0",
     "model_name": "HTMLModel",
     "state": {
      "_dom_classes": [],
      "_model_module": "@jupyter-widgets/controls",
      "_model_module_version": "1.5.0",
      "_model_name": "HTMLModel",
      "_view_count": null,
      "_view_module": "@jupyter-widgets/controls",
      "_view_module_version": "1.5.0",
      "_view_name": "HTMLView",
      "description": "",
      "description_tooltip": null,
      "layout": "IPY_MODEL_10d4ae54f01c4424981bb6478a9c52ae",
      "placeholder": "​",
      "style": "IPY_MODEL_6bb1adf9e1344806a6c1c6a63c1d83f1",
      "value": "100%"
     }
    },
    "8a24fb057d2d44469b938f9da713047d": {
     "model_module": "@jupyter-widgets/controls",
     "model_module_version": "1.5.0",
     "model_name": "DescriptionStyleModel",
     "state": {
      "_model_module": "@jupyter-widgets/controls",
      "_model_module_version": "1.5.0",
      "_model_name": "DescriptionStyleModel",
      "_view_count": null,
      "_view_module": "@jupyter-widgets/base",
      "_view_module_version": "1.2.0",
      "_view_name": "StyleView",
      "description_width": ""
     }
    },
    "8aab6b71e17d489687d84b04c5e2946a": {
     "model_module": "@jupyter-widgets/controls",
     "model_module_version": "1.5.0",
     "model_name": "HTMLModel",
     "state": {
      "_dom_classes": [],
      "_model_module": "@jupyter-widgets/controls",
      "_model_module_version": "1.5.0",
      "_model_name": "HTMLModel",
      "_view_count": null,
      "_view_module": "@jupyter-widgets/controls",
      "_view_module_version": "1.5.0",
      "_view_name": "HTMLView",
      "description": "",
      "description_tooltip": null,
      "layout": "IPY_MODEL_b8953fc9751f441ab3ee4bc571d6f1bd",
      "placeholder": "​",
      "style": "IPY_MODEL_d189b9167994406abefdeaece8ae4895",
      "value": " 1/1 [00:00&lt;00:00, 12.93ba/s]"
     }
    },
    "8c6404dabac346398f60c1742d1634a0": {
     "model_module": "@jupyter-widgets/base",
     "model_module_version": "1.2.0",
     "model_name": "LayoutModel",
     "state": {
      "_model_module": "@jupyter-widgets/base",
      "_model_module_version": "1.2.0",
      "_model_name": "LayoutModel",
      "_view_count": null,
      "_view_module": "@jupyter-widgets/base",
      "_view_module_version": "1.2.0",
      "_view_name": "LayoutView",
      "align_content": null,
      "align_items": null,
      "align_self": null,
      "border": null,
      "bottom": null,
      "display": null,
      "flex": null,
      "flex_flow": null,
      "grid_area": null,
      "grid_auto_columns": null,
      "grid_auto_flow": null,
      "grid_auto_rows": null,
      "grid_column": null,
      "grid_gap": null,
      "grid_row": null,
      "grid_template_areas": null,
      "grid_template_columns": null,
      "grid_template_rows": null,
      "height": null,
      "justify_content": null,
      "justify_items": null,
      "left": null,
      "margin": null,
      "max_height": null,
      "max_width": null,
      "min_height": null,
      "min_width": null,
      "object_fit": null,
      "object_position": null,
      "order": null,
      "overflow": null,
      "overflow_x": null,
      "overflow_y": null,
      "padding": null,
      "right": null,
      "top": null,
      "visibility": null,
      "width": null
     }
    },
    "8c9954fe4eb2430290273447e1e103e3": {
     "model_module": "@jupyter-widgets/base",
     "model_module_version": "1.2.0",
     "model_name": "LayoutModel",
     "state": {
      "_model_module": "@jupyter-widgets/base",
      "_model_module_version": "1.2.0",
      "_model_name": "LayoutModel",
      "_view_count": null,
      "_view_module": "@jupyter-widgets/base",
      "_view_module_version": "1.2.0",
      "_view_name": "LayoutView",
      "align_content": null,
      "align_items": null,
      "align_self": null,
      "border": null,
      "bottom": null,
      "display": null,
      "flex": null,
      "flex_flow": null,
      "grid_area": null,
      "grid_auto_columns": null,
      "grid_auto_flow": null,
      "grid_auto_rows": null,
      "grid_column": null,
      "grid_gap": null,
      "grid_row": null,
      "grid_template_areas": null,
      "grid_template_columns": null,
      "grid_template_rows": null,
      "height": null,
      "justify_content": null,
      "justify_items": null,
      "left": null,
      "margin": null,
      "max_height": null,
      "max_width": null,
      "min_height": null,
      "min_width": null,
      "object_fit": null,
      "object_position": null,
      "order": null,
      "overflow": null,
      "overflow_x": null,
      "overflow_y": null,
      "padding": null,
      "right": null,
      "top": null,
      "visibility": null,
      "width": null
     }
    },
    "9010d21e706644119d3af70ad0428d50": {
     "model_module": "@jupyter-widgets/controls",
     "model_module_version": "1.5.0",
     "model_name": "DescriptionStyleModel",
     "state": {
      "_model_module": "@jupyter-widgets/controls",
      "_model_module_version": "1.5.0",
      "_model_name": "DescriptionStyleModel",
      "_view_count": null,
      "_view_module": "@jupyter-widgets/base",
      "_view_module_version": "1.2.0",
      "_view_name": "StyleView",
      "description_width": ""
     }
    },
    "916b8106fd544ed59bae3809dcf9153e": {
     "model_module": "@jupyter-widgets/controls",
     "model_module_version": "1.5.0",
     "model_name": "DescriptionStyleModel",
     "state": {
      "_model_module": "@jupyter-widgets/controls",
      "_model_module_version": "1.5.0",
      "_model_name": "DescriptionStyleModel",
      "_view_count": null,
      "_view_module": "@jupyter-widgets/base",
      "_view_module_version": "1.2.0",
      "_view_name": "StyleView",
      "description_width": ""
     }
    },
    "946e68f0c3a34414bb2299e0322989a2": {
     "model_module": "@jupyter-widgets/controls",
     "model_module_version": "1.5.0",
     "model_name": "DescriptionStyleModel",
     "state": {
      "_model_module": "@jupyter-widgets/controls",
      "_model_module_version": "1.5.0",
      "_model_name": "DescriptionStyleModel",
      "_view_count": null,
      "_view_module": "@jupyter-widgets/base",
      "_view_module_version": "1.2.0",
      "_view_name": "StyleView",
      "description_width": ""
     }
    },
    "967c67caf50443a1bde4add13fe95f80": {
     "model_module": "@jupyter-widgets/controls",
     "model_module_version": "1.5.0",
     "model_name": "HTMLModel",
     "state": {
      "_dom_classes": [],
      "_model_module": "@jupyter-widgets/controls",
      "_model_module_version": "1.5.0",
      "_model_name": "HTMLModel",
      "_view_count": null,
      "_view_module": "@jupyter-widgets/controls",
      "_view_module_version": "1.5.0",
      "_view_name": "HTMLView",
      "description": "",
      "description_tooltip": null,
      "layout": "IPY_MODEL_5064832d809344c490b40d268991cd96",
      "placeholder": "​",
      "style": "IPY_MODEL_ece2dcbd8c7f4915b1ae1f901bb89f6b",
      "value": "100%"
     }
    },
    "9737fed8d9384331adf9c727d2ddc489": {
     "model_module": "@jupyter-widgets/base",
     "model_module_version": "1.2.0",
     "model_name": "LayoutModel",
     "state": {
      "_model_module": "@jupyter-widgets/base",
      "_model_module_version": "1.2.0",
      "_model_name": "LayoutModel",
      "_view_count": null,
      "_view_module": "@jupyter-widgets/base",
      "_view_module_version": "1.2.0",
      "_view_name": "LayoutView",
      "align_content": null,
      "align_items": null,
      "align_self": null,
      "border": null,
      "bottom": null,
      "display": null,
      "flex": null,
      "flex_flow": null,
      "grid_area": null,
      "grid_auto_columns": null,
      "grid_auto_flow": null,
      "grid_auto_rows": null,
      "grid_column": null,
      "grid_gap": null,
      "grid_row": null,
      "grid_template_areas": null,
      "grid_template_columns": null,
      "grid_template_rows": null,
      "height": null,
      "justify_content": null,
      "justify_items": null,
      "left": null,
      "margin": null,
      "max_height": null,
      "max_width": null,
      "min_height": null,
      "min_width": null,
      "object_fit": null,
      "object_position": null,
      "order": null,
      "overflow": null,
      "overflow_x": null,
      "overflow_y": null,
      "padding": null,
      "right": null,
      "top": null,
      "visibility": null,
      "width": null
     }
    },
    "97c887b4b33a48b89817b5373b71f543": {
     "model_module": "@jupyter-widgets/controls",
     "model_module_version": "1.5.0",
     "model_name": "HTMLModel",
     "state": {
      "_dom_classes": [],
      "_model_module": "@jupyter-widgets/controls",
      "_model_module_version": "1.5.0",
      "_model_name": "HTMLModel",
      "_view_count": null,
      "_view_module": "@jupyter-widgets/controls",
      "_view_module_version": "1.5.0",
      "_view_name": "HTMLView",
      "description": "",
      "description_tooltip": null,
      "layout": "IPY_MODEL_bc6512cd863b44d0ba4f60a0310b1fc3",
      "placeholder": "​",
      "style": "IPY_MODEL_53c1e5169cb941939a69aac764c3ec09",
      "value": "100%"
     }
    },
    "98e3787121b74420bf26ccdebaea6b44": {
     "model_module": "@jupyter-widgets/base",
     "model_module_version": "1.2.0",
     "model_name": "LayoutModel",
     "state": {
      "_model_module": "@jupyter-widgets/base",
      "_model_module_version": "1.2.0",
      "_model_name": "LayoutModel",
      "_view_count": null,
      "_view_module": "@jupyter-widgets/base",
      "_view_module_version": "1.2.0",
      "_view_name": "LayoutView",
      "align_content": null,
      "align_items": null,
      "align_self": null,
      "border": null,
      "bottom": null,
      "display": null,
      "flex": null,
      "flex_flow": null,
      "grid_area": null,
      "grid_auto_columns": null,
      "grid_auto_flow": null,
      "grid_auto_rows": null,
      "grid_column": null,
      "grid_gap": null,
      "grid_row": null,
      "grid_template_areas": null,
      "grid_template_columns": null,
      "grid_template_rows": null,
      "height": null,
      "justify_content": null,
      "justify_items": null,
      "left": null,
      "margin": null,
      "max_height": null,
      "max_width": null,
      "min_height": null,
      "min_width": null,
      "object_fit": null,
      "object_position": null,
      "order": null,
      "overflow": null,
      "overflow_x": null,
      "overflow_y": null,
      "padding": null,
      "right": null,
      "top": null,
      "visibility": null,
      "width": null
     }
    },
    "996235ae5c3547848cadfd0f746d276e": {
     "model_module": "@jupyter-widgets/base",
     "model_module_version": "1.2.0",
     "model_name": "LayoutModel",
     "state": {
      "_model_module": "@jupyter-widgets/base",
      "_model_module_version": "1.2.0",
      "_model_name": "LayoutModel",
      "_view_count": null,
      "_view_module": "@jupyter-widgets/base",
      "_view_module_version": "1.2.0",
      "_view_name": "LayoutView",
      "align_content": null,
      "align_items": null,
      "align_self": null,
      "border": null,
      "bottom": null,
      "display": null,
      "flex": null,
      "flex_flow": null,
      "grid_area": null,
      "grid_auto_columns": null,
      "grid_auto_flow": null,
      "grid_auto_rows": null,
      "grid_column": null,
      "grid_gap": null,
      "grid_row": null,
      "grid_template_areas": null,
      "grid_template_columns": null,
      "grid_template_rows": null,
      "height": null,
      "justify_content": null,
      "justify_items": null,
      "left": null,
      "margin": null,
      "max_height": null,
      "max_width": null,
      "min_height": null,
      "min_width": null,
      "object_fit": null,
      "object_position": null,
      "order": null,
      "overflow": null,
      "overflow_x": null,
      "overflow_y": null,
      "padding": null,
      "right": null,
      "top": null,
      "visibility": "hidden",
      "width": null
     }
    },
    "9a74c20fa0574d1095ec15e0f6c06816": {
     "model_module": "@jupyter-widgets/controls",
     "model_module_version": "1.5.0",
     "model_name": "FloatProgressModel",
     "state": {
      "_dom_classes": [],
      "_model_module": "@jupyter-widgets/controls",
      "_model_module_version": "1.5.0",
      "_model_name": "FloatProgressModel",
      "_view_count": null,
      "_view_module": "@jupyter-widgets/controls",
      "_view_module_version": "1.5.0",
      "_view_name": "ProgressView",
      "bar_style": "info",
      "description": "",
      "description_tooltip": null,
      "layout": "IPY_MODEL_ddc8add9c310437c90176e158624e347",
      "max": 1,
      "min": 0,
      "orientation": "horizontal",
      "style": "IPY_MODEL_1917909e72d2404091cc40784ee6f350",
      "value": 1
     }
    },
    "9aea8e51ec0a4e62bddac5de8bfe3c72": {
     "model_module": "@jupyter-widgets/base",
     "model_module_version": "1.2.0",
     "model_name": "LayoutModel",
     "state": {
      "_model_module": "@jupyter-widgets/base",
      "_model_module_version": "1.2.0",
      "_model_name": "LayoutModel",
      "_view_count": null,
      "_view_module": "@jupyter-widgets/base",
      "_view_module_version": "1.2.0",
      "_view_name": "LayoutView",
      "align_content": null,
      "align_items": null,
      "align_self": null,
      "border": null,
      "bottom": null,
      "display": null,
      "flex": null,
      "flex_flow": null,
      "grid_area": null,
      "grid_auto_columns": null,
      "grid_auto_flow": null,
      "grid_auto_rows": null,
      "grid_column": null,
      "grid_gap": null,
      "grid_row": null,
      "grid_template_areas": null,
      "grid_template_columns": null,
      "grid_template_rows": null,
      "height": null,
      "justify_content": null,
      "justify_items": null,
      "left": null,
      "margin": null,
      "max_height": null,
      "max_width": null,
      "min_height": null,
      "min_width": null,
      "object_fit": null,
      "object_position": null,
      "order": null,
      "overflow": null,
      "overflow_x": null,
      "overflow_y": null,
      "padding": null,
      "right": null,
      "top": null,
      "visibility": null,
      "width": null
     }
    },
    "9c511ca9591041258464f60744056979": {
     "model_module": "@jupyter-widgets/base",
     "model_module_version": "1.2.0",
     "model_name": "LayoutModel",
     "state": {
      "_model_module": "@jupyter-widgets/base",
      "_model_module_version": "1.2.0",
      "_model_name": "LayoutModel",
      "_view_count": null,
      "_view_module": "@jupyter-widgets/base",
      "_view_module_version": "1.2.0",
      "_view_name": "LayoutView",
      "align_content": null,
      "align_items": null,
      "align_self": null,
      "border": null,
      "bottom": null,
      "display": null,
      "flex": null,
      "flex_flow": null,
      "grid_area": null,
      "grid_auto_columns": null,
      "grid_auto_flow": null,
      "grid_auto_rows": null,
      "grid_column": null,
      "grid_gap": null,
      "grid_row": null,
      "grid_template_areas": null,
      "grid_template_columns": null,
      "grid_template_rows": null,
      "height": null,
      "justify_content": null,
      "justify_items": null,
      "left": null,
      "margin": null,
      "max_height": null,
      "max_width": null,
      "min_height": null,
      "min_width": null,
      "object_fit": null,
      "object_position": null,
      "order": null,
      "overflow": null,
      "overflow_x": null,
      "overflow_y": null,
      "padding": null,
      "right": null,
      "top": null,
      "visibility": null,
      "width": null
     }
    },
    "9cedef8e63fe45168b66dcf3f15a2c7c": {
     "model_module": "@jupyter-widgets/base",
     "model_module_version": "1.2.0",
     "model_name": "LayoutModel",
     "state": {
      "_model_module": "@jupyter-widgets/base",
      "_model_module_version": "1.2.0",
      "_model_name": "LayoutModel",
      "_view_count": null,
      "_view_module": "@jupyter-widgets/base",
      "_view_module_version": "1.2.0",
      "_view_name": "LayoutView",
      "align_content": null,
      "align_items": null,
      "align_self": null,
      "border": null,
      "bottom": null,
      "display": null,
      "flex": null,
      "flex_flow": null,
      "grid_area": null,
      "grid_auto_columns": null,
      "grid_auto_flow": null,
      "grid_auto_rows": null,
      "grid_column": null,
      "grid_gap": null,
      "grid_row": null,
      "grid_template_areas": null,
      "grid_template_columns": null,
      "grid_template_rows": null,
      "height": null,
      "justify_content": null,
      "justify_items": null,
      "left": null,
      "margin": null,
      "max_height": null,
      "max_width": null,
      "min_height": null,
      "min_width": null,
      "object_fit": null,
      "object_position": null,
      "order": null,
      "overflow": null,
      "overflow_x": null,
      "overflow_y": null,
      "padding": null,
      "right": null,
      "top": null,
      "visibility": null,
      "width": null
     }
    },
    "9d7d8b52277a4538b42c972c83c69fc5": {
     "model_module": "@jupyter-widgets/base",
     "model_module_version": "1.2.0",
     "model_name": "LayoutModel",
     "state": {
      "_model_module": "@jupyter-widgets/base",
      "_model_module_version": "1.2.0",
      "_model_name": "LayoutModel",
      "_view_count": null,
      "_view_module": "@jupyter-widgets/base",
      "_view_module_version": "1.2.0",
      "_view_name": "LayoutView",
      "align_content": null,
      "align_items": null,
      "align_self": null,
      "border": null,
      "bottom": null,
      "display": null,
      "flex": null,
      "flex_flow": null,
      "grid_area": null,
      "grid_auto_columns": null,
      "grid_auto_flow": null,
      "grid_auto_rows": null,
      "grid_column": null,
      "grid_gap": null,
      "grid_row": null,
      "grid_template_areas": null,
      "grid_template_columns": null,
      "grid_template_rows": null,
      "height": null,
      "justify_content": null,
      "justify_items": null,
      "left": null,
      "margin": null,
      "max_height": null,
      "max_width": null,
      "min_height": null,
      "min_width": null,
      "object_fit": null,
      "object_position": null,
      "order": null,
      "overflow": null,
      "overflow_x": null,
      "overflow_y": null,
      "padding": null,
      "right": null,
      "top": null,
      "visibility": null,
      "width": null
     }
    },
    "9de51137e9d743ad92aafeb433f776da": {
     "model_module": "@jupyter-widgets/controls",
     "model_module_version": "1.5.0",
     "model_name": "DescriptionStyleModel",
     "state": {
      "_model_module": "@jupyter-widgets/controls",
      "_model_module_version": "1.5.0",
      "_model_name": "DescriptionStyleModel",
      "_view_count": null,
      "_view_module": "@jupyter-widgets/base",
      "_view_module_version": "1.2.0",
      "_view_name": "StyleView",
      "description_width": ""
     }
    },
    "9ef5db1974124ce088b1e98dba994777": {
     "model_module": "@jupyter-widgets/controls",
     "model_module_version": "1.5.0",
     "model_name": "FloatProgressModel",
     "state": {
      "_dom_classes": [],
      "_model_module": "@jupyter-widgets/controls",
      "_model_module_version": "1.5.0",
      "_model_name": "FloatProgressModel",
      "_view_count": null,
      "_view_module": "@jupyter-widgets/controls",
      "_view_module_version": "1.5.0",
      "_view_name": "ProgressView",
      "bar_style": "success",
      "description": "",
      "description_tooltip": null,
      "layout": "IPY_MODEL_549e32dd4d324c21b81b6adb927e6395",
      "max": 1,
      "min": 0,
      "orientation": "horizontal",
      "style": "IPY_MODEL_0dc57d64467c4ba788e764c8eba56a17",
      "value": 1
     }
    },
    "a09c84e3715d4be4a966079e45d9eb4f": {
     "model_module": "@jupyter-widgets/controls",
     "model_module_version": "1.5.0",
     "model_name": "DescriptionStyleModel",
     "state": {
      "_model_module": "@jupyter-widgets/controls",
      "_model_module_version": "1.5.0",
      "_model_name": "DescriptionStyleModel",
      "_view_count": null,
      "_view_module": "@jupyter-widgets/base",
      "_view_module_version": "1.2.0",
      "_view_name": "StyleView",
      "description_width": ""
     }
    },
    "a0aed6a6bdf2473bb0bdb75b9c208dfb": {
     "model_module": "@jupyter-widgets/controls",
     "model_module_version": "1.5.0",
     "model_name": "HTMLModel",
     "state": {
      "_dom_classes": [],
      "_model_module": "@jupyter-widgets/controls",
      "_model_module_version": "1.5.0",
      "_model_name": "HTMLModel",
      "_view_count": null,
      "_view_module": "@jupyter-widgets/controls",
      "_view_module_version": "1.5.0",
      "_view_name": "HTMLView",
      "description": "",
      "description_tooltip": null,
      "layout": "IPY_MODEL_34638cc92a5743078a786dcd591e5630",
      "placeholder": "​",
      "style": "IPY_MODEL_3556abefb6ba4c3f93a5eb6cdf5e3a07",
      "value": "Extracting data files: 100%"
     }
    },
    "a17367315a234bf78bc865ce0a17e39a": {
     "model_module": "@jupyter-widgets/controls",
     "model_module_version": "1.5.0",
     "model_name": "HTMLModel",
     "state": {
      "_dom_classes": [],
      "_model_module": "@jupyter-widgets/controls",
      "_model_module_version": "1.5.0",
      "_model_name": "HTMLModel",
      "_view_count": null,
      "_view_module": "@jupyter-widgets/controls",
      "_view_module_version": "1.5.0",
      "_view_name": "HTMLView",
      "description": "",
      "description_tooltip": null,
      "layout": "IPY_MODEL_16d2958fb5be4f689232d44572ebe016",
      "placeholder": "​",
      "style": "IPY_MODEL_61fead7ce3af4ff78bccf7f0886f0b36",
      "value": " 1/1 [00:00&lt;00:00, 22.68it/s]"
     }
    },
    "a1e17d826b534682a1776b90a0193da4": {
     "model_module": "@jupyter-widgets/controls",
     "model_module_version": "1.5.0",
     "model_name": "HBoxModel",
     "state": {
      "_dom_classes": [],
      "_model_module": "@jupyter-widgets/controls",
      "_model_module_version": "1.5.0",
      "_model_name": "HBoxModel",
      "_view_count": null,
      "_view_module": "@jupyter-widgets/controls",
      "_view_module_version": "1.5.0",
      "_view_name": "HBoxView",
      "box_style": "",
      "children": [
       "IPY_MODEL_1d87b8f1384d4ba287fe278b3b18602d",
       "IPY_MODEL_9ef5db1974124ce088b1e98dba994777",
       "IPY_MODEL_d0cb810aadbd446cad49dbbfd9651203"
      ],
      "layout": "IPY_MODEL_c8c8712b2ef54c7591859a7b3c75d888"
     }
    },
    "a336609faffe4d1aa9d0eb9bc9cdc092": {
     "model_module": "@jupyter-widgets/controls",
     "model_module_version": "1.5.0",
     "model_name": "FloatProgressModel",
     "state": {
      "_dom_classes": [],
      "_model_module": "@jupyter-widgets/controls",
      "_model_module_version": "1.5.0",
      "_model_name": "FloatProgressModel",
      "_view_count": null,
      "_view_module": "@jupyter-widgets/controls",
      "_view_module_version": "1.5.0",
      "_view_name": "ProgressView",
      "bar_style": "success",
      "description": "",
      "description_tooltip": null,
      "layout": "IPY_MODEL_85350eb2df634dd8a5ccb7d8401e1a86",
      "max": 1,
      "min": 0,
      "orientation": "horizontal",
      "style": "IPY_MODEL_cf6559ce70dc4271bb26d62cb27a64ca",
      "value": 1
     }
    },
    "a44e38f2a6c34a60a3621d1f3f3e7d0b": {
     "model_module": "@jupyter-widgets/base",
     "model_module_version": "1.2.0",
     "model_name": "LayoutModel",
     "state": {
      "_model_module": "@jupyter-widgets/base",
      "_model_module_version": "1.2.0",
      "_model_name": "LayoutModel",
      "_view_count": null,
      "_view_module": "@jupyter-widgets/base",
      "_view_module_version": "1.2.0",
      "_view_name": "LayoutView",
      "align_content": null,
      "align_items": null,
      "align_self": null,
      "border": null,
      "bottom": null,
      "display": null,
      "flex": null,
      "flex_flow": null,
      "grid_area": null,
      "grid_auto_columns": null,
      "grid_auto_flow": null,
      "grid_auto_rows": null,
      "grid_column": null,
      "grid_gap": null,
      "grid_row": null,
      "grid_template_areas": null,
      "grid_template_columns": null,
      "grid_template_rows": null,
      "height": null,
      "justify_content": null,
      "justify_items": null,
      "left": null,
      "margin": null,
      "max_height": null,
      "max_width": null,
      "min_height": null,
      "min_width": null,
      "object_fit": null,
      "object_position": null,
      "order": null,
      "overflow": null,
      "overflow_x": null,
      "overflow_y": null,
      "padding": null,
      "right": null,
      "top": null,
      "visibility": null,
      "width": null
     }
    },
    "a9dc974bcdb24a0e909039588272a80b": {
     "model_module": "@jupyter-widgets/controls",
     "model_module_version": "1.5.0",
     "model_name": "HTMLModel",
     "state": {
      "_dom_classes": [],
      "_model_module": "@jupyter-widgets/controls",
      "_model_module_version": "1.5.0",
      "_model_name": "HTMLModel",
      "_view_count": null,
      "_view_module": "@jupyter-widgets/controls",
      "_view_module_version": "1.5.0",
      "_view_name": "HTMLView",
      "description": "",
      "description_tooltip": null,
      "layout": "IPY_MODEL_eddbeedab77142e6a7fdea3eb7004890",
      "placeholder": "​",
      "style": "IPY_MODEL_473d842ef13444d6804da7ebad208d9f",
      "value": "Map: 100%"
     }
    },
    "ab4ace70166947dbb0ef619a4965cbfb": {
     "model_module": "@jupyter-widgets/base",
     "model_module_version": "1.2.0",
     "model_name": "LayoutModel",
     "state": {
      "_model_module": "@jupyter-widgets/base",
      "_model_module_version": "1.2.0",
      "_model_name": "LayoutModel",
      "_view_count": null,
      "_view_module": "@jupyter-widgets/base",
      "_view_module_version": "1.2.0",
      "_view_name": "LayoutView",
      "align_content": null,
      "align_items": null,
      "align_self": null,
      "border": null,
      "bottom": null,
      "display": null,
      "flex": null,
      "flex_flow": null,
      "grid_area": null,
      "grid_auto_columns": null,
      "grid_auto_flow": null,
      "grid_auto_rows": null,
      "grid_column": null,
      "grid_gap": null,
      "grid_row": null,
      "grid_template_areas": null,
      "grid_template_columns": null,
      "grid_template_rows": null,
      "height": null,
      "justify_content": null,
      "justify_items": null,
      "left": null,
      "margin": null,
      "max_height": null,
      "max_width": null,
      "min_height": null,
      "min_width": null,
      "object_fit": null,
      "object_position": null,
      "order": null,
      "overflow": null,
      "overflow_x": null,
      "overflow_y": null,
      "padding": null,
      "right": null,
      "top": null,
      "visibility": null,
      "width": null
     }
    },
    "ac62cddf1fff404a9d270796e3a0ff66": {
     "model_module": "@jupyter-widgets/base",
     "model_module_version": "1.2.0",
     "model_name": "LayoutModel",
     "state": {
      "_model_module": "@jupyter-widgets/base",
      "_model_module_version": "1.2.0",
      "_model_name": "LayoutModel",
      "_view_count": null,
      "_view_module": "@jupyter-widgets/base",
      "_view_module_version": "1.2.0",
      "_view_name": "LayoutView",
      "align_content": null,
      "align_items": null,
      "align_self": null,
      "border": null,
      "bottom": null,
      "display": null,
      "flex": null,
      "flex_flow": null,
      "grid_area": null,
      "grid_auto_columns": null,
      "grid_auto_flow": null,
      "grid_auto_rows": null,
      "grid_column": null,
      "grid_gap": null,
      "grid_row": null,
      "grid_template_areas": null,
      "grid_template_columns": null,
      "grid_template_rows": null,
      "height": null,
      "justify_content": null,
      "justify_items": null,
      "left": null,
      "margin": null,
      "max_height": null,
      "max_width": null,
      "min_height": null,
      "min_width": null,
      "object_fit": null,
      "object_position": null,
      "order": null,
      "overflow": null,
      "overflow_x": null,
      "overflow_y": null,
      "padding": null,
      "right": null,
      "top": null,
      "visibility": null,
      "width": null
     }
    },
    "ad2a4a5e2fed4da9b17c86cac0bfdb6c": {
     "model_module": "@jupyter-widgets/controls",
     "model_module_version": "1.5.0",
     "model_name": "DescriptionStyleModel",
     "state": {
      "_model_module": "@jupyter-widgets/controls",
      "_model_module_version": "1.5.0",
      "_model_name": "DescriptionStyleModel",
      "_view_count": null,
      "_view_module": "@jupyter-widgets/base",
      "_view_module_version": "1.2.0",
      "_view_name": "StyleView",
      "description_width": ""
     }
    },
    "ae93e4bbf30c4f8ea14a203c215bf248": {
     "model_module": "@jupyter-widgets/controls",
     "model_module_version": "1.5.0",
     "model_name": "HTMLModel",
     "state": {
      "_dom_classes": [],
      "_model_module": "@jupyter-widgets/controls",
      "_model_module_version": "1.5.0",
      "_model_name": "HTMLModel",
      "_view_count": null,
      "_view_module": "@jupyter-widgets/controls",
      "_view_module_version": "1.5.0",
      "_view_name": "HTMLView",
      "description": "",
      "description_tooltip": null,
      "layout": "IPY_MODEL_c9e61ea88c1241f99d454617fea498b5",
      "placeholder": "​",
      "style": "IPY_MODEL_9010d21e706644119d3af70ad0428d50",
      "value": " 318/318 [00:01&lt;00:00, 257.05it/s]"
     }
    },
    "aeaf6f4f362d4935859934d961803b7e": {
     "model_module": "@jupyter-widgets/base",
     "model_module_version": "1.2.0",
     "model_name": "LayoutModel",
     "state": {
      "_model_module": "@jupyter-widgets/base",
      "_model_module_version": "1.2.0",
      "_model_name": "LayoutModel",
      "_view_count": null,
      "_view_module": "@jupyter-widgets/base",
      "_view_module_version": "1.2.0",
      "_view_name": "LayoutView",
      "align_content": null,
      "align_items": null,
      "align_self": null,
      "border": null,
      "bottom": null,
      "display": null,
      "flex": null,
      "flex_flow": null,
      "grid_area": null,
      "grid_auto_columns": null,
      "grid_auto_flow": null,
      "grid_auto_rows": null,
      "grid_column": null,
      "grid_gap": null,
      "grid_row": null,
      "grid_template_areas": null,
      "grid_template_columns": null,
      "grid_template_rows": null,
      "height": null,
      "justify_content": null,
      "justify_items": null,
      "left": null,
      "margin": null,
      "max_height": null,
      "max_width": null,
      "min_height": null,
      "min_width": null,
      "object_fit": null,
      "object_position": null,
      "order": null,
      "overflow": null,
      "overflow_x": null,
      "overflow_y": null,
      "padding": null,
      "right": null,
      "top": null,
      "visibility": null,
      "width": null
     }
    },
    "aec6b65624934afdbd92d14abc5134ac": {
     "model_module": "@jupyter-widgets/controls",
     "model_module_version": "1.5.0",
     "model_name": "HBoxModel",
     "state": {
      "_dom_classes": [],
      "_model_module": "@jupyter-widgets/controls",
      "_model_module_version": "1.5.0",
      "_model_name": "HBoxModel",
      "_view_count": null,
      "_view_module": "@jupyter-widgets/controls",
      "_view_module_version": "1.5.0",
      "_view_name": "HBoxView",
      "box_style": "",
      "children": [
       "IPY_MODEL_2d1708afebd54491944da2e35fc2b94b",
       "IPY_MODEL_1e84b5a8cdbd4230b4cacb6919281199",
       "IPY_MODEL_b7e2282bf8d845b1a577a25c456cf76d"
      ],
      "layout": "IPY_MODEL_c2ac8bb49021411597bf38075ea2f9b5"
     }
    },
    "af7f161fdb5249e3a525ae3d035c5c3e": {
     "model_module": "@jupyter-widgets/controls",
     "model_module_version": "1.5.0",
     "model_name": "HTMLModel",
     "state": {
      "_dom_classes": [],
      "_model_module": "@jupyter-widgets/controls",
      "_model_module_version": "1.5.0",
      "_model_name": "HTMLModel",
      "_view_count": null,
      "_view_module": "@jupyter-widgets/controls",
      "_view_module_version": "1.5.0",
      "_view_name": "HTMLView",
      "description": "",
      "description_tooltip": null,
      "layout": "IPY_MODEL_3c01ba189e6740f18f8a87ff62c1d7ac",
      "placeholder": "​",
      "style": "IPY_MODEL_b132b31da9dc4f409eecc4bc8265be4f",
      "value": "Downloading data files: 100%"
     }
    },
    "afabb32b681948489bd9c95f09109634": {
     "model_module": "@jupyter-widgets/controls",
     "model_module_version": "1.5.0",
     "model_name": "HTMLModel",
     "state": {
      "_dom_classes": [],
      "_model_module": "@jupyter-widgets/controls",
      "_model_module_version": "1.5.0",
      "_model_name": "HTMLModel",
      "_view_count": null,
      "_view_module": "@jupyter-widgets/controls",
      "_view_module_version": "1.5.0",
      "_view_name": "HTMLView",
      "description": "",
      "description_tooltip": null,
      "layout": "IPY_MODEL_55391987a08c4405b6891e9d5a28d7c9",
      "placeholder": "​",
      "style": "IPY_MODEL_415fbef1ca2e4575b7eb5dcc4a814936",
      "value": " 0/0 [00:00&lt;?, ? examples/s]"
     }
    },
    "b002b3bb352e4ce0a05fc038fac3d63a": {
     "model_module": "@jupyter-widgets/base",
     "model_module_version": "1.2.0",
     "model_name": "LayoutModel",
     "state": {
      "_model_module": "@jupyter-widgets/base",
      "_model_module_version": "1.2.0",
      "_model_name": "LayoutModel",
      "_view_count": null,
      "_view_module": "@jupyter-widgets/base",
      "_view_module_version": "1.2.0",
      "_view_name": "LayoutView",
      "align_content": null,
      "align_items": null,
      "align_self": null,
      "border": null,
      "bottom": null,
      "display": null,
      "flex": null,
      "flex_flow": null,
      "grid_area": null,
      "grid_auto_columns": null,
      "grid_auto_flow": null,
      "grid_auto_rows": null,
      "grid_column": null,
      "grid_gap": null,
      "grid_row": null,
      "grid_template_areas": null,
      "grid_template_columns": null,
      "grid_template_rows": null,
      "height": null,
      "justify_content": null,
      "justify_items": null,
      "left": null,
      "margin": null,
      "max_height": null,
      "max_width": null,
      "min_height": null,
      "min_width": null,
      "object_fit": null,
      "object_position": null,
      "order": null,
      "overflow": null,
      "overflow_x": null,
      "overflow_y": null,
      "padding": null,
      "right": null,
      "top": null,
      "visibility": null,
      "width": null
     }
    },
    "b07bb18984274e5a970e2948629d37ce": {
     "model_module": "@jupyter-widgets/base",
     "model_module_version": "1.2.0",
     "model_name": "LayoutModel",
     "state": {
      "_model_module": "@jupyter-widgets/base",
      "_model_module_version": "1.2.0",
      "_model_name": "LayoutModel",
      "_view_count": null,
      "_view_module": "@jupyter-widgets/base",
      "_view_module_version": "1.2.0",
      "_view_name": "LayoutView",
      "align_content": null,
      "align_items": null,
      "align_self": null,
      "border": null,
      "bottom": null,
      "display": null,
      "flex": null,
      "flex_flow": null,
      "grid_area": null,
      "grid_auto_columns": null,
      "grid_auto_flow": null,
      "grid_auto_rows": null,
      "grid_column": null,
      "grid_gap": null,
      "grid_row": null,
      "grid_template_areas": null,
      "grid_template_columns": null,
      "grid_template_rows": null,
      "height": null,
      "justify_content": null,
      "justify_items": null,
      "left": null,
      "margin": null,
      "max_height": null,
      "max_width": null,
      "min_height": null,
      "min_width": null,
      "object_fit": null,
      "object_position": null,
      "order": null,
      "overflow": null,
      "overflow_x": null,
      "overflow_y": null,
      "padding": null,
      "right": null,
      "top": null,
      "visibility": null,
      "width": null
     }
    },
    "b132b31da9dc4f409eecc4bc8265be4f": {
     "model_module": "@jupyter-widgets/controls",
     "model_module_version": "1.5.0",
     "model_name": "DescriptionStyleModel",
     "state": {
      "_model_module": "@jupyter-widgets/controls",
      "_model_module_version": "1.5.0",
      "_model_name": "DescriptionStyleModel",
      "_view_count": null,
      "_view_module": "@jupyter-widgets/base",
      "_view_module_version": "1.2.0",
      "_view_name": "StyleView",
      "description_width": ""
     }
    },
    "b34fbbec4e3041c9bbdadf0858652ca3": {
     "model_module": "@jupyter-widgets/controls",
     "model_module_version": "1.5.0",
     "model_name": "FloatProgressModel",
     "state": {
      "_dom_classes": [],
      "_model_module": "@jupyter-widgets/controls",
      "_model_module_version": "1.5.0",
      "_model_name": "FloatProgressModel",
      "_view_count": null,
      "_view_module": "@jupyter-widgets/controls",
      "_view_module_version": "1.5.0",
      "_view_name": "ProgressView",
      "bar_style": "info",
      "description": "",
      "description_tooltip": null,
      "layout": "IPY_MODEL_699732337b52412283256a9bc650d8ab",
      "max": 1,
      "min": 0,
      "orientation": "horizontal",
      "style": "IPY_MODEL_3b5099aa4a4b4af4a9ace4b650b96756",
      "value": 1
     }
    },
    "b35d06439010474d81ff0e51c8ccbd94": {
     "model_module": "@jupyter-widgets/base",
     "model_module_version": "1.2.0",
     "model_name": "LayoutModel",
     "state": {
      "_model_module": "@jupyter-widgets/base",
      "_model_module_version": "1.2.0",
      "_model_name": "LayoutModel",
      "_view_count": null,
      "_view_module": "@jupyter-widgets/base",
      "_view_module_version": "1.2.0",
      "_view_name": "LayoutView",
      "align_content": null,
      "align_items": null,
      "align_self": null,
      "border": null,
      "bottom": null,
      "display": null,
      "flex": null,
      "flex_flow": null,
      "grid_area": null,
      "grid_auto_columns": null,
      "grid_auto_flow": null,
      "grid_auto_rows": null,
      "grid_column": null,
      "grid_gap": null,
      "grid_row": null,
      "grid_template_areas": null,
      "grid_template_columns": null,
      "grid_template_rows": null,
      "height": null,
      "justify_content": null,
      "justify_items": null,
      "left": null,
      "margin": null,
      "max_height": null,
      "max_width": null,
      "min_height": null,
      "min_width": null,
      "object_fit": null,
      "object_position": null,
      "order": null,
      "overflow": null,
      "overflow_x": null,
      "overflow_y": null,
      "padding": null,
      "right": null,
      "top": null,
      "visibility": null,
      "width": null
     }
    },
    "b39fd6df685e49409d0ff1a7dc9d86c6": {
     "model_module": "@jupyter-widgets/base",
     "model_module_version": "1.2.0",
     "model_name": "LayoutModel",
     "state": {
      "_model_module": "@jupyter-widgets/base",
      "_model_module_version": "1.2.0",
      "_model_name": "LayoutModel",
      "_view_count": null,
      "_view_module": "@jupyter-widgets/base",
      "_view_module_version": "1.2.0",
      "_view_name": "LayoutView",
      "align_content": null,
      "align_items": null,
      "align_self": null,
      "border": null,
      "bottom": null,
      "display": null,
      "flex": null,
      "flex_flow": null,
      "grid_area": null,
      "grid_auto_columns": null,
      "grid_auto_flow": null,
      "grid_auto_rows": null,
      "grid_column": null,
      "grid_gap": null,
      "grid_row": null,
      "grid_template_areas": null,
      "grid_template_columns": null,
      "grid_template_rows": null,
      "height": null,
      "justify_content": null,
      "justify_items": null,
      "left": null,
      "margin": null,
      "max_height": null,
      "max_width": null,
      "min_height": null,
      "min_width": null,
      "object_fit": null,
      "object_position": null,
      "order": null,
      "overflow": null,
      "overflow_x": null,
      "overflow_y": null,
      "padding": null,
      "right": null,
      "top": null,
      "visibility": null,
      "width": null
     }
    },
    "b455c5a7389847e4bdcd2ad6e4eaec99": {
     "model_module": "@jupyter-widgets/base",
     "model_module_version": "1.2.0",
     "model_name": "LayoutModel",
     "state": {
      "_model_module": "@jupyter-widgets/base",
      "_model_module_version": "1.2.0",
      "_model_name": "LayoutModel",
      "_view_count": null,
      "_view_module": "@jupyter-widgets/base",
      "_view_module_version": "1.2.0",
      "_view_name": "LayoutView",
      "align_content": null,
      "align_items": null,
      "align_self": null,
      "border": null,
      "bottom": null,
      "display": null,
      "flex": null,
      "flex_flow": null,
      "grid_area": null,
      "grid_auto_columns": null,
      "grid_auto_flow": null,
      "grid_auto_rows": null,
      "grid_column": null,
      "grid_gap": null,
      "grid_row": null,
      "grid_template_areas": null,
      "grid_template_columns": null,
      "grid_template_rows": null,
      "height": null,
      "justify_content": null,
      "justify_items": null,
      "left": null,
      "margin": null,
      "max_height": null,
      "max_width": null,
      "min_height": null,
      "min_width": null,
      "object_fit": null,
      "object_position": null,
      "order": null,
      "overflow": null,
      "overflow_x": null,
      "overflow_y": null,
      "padding": null,
      "right": null,
      "top": null,
      "visibility": null,
      "width": null
     }
    },
    "b79386af056747058d85c97fbc642504": {
     "model_module": "@jupyter-widgets/controls",
     "model_module_version": "1.5.0",
     "model_name": "HTMLModel",
     "state": {
      "_dom_classes": [],
      "_model_module": "@jupyter-widgets/controls",
      "_model_module_version": "1.5.0",
      "_model_name": "HTMLModel",
      "_view_count": null,
      "_view_module": "@jupyter-widgets/controls",
      "_view_module_version": "1.5.0",
      "_view_name": "HTMLView",
      "description": "",
      "description_tooltip": null,
      "layout": "IPY_MODEL_9cedef8e63fe45168b66dcf3f15a2c7c",
      "placeholder": "​",
      "style": "IPY_MODEL_43fc77328b6b4c9e8e05f04b3ff7ea96",
      "value": " 4.20k/4.20k [00:00&lt;00:00, 288kB/s]"
     }
    },
    "b7ce13c98ea24fd08b3ffba2390dbc70": {
     "model_module": "@jupyter-widgets/controls",
     "model_module_version": "1.5.0",
     "model_name": "DescriptionStyleModel",
     "state": {
      "_model_module": "@jupyter-widgets/controls",
      "_model_module_version": "1.5.0",
      "_model_name": "DescriptionStyleModel",
      "_view_count": null,
      "_view_module": "@jupyter-widgets/base",
      "_view_module_version": "1.2.0",
      "_view_name": "StyleView",
      "description_width": ""
     }
    },
    "b7e2282bf8d845b1a577a25c456cf76d": {
     "model_module": "@jupyter-widgets/controls",
     "model_module_version": "1.5.0",
     "model_name": "HTMLModel",
     "state": {
      "_dom_classes": [],
      "_model_module": "@jupyter-widgets/controls",
      "_model_module_version": "1.5.0",
      "_model_name": "HTMLModel",
      "_view_count": null,
      "_view_module": "@jupyter-widgets/controls",
      "_view_module_version": "1.5.0",
      "_view_name": "HTMLView",
      "description": "",
      "description_tooltip": null,
      "layout": "IPY_MODEL_b35d06439010474d81ff0e51c8ccbd94",
      "placeholder": "​",
      "style": "IPY_MODEL_eba894afa1664e69b27c18e018bbd96b",
      "value": " 1/1 [00:00&lt;00:00, 18.07it/s]"
     }
    },
    "b8953fc9751f441ab3ee4bc571d6f1bd": {
     "model_module": "@jupyter-widgets/base",
     "model_module_version": "1.2.0",
     "model_name": "LayoutModel",
     "state": {
      "_model_module": "@jupyter-widgets/base",
      "_model_module_version": "1.2.0",
      "_model_name": "LayoutModel",
      "_view_count": null,
      "_view_module": "@jupyter-widgets/base",
      "_view_module_version": "1.2.0",
      "_view_name": "LayoutView",
      "align_content": null,
      "align_items": null,
      "align_self": null,
      "border": null,
      "bottom": null,
      "display": null,
      "flex": null,
      "flex_flow": null,
      "grid_area": null,
      "grid_auto_columns": null,
      "grid_auto_flow": null,
      "grid_auto_rows": null,
      "grid_column": null,
      "grid_gap": null,
      "grid_row": null,
      "grid_template_areas": null,
      "grid_template_columns": null,
      "grid_template_rows": null,
      "height": null,
      "justify_content": null,
      "justify_items": null,
      "left": null,
      "margin": null,
      "max_height": null,
      "max_width": null,
      "min_height": null,
      "min_width": null,
      "object_fit": null,
      "object_position": null,
      "order": null,
      "overflow": null,
      "overflow_x": null,
      "overflow_y": null,
      "padding": null,
      "right": null,
      "top": null,
      "visibility": null,
      "width": null
     }
    },
    "b8f09f252e294d8cbd1ceb550163021a": {
     "model_module": "@jupyter-widgets/base",
     "model_module_version": "1.2.0",
     "model_name": "LayoutModel",
     "state": {
      "_model_module": "@jupyter-widgets/base",
      "_model_module_version": "1.2.0",
      "_model_name": "LayoutModel",
      "_view_count": null,
      "_view_module": "@jupyter-widgets/base",
      "_view_module_version": "1.2.0",
      "_view_name": "LayoutView",
      "align_content": null,
      "align_items": null,
      "align_self": null,
      "border": null,
      "bottom": null,
      "display": null,
      "flex": null,
      "flex_flow": null,
      "grid_area": null,
      "grid_auto_columns": null,
      "grid_auto_flow": null,
      "grid_auto_rows": null,
      "grid_column": null,
      "grid_gap": null,
      "grid_row": null,
      "grid_template_areas": null,
      "grid_template_columns": null,
      "grid_template_rows": null,
      "height": null,
      "justify_content": null,
      "justify_items": null,
      "left": null,
      "margin": null,
      "max_height": null,
      "max_width": null,
      "min_height": null,
      "min_width": null,
      "object_fit": null,
      "object_position": null,
      "order": null,
      "overflow": null,
      "overflow_x": null,
      "overflow_y": null,
      "padding": null,
      "right": null,
      "top": null,
      "visibility": null,
      "width": null
     }
    },
    "bb4a714e683540fda9a4f681d64c27c6": {
     "model_module": "@jupyter-widgets/controls",
     "model_module_version": "1.5.0",
     "model_name": "HTMLModel",
     "state": {
      "_dom_classes": [],
      "_model_module": "@jupyter-widgets/controls",
      "_model_module_version": "1.5.0",
      "_model_name": "HTMLModel",
      "_view_count": null,
      "_view_module": "@jupyter-widgets/controls",
      "_view_module_version": "1.5.0",
      "_view_name": "HTMLView",
      "description": "",
      "description_tooltip": null,
      "layout": "IPY_MODEL_4e65788fdb824dea8e15bbf3ad74a4b1",
      "placeholder": "​",
      "style": "IPY_MODEL_c161c1ec6a5240d990a131604f9aff33",
      "value": "100%"
     }
    },
    "bb5562484cf548cd9426ac23af8802b3": {
     "model_module": "@jupyter-widgets/controls",
     "model_module_version": "1.5.0",
     "model_name": "ProgressStyleModel",
     "state": {
      "_model_module": "@jupyter-widgets/controls",
      "_model_module_version": "1.5.0",
      "_model_name": "ProgressStyleModel",
      "_view_count": null,
      "_view_module": "@jupyter-widgets/base",
      "_view_module_version": "1.2.0",
      "_view_name": "StyleView",
      "bar_color": null,
      "description_width": ""
     }
    },
    "bc6512cd863b44d0ba4f60a0310b1fc3": {
     "model_module": "@jupyter-widgets/base",
     "model_module_version": "1.2.0",
     "model_name": "LayoutModel",
     "state": {
      "_model_module": "@jupyter-widgets/base",
      "_model_module_version": "1.2.0",
      "_model_name": "LayoutModel",
      "_view_count": null,
      "_view_module": "@jupyter-widgets/base",
      "_view_module_version": "1.2.0",
      "_view_name": "LayoutView",
      "align_content": null,
      "align_items": null,
      "align_self": null,
      "border": null,
      "bottom": null,
      "display": null,
      "flex": null,
      "flex_flow": null,
      "grid_area": null,
      "grid_auto_columns": null,
      "grid_auto_flow": null,
      "grid_auto_rows": null,
      "grid_column": null,
      "grid_gap": null,
      "grid_row": null,
      "grid_template_areas": null,
      "grid_template_columns": null,
      "grid_template_rows": null,
      "height": null,
      "justify_content": null,
      "justify_items": null,
      "left": null,
      "margin": null,
      "max_height": null,
      "max_width": null,
      "min_height": null,
      "min_width": null,
      "object_fit": null,
      "object_position": null,
      "order": null,
      "overflow": null,
      "overflow_x": null,
      "overflow_y": null,
      "padding": null,
      "right": null,
      "top": null,
      "visibility": null,
      "width": null
     }
    },
    "bcfddfbb93234bacab434501cba9d169": {
     "model_module": "@jupyter-widgets/controls",
     "model_module_version": "1.5.0",
     "model_name": "ProgressStyleModel",
     "state": {
      "_model_module": "@jupyter-widgets/controls",
      "_model_module_version": "1.5.0",
      "_model_name": "ProgressStyleModel",
      "_view_count": null,
      "_view_module": "@jupyter-widgets/base",
      "_view_module_version": "1.2.0",
      "_view_name": "StyleView",
      "bar_color": null,
      "description_width": ""
     }
    },
    "bd9d51ff22994ede833f514fa886da8f": {
     "model_module": "@jupyter-widgets/controls",
     "model_module_version": "1.5.0",
     "model_name": "ProgressStyleModel",
     "state": {
      "_model_module": "@jupyter-widgets/controls",
      "_model_module_version": "1.5.0",
      "_model_name": "ProgressStyleModel",
      "_view_count": null,
      "_view_module": "@jupyter-widgets/base",
      "_view_module_version": "1.2.0",
      "_view_name": "StyleView",
      "bar_color": null,
      "description_width": ""
     }
    },
    "bf1e8647f7044a4b8ea1ed14f0c942e0": {
     "model_module": "@jupyter-widgets/controls",
     "model_module_version": "1.5.0",
     "model_name": "FloatProgressModel",
     "state": {
      "_dom_classes": [],
      "_model_module": "@jupyter-widgets/controls",
      "_model_module_version": "1.5.0",
      "_model_name": "FloatProgressModel",
      "_view_count": null,
      "_view_module": "@jupyter-widgets/controls",
      "_view_module_version": "1.5.0",
      "_view_name": "ProgressView",
      "bar_style": "success",
      "description": "",
      "description_tooltip": null,
      "layout": "IPY_MODEL_88608c5276c04b6b99e28be8d998bd3b",
      "max": 1,
      "min": 0,
      "orientation": "horizontal",
      "style": "IPY_MODEL_5f91aabb7b224db0bddaaf58e529c5e9",
      "value": 1
     }
    },
    "bfd5ca02403c48ef94f752ef7e005846": {
     "model_module": "@jupyter-widgets/controls",
     "model_module_version": "1.5.0",
     "model_name": "DescriptionStyleModel",
     "state": {
      "_model_module": "@jupyter-widgets/controls",
      "_model_module_version": "1.5.0",
      "_model_name": "DescriptionStyleModel",
      "_view_count": null,
      "_view_module": "@jupyter-widgets/base",
      "_view_module_version": "1.2.0",
      "_view_name": "StyleView",
      "description_width": ""
     }
    },
    "c03b99453ea246ea85ca57362045b08d": {
     "model_module": "@jupyter-widgets/controls",
     "model_module_version": "1.5.0",
     "model_name": "HTMLModel",
     "state": {
      "_dom_classes": [],
      "_model_module": "@jupyter-widgets/controls",
      "_model_module_version": "1.5.0",
      "_model_name": "HTMLModel",
      "_view_count": null,
      "_view_module": "@jupyter-widgets/controls",
      "_view_module_version": "1.5.0",
      "_view_name": "HTMLView",
      "description": "",
      "description_tooltip": null,
      "layout": "IPY_MODEL_38e08c51beb147acac2e0141ab8f0147",
      "placeholder": "​",
      "style": "IPY_MODEL_946e68f0c3a34414bb2299e0322989a2",
      "value": " 318/0 [00:00&lt;00:00, 1885.46 examples/s]"
     }
    },
    "c161c1ec6a5240d990a131604f9aff33": {
     "model_module": "@jupyter-widgets/controls",
     "model_module_version": "1.5.0",
     "model_name": "DescriptionStyleModel",
     "state": {
      "_model_module": "@jupyter-widgets/controls",
      "_model_module_version": "1.5.0",
      "_model_name": "DescriptionStyleModel",
      "_view_count": null,
      "_view_module": "@jupyter-widgets/base",
      "_view_module_version": "1.2.0",
      "_view_name": "StyleView",
      "description_width": ""
     }
    },
    "c2ac8bb49021411597bf38075ea2f9b5": {
     "model_module": "@jupyter-widgets/base",
     "model_module_version": "1.2.0",
     "model_name": "LayoutModel",
     "state": {
      "_model_module": "@jupyter-widgets/base",
      "_model_module_version": "1.2.0",
      "_model_name": "LayoutModel",
      "_view_count": null,
      "_view_module": "@jupyter-widgets/base",
      "_view_module_version": "1.2.0",
      "_view_name": "LayoutView",
      "align_content": null,
      "align_items": null,
      "align_self": null,
      "border": null,
      "bottom": null,
      "display": null,
      "flex": null,
      "flex_flow": null,
      "grid_area": null,
      "grid_auto_columns": null,
      "grid_auto_flow": null,
      "grid_auto_rows": null,
      "grid_column": null,
      "grid_gap": null,
      "grid_row": null,
      "grid_template_areas": null,
      "grid_template_columns": null,
      "grid_template_rows": null,
      "height": null,
      "justify_content": null,
      "justify_items": null,
      "left": null,
      "margin": null,
      "max_height": null,
      "max_width": null,
      "min_height": null,
      "min_width": null,
      "object_fit": null,
      "object_position": null,
      "order": null,
      "overflow": null,
      "overflow_x": null,
      "overflow_y": null,
      "padding": null,
      "right": null,
      "top": null,
      "visibility": null,
      "width": null
     }
    },
    "c3a862588932455a93eb394f429b00d4": {
     "model_module": "@jupyter-widgets/base",
     "model_module_version": "1.2.0",
     "model_name": "LayoutModel",
     "state": {
      "_model_module": "@jupyter-widgets/base",
      "_model_module_version": "1.2.0",
      "_model_name": "LayoutModel",
      "_view_count": null,
      "_view_module": "@jupyter-widgets/base",
      "_view_module_version": "1.2.0",
      "_view_name": "LayoutView",
      "align_content": null,
      "align_items": null,
      "align_self": null,
      "border": null,
      "bottom": null,
      "display": null,
      "flex": null,
      "flex_flow": null,
      "grid_area": null,
      "grid_auto_columns": null,
      "grid_auto_flow": null,
      "grid_auto_rows": null,
      "grid_column": null,
      "grid_gap": null,
      "grid_row": null,
      "grid_template_areas": null,
      "grid_template_columns": null,
      "grid_template_rows": null,
      "height": null,
      "justify_content": null,
      "justify_items": null,
      "left": null,
      "margin": null,
      "max_height": null,
      "max_width": null,
      "min_height": null,
      "min_width": null,
      "object_fit": null,
      "object_position": null,
      "order": null,
      "overflow": null,
      "overflow_x": null,
      "overflow_y": null,
      "padding": null,
      "right": null,
      "top": null,
      "visibility": null,
      "width": null
     }
    },
    "c456f53ac97b451d8fa1d74f4b223298": {
     "model_module": "@jupyter-widgets/base",
     "model_module_version": "1.2.0",
     "model_name": "LayoutModel",
     "state": {
      "_model_module": "@jupyter-widgets/base",
      "_model_module_version": "1.2.0",
      "_model_name": "LayoutModel",
      "_view_count": null,
      "_view_module": "@jupyter-widgets/base",
      "_view_module_version": "1.2.0",
      "_view_name": "LayoutView",
      "align_content": null,
      "align_items": null,
      "align_self": null,
      "border": null,
      "bottom": null,
      "display": null,
      "flex": null,
      "flex_flow": null,
      "grid_area": null,
      "grid_auto_columns": null,
      "grid_auto_flow": null,
      "grid_auto_rows": null,
      "grid_column": null,
      "grid_gap": null,
      "grid_row": null,
      "grid_template_areas": null,
      "grid_template_columns": null,
      "grid_template_rows": null,
      "height": null,
      "justify_content": null,
      "justify_items": null,
      "left": null,
      "margin": null,
      "max_height": null,
      "max_width": null,
      "min_height": null,
      "min_width": null,
      "object_fit": null,
      "object_position": null,
      "order": null,
      "overflow": null,
      "overflow_x": null,
      "overflow_y": null,
      "padding": null,
      "right": null,
      "top": null,
      "visibility": null,
      "width": null
     }
    },
    "c6fcc5def84b45c0be9a1ea7a60029ae": {
     "model_module": "@jupyter-widgets/controls",
     "model_module_version": "1.5.0",
     "model_name": "ProgressStyleModel",
     "state": {
      "_model_module": "@jupyter-widgets/controls",
      "_model_module_version": "1.5.0",
      "_model_name": "ProgressStyleModel",
      "_view_count": null,
      "_view_module": "@jupyter-widgets/base",
      "_view_module_version": "1.2.0",
      "_view_name": "StyleView",
      "bar_color": null,
      "description_width": ""
     }
    },
    "c7370cc35ec641249335fe11a661c6f5": {
     "model_module": "@jupyter-widgets/controls",
     "model_module_version": "1.5.0",
     "model_name": "HBoxModel",
     "state": {
      "_dom_classes": [],
      "_model_module": "@jupyter-widgets/controls",
      "_model_module_version": "1.5.0",
      "_model_name": "HBoxModel",
      "_view_count": null,
      "_view_module": "@jupyter-widgets/controls",
      "_view_module_version": "1.5.0",
      "_view_name": "HBoxView",
      "box_style": "",
      "children": [
       "IPY_MODEL_0643bc47f8984f7b82875ffbaf5ee991",
       "IPY_MODEL_a336609faffe4d1aa9d0eb9bc9cdc092",
       "IPY_MODEL_32426457036f4696b90a7177c8e52f78"
      ],
      "layout": "IPY_MODEL_e698f6dc2c214ee6b18ee743754da638"
     }
    },
    "c78b3679e9254d8989badbada54b4de3": {
     "model_module": "@jupyter-widgets/controls",
     "model_module_version": "1.5.0",
     "model_name": "ProgressStyleModel",
     "state": {
      "_model_module": "@jupyter-widgets/controls",
      "_model_module_version": "1.5.0",
      "_model_name": "ProgressStyleModel",
      "_view_count": null,
      "_view_module": "@jupyter-widgets/base",
      "_view_module_version": "1.2.0",
      "_view_name": "StyleView",
      "bar_color": null,
      "description_width": ""
     }
    },
    "c8c8712b2ef54c7591859a7b3c75d888": {
     "model_module": "@jupyter-widgets/base",
     "model_module_version": "1.2.0",
     "model_name": "LayoutModel",
     "state": {
      "_model_module": "@jupyter-widgets/base",
      "_model_module_version": "1.2.0",
      "_model_name": "LayoutModel",
      "_view_count": null,
      "_view_module": "@jupyter-widgets/base",
      "_view_module_version": "1.2.0",
      "_view_name": "LayoutView",
      "align_content": null,
      "align_items": null,
      "align_self": null,
      "border": null,
      "bottom": null,
      "display": null,
      "flex": null,
      "flex_flow": null,
      "grid_area": null,
      "grid_auto_columns": null,
      "grid_auto_flow": null,
      "grid_auto_rows": null,
      "grid_column": null,
      "grid_gap": null,
      "grid_row": null,
      "grid_template_areas": null,
      "grid_template_columns": null,
      "grid_template_rows": null,
      "height": null,
      "justify_content": null,
      "justify_items": null,
      "left": null,
      "margin": null,
      "max_height": null,
      "max_width": null,
      "min_height": null,
      "min_width": null,
      "object_fit": null,
      "object_position": null,
      "order": null,
      "overflow": null,
      "overflow_x": null,
      "overflow_y": null,
      "padding": null,
      "right": null,
      "top": null,
      "visibility": null,
      "width": null
     }
    },
    "c9d881ff56c44f0e866ff227e14c5d50": {
     "model_module": "@jupyter-widgets/controls",
     "model_module_version": "1.5.0",
     "model_name": "FloatProgressModel",
     "state": {
      "_dom_classes": [],
      "_model_module": "@jupyter-widgets/controls",
      "_model_module_version": "1.5.0",
      "_model_name": "FloatProgressModel",
      "_view_count": null,
      "_view_module": "@jupyter-widgets/controls",
      "_view_module_version": "1.5.0",
      "_view_name": "ProgressView",
      "bar_style": "success",
      "description": "",
      "description_tooltip": null,
      "layout": "IPY_MODEL_449c18dd4aee470fb1f2d32dc680fc8c",
      "max": 1,
      "min": 0,
      "orientation": "horizontal",
      "style": "IPY_MODEL_dff93f67d78542bbaf3ec76f599f2b5d",
      "value": 1
     }
    },
    "c9e61ea88c1241f99d454617fea498b5": {
     "model_module": "@jupyter-widgets/base",
     "model_module_version": "1.2.0",
     "model_name": "LayoutModel",
     "state": {
      "_model_module": "@jupyter-widgets/base",
      "_model_module_version": "1.2.0",
      "_model_name": "LayoutModel",
      "_view_count": null,
      "_view_module": "@jupyter-widgets/base",
      "_view_module_version": "1.2.0",
      "_view_name": "LayoutView",
      "align_content": null,
      "align_items": null,
      "align_self": null,
      "border": null,
      "bottom": null,
      "display": null,
      "flex": null,
      "flex_flow": null,
      "grid_area": null,
      "grid_auto_columns": null,
      "grid_auto_flow": null,
      "grid_auto_rows": null,
      "grid_column": null,
      "grid_gap": null,
      "grid_row": null,
      "grid_template_areas": null,
      "grid_template_columns": null,
      "grid_template_rows": null,
      "height": null,
      "justify_content": null,
      "justify_items": null,
      "left": null,
      "margin": null,
      "max_height": null,
      "max_width": null,
      "min_height": null,
      "min_width": null,
      "object_fit": null,
      "object_position": null,
      "order": null,
      "overflow": null,
      "overflow_x": null,
      "overflow_y": null,
      "padding": null,
      "right": null,
      "top": null,
      "visibility": null,
      "width": null
     }
    },
    "cb42294d452f4707a9ad00805b9bf984": {
     "model_module": "@jupyter-widgets/controls",
     "model_module_version": "1.5.0",
     "model_name": "HBoxModel",
     "state": {
      "_dom_classes": [],
      "_model_module": "@jupyter-widgets/controls",
      "_model_module_version": "1.5.0",
      "_model_name": "HBoxModel",
      "_view_count": null,
      "_view_module": "@jupyter-widgets/controls",
      "_view_module_version": "1.5.0",
      "_view_name": "HBoxView",
      "box_style": "",
      "children": [
       "IPY_MODEL_16d716cb48374cba91cc97da97d418d1",
       "IPY_MODEL_849e887a6fd3461b962568c14e24b407",
       "IPY_MODEL_b79386af056747058d85c97fbc642504"
      ],
      "layout": "IPY_MODEL_df2b4f346ae34f10933bea56c73a6220"
     }
    },
    "cb51fb7d1a204e4da2a96a6bba8b22a8": {
     "model_module": "@jupyter-widgets/controls",
     "model_module_version": "1.5.0",
     "model_name": "DescriptionStyleModel",
     "state": {
      "_model_module": "@jupyter-widgets/controls",
      "_model_module_version": "1.5.0",
      "_model_name": "DescriptionStyleModel",
      "_view_count": null,
      "_view_module": "@jupyter-widgets/base",
      "_view_module_version": "1.2.0",
      "_view_name": "StyleView",
      "description_width": ""
     }
    },
    "cb723cba9d2f4ebbb04503c9438cd787": {
     "model_module": "@jupyter-widgets/base",
     "model_module_version": "1.2.0",
     "model_name": "LayoutModel",
     "state": {
      "_model_module": "@jupyter-widgets/base",
      "_model_module_version": "1.2.0",
      "_model_name": "LayoutModel",
      "_view_count": null,
      "_view_module": "@jupyter-widgets/base",
      "_view_module_version": "1.2.0",
      "_view_name": "LayoutView",
      "align_content": null,
      "align_items": null,
      "align_self": null,
      "border": null,
      "bottom": null,
      "display": null,
      "flex": null,
      "flex_flow": null,
      "grid_area": null,
      "grid_auto_columns": null,
      "grid_auto_flow": null,
      "grid_auto_rows": null,
      "grid_column": null,
      "grid_gap": null,
      "grid_row": null,
      "grid_template_areas": null,
      "grid_template_columns": null,
      "grid_template_rows": null,
      "height": null,
      "justify_content": null,
      "justify_items": null,
      "left": null,
      "margin": null,
      "max_height": null,
      "max_width": null,
      "min_height": null,
      "min_width": null,
      "object_fit": null,
      "object_position": null,
      "order": null,
      "overflow": null,
      "overflow_x": null,
      "overflow_y": null,
      "padding": null,
      "right": null,
      "top": null,
      "visibility": null,
      "width": null
     }
    },
    "cbf2348e63b74bce980b4d36d7f11d03": {
     "model_module": "@jupyter-widgets/controls",
     "model_module_version": "1.5.0",
     "model_name": "HTMLModel",
     "state": {
      "_dom_classes": [],
      "_model_module": "@jupyter-widgets/controls",
      "_model_module_version": "1.5.0",
      "_model_name": "HTMLModel",
      "_view_count": null,
      "_view_module": "@jupyter-widgets/controls",
      "_view_module_version": "1.5.0",
      "_view_name": "HTMLView",
      "description": "",
      "description_tooltip": null,
      "layout": "IPY_MODEL_f8e00cff9614485f8c077ed101794a11",
      "placeholder": "​",
      "style": "IPY_MODEL_fa0bcd4803384904ba952562c129686d",
      "value": " 1/1 [00:00&lt;00:00, 15.32it/s]"
     }
    },
    "ccb9c76f00fa4028b21e3c6dfb477340": {
     "model_module": "@jupyter-widgets/controls",
     "model_module_version": "1.5.0",
     "model_name": "DescriptionStyleModel",
     "state": {
      "_model_module": "@jupyter-widgets/controls",
      "_model_module_version": "1.5.0",
      "_model_name": "DescriptionStyleModel",
      "_view_count": null,
      "_view_module": "@jupyter-widgets/base",
      "_view_module_version": "1.2.0",
      "_view_name": "StyleView",
      "description_width": ""
     }
    },
    "cd7a09b86142417c85b64bc2027d8e73": {
     "model_module": "@jupyter-widgets/base",
     "model_module_version": "1.2.0",
     "model_name": "LayoutModel",
     "state": {
      "_model_module": "@jupyter-widgets/base",
      "_model_module_version": "1.2.0",
      "_model_name": "LayoutModel",
      "_view_count": null,
      "_view_module": "@jupyter-widgets/base",
      "_view_module_version": "1.2.0",
      "_view_name": "LayoutView",
      "align_content": null,
      "align_items": null,
      "align_self": null,
      "border": null,
      "bottom": null,
      "display": null,
      "flex": null,
      "flex_flow": null,
      "grid_area": null,
      "grid_auto_columns": null,
      "grid_auto_flow": null,
      "grid_auto_rows": null,
      "grid_column": null,
      "grid_gap": null,
      "grid_row": null,
      "grid_template_areas": null,
      "grid_template_columns": null,
      "grid_template_rows": null,
      "height": null,
      "justify_content": null,
      "justify_items": null,
      "left": null,
      "margin": null,
      "max_height": null,
      "max_width": null,
      "min_height": null,
      "min_width": null,
      "object_fit": null,
      "object_position": null,
      "order": null,
      "overflow": null,
      "overflow_x": null,
      "overflow_y": null,
      "padding": null,
      "right": null,
      "top": null,
      "visibility": null,
      "width": null
     }
    },
    "ce9e1e77954f46ddbe263b6a67635781": {
     "model_module": "@jupyter-widgets/base",
     "model_module_version": "1.2.0",
     "model_name": "LayoutModel",
     "state": {
      "_model_module": "@jupyter-widgets/base",
      "_model_module_version": "1.2.0",
      "_model_name": "LayoutModel",
      "_view_count": null,
      "_view_module": "@jupyter-widgets/base",
      "_view_module_version": "1.2.0",
      "_view_name": "LayoutView",
      "align_content": null,
      "align_items": null,
      "align_self": null,
      "border": null,
      "bottom": null,
      "display": null,
      "flex": null,
      "flex_flow": null,
      "grid_area": null,
      "grid_auto_columns": null,
      "grid_auto_flow": null,
      "grid_auto_rows": null,
      "grid_column": null,
      "grid_gap": null,
      "grid_row": null,
      "grid_template_areas": null,
      "grid_template_columns": null,
      "grid_template_rows": null,
      "height": null,
      "justify_content": null,
      "justify_items": null,
      "left": null,
      "margin": null,
      "max_height": null,
      "max_width": null,
      "min_height": null,
      "min_width": null,
      "object_fit": null,
      "object_position": null,
      "order": null,
      "overflow": null,
      "overflow_x": null,
      "overflow_y": null,
      "padding": null,
      "right": null,
      "top": null,
      "visibility": null,
      "width": null
     }
    },
    "cf6559ce70dc4271bb26d62cb27a64ca": {
     "model_module": "@jupyter-widgets/controls",
     "model_module_version": "1.5.0",
     "model_name": "ProgressStyleModel",
     "state": {
      "_model_module": "@jupyter-widgets/controls",
      "_model_module_version": "1.5.0",
      "_model_name": "ProgressStyleModel",
      "_view_count": null,
      "_view_module": "@jupyter-widgets/base",
      "_view_module_version": "1.2.0",
      "_view_name": "StyleView",
      "bar_color": null,
      "description_width": ""
     }
    },
    "cfc09376d1c74c739e585482e00a36a0": {
     "model_module": "@jupyter-widgets/controls",
     "model_module_version": "1.5.0",
     "model_name": "HTMLModel",
     "state": {
      "_dom_classes": [],
      "_model_module": "@jupyter-widgets/controls",
      "_model_module_version": "1.5.0",
      "_model_name": "HTMLModel",
      "_view_count": null,
      "_view_module": "@jupyter-widgets/controls",
      "_view_module_version": "1.5.0",
      "_view_name": "HTMLView",
      "description": "",
      "description_tooltip": null,
      "layout": "IPY_MODEL_dcddf5a13b494cfcadcec85dd4dd6c9b",
      "placeholder": "​",
      "style": "IPY_MODEL_77248918990e4a6798534aee0d9b0483",
      "value": " 299/299 [00:01&lt;00:00, 120.97it/s]"
     }
    },
    "d0cb810aadbd446cad49dbbfd9651203": {
     "model_module": "@jupyter-widgets/controls",
     "model_module_version": "1.5.0",
     "model_name": "HTMLModel",
     "state": {
      "_dom_classes": [],
      "_model_module": "@jupyter-widgets/controls",
      "_model_module_version": "1.5.0",
      "_model_name": "HTMLModel",
      "_view_count": null,
      "_view_module": "@jupyter-widgets/controls",
      "_view_module_version": "1.5.0",
      "_view_name": "HTMLView",
      "description": "",
      "description_tooltip": null,
      "layout": "IPY_MODEL_cd7a09b86142417c85b64bc2027d8e73",
      "placeholder": "​",
      "style": "IPY_MODEL_ad2a4a5e2fed4da9b17c86cac0bfdb6c",
      "value": " 1/1 [00:00&lt;00:00, 31.59it/s]"
     }
    },
    "d0e6c12392c14270b07e9196a3b133c2": {
     "model_module": "@jupyter-widgets/controls",
     "model_module_version": "1.5.0",
     "model_name": "DescriptionStyleModel",
     "state": {
      "_model_module": "@jupyter-widgets/controls",
      "_model_module_version": "1.5.0",
      "_model_name": "DescriptionStyleModel",
      "_view_count": null,
      "_view_module": "@jupyter-widgets/base",
      "_view_module_version": "1.2.0",
      "_view_name": "StyleView",
      "description_width": ""
     }
    },
    "d189b9167994406abefdeaece8ae4895": {
     "model_module": "@jupyter-widgets/controls",
     "model_module_version": "1.5.0",
     "model_name": "DescriptionStyleModel",
     "state": {
      "_model_module": "@jupyter-widgets/controls",
      "_model_module_version": "1.5.0",
      "_model_name": "DescriptionStyleModel",
      "_view_count": null,
      "_view_module": "@jupyter-widgets/base",
      "_view_module_version": "1.2.0",
      "_view_name": "StyleView",
      "description_width": ""
     }
    },
    "d2ece1b01f3b4d7ba30577cc668304bf": {
     "model_module": "@jupyter-widgets/controls",
     "model_module_version": "1.5.0",
     "model_name": "HBoxModel",
     "state": {
      "_dom_classes": [],
      "_model_module": "@jupyter-widgets/controls",
      "_model_module_version": "1.5.0",
      "_model_name": "HBoxModel",
      "_view_count": null,
      "_view_module": "@jupyter-widgets/controls",
      "_view_module_version": "1.5.0",
      "_view_name": "HBoxView",
      "box_style": "",
      "children": [
       "IPY_MODEL_31628e70ea18482fab6b42ffcb62fb38",
       "IPY_MODEL_871e022bc96c442bbcda5ea0d2db84a2",
       "IPY_MODEL_77840ccdab5046318d6488601458d935"
      ],
      "layout": "IPY_MODEL_25de6ddce33c47f18e2fdec2e5e5c739"
     }
    },
    "d58b9aeee62a4ddcace24bd9912c587e": {
     "model_module": "@jupyter-widgets/base",
     "model_module_version": "1.2.0",
     "model_name": "LayoutModel",
     "state": {
      "_model_module": "@jupyter-widgets/base",
      "_model_module_version": "1.2.0",
      "_model_name": "LayoutModel",
      "_view_count": null,
      "_view_module": "@jupyter-widgets/base",
      "_view_module_version": "1.2.0",
      "_view_name": "LayoutView",
      "align_content": null,
      "align_items": null,
      "align_self": null,
      "border": null,
      "bottom": null,
      "display": null,
      "flex": null,
      "flex_flow": null,
      "grid_area": null,
      "grid_auto_columns": null,
      "grid_auto_flow": null,
      "grid_auto_rows": null,
      "grid_column": null,
      "grid_gap": null,
      "grid_row": null,
      "grid_template_areas": null,
      "grid_template_columns": null,
      "grid_template_rows": null,
      "height": null,
      "justify_content": null,
      "justify_items": null,
      "left": null,
      "margin": null,
      "max_height": null,
      "max_width": null,
      "min_height": null,
      "min_width": null,
      "object_fit": null,
      "object_position": null,
      "order": null,
      "overflow": null,
      "overflow_x": null,
      "overflow_y": null,
      "padding": null,
      "right": null,
      "top": null,
      "visibility": null,
      "width": null
     }
    },
    "d59c687020934e3d9bbbe03e303bbd4c": {
     "model_module": "@jupyter-widgets/controls",
     "model_module_version": "1.5.0",
     "model_name": "HBoxModel",
     "state": {
      "_dom_classes": [],
      "_model_module": "@jupyter-widgets/controls",
      "_model_module_version": "1.5.0",
      "_model_name": "HBoxModel",
      "_view_count": null,
      "_view_module": "@jupyter-widgets/controls",
      "_view_module_version": "1.5.0",
      "_view_name": "HBoxView",
      "box_style": "",
      "children": [
       "IPY_MODEL_f3a86aed957344fea38b12d9046dc8d9",
       "IPY_MODEL_9a74c20fa0574d1095ec15e0f6c06816",
       "IPY_MODEL_afabb32b681948489bd9c95f09109634"
      ],
      "layout": "IPY_MODEL_633bb29c7eee49798eaa780c8f405691"
     }
    },
    "d69bead43af44cc69b69c23d95141724": {
     "model_module": "@jupyter-widgets/controls",
     "model_module_version": "1.5.0",
     "model_name": "HTMLModel",
     "state": {
      "_dom_classes": [],
      "_model_module": "@jupyter-widgets/controls",
      "_model_module_version": "1.5.0",
      "_model_name": "HTMLModel",
      "_view_count": null,
      "_view_module": "@jupyter-widgets/controls",
      "_view_module_version": "1.5.0",
      "_view_name": "HTMLView",
      "description": "",
      "description_tooltip": null,
      "layout": "IPY_MODEL_791c5d8bd82c41b2962b7aade194c16f",
      "placeholder": "​",
      "style": "IPY_MODEL_320f6ec92ff74e3490e4a1348dcc5041",
      "value": " 1/1 [00:00&lt;00:00, 16.32it/s]"
     }
    },
    "d83f8d3bd87441498db05f43a4d590fa": {
     "model_module": "@jupyter-widgets/controls",
     "model_module_version": "1.5.0",
     "model_name": "HTMLModel",
     "state": {
      "_dom_classes": [],
      "_model_module": "@jupyter-widgets/controls",
      "_model_module_version": "1.5.0",
      "_model_name": "HTMLModel",
      "_view_count": null,
      "_view_module": "@jupyter-widgets/controls",
      "_view_module_version": "1.5.0",
      "_view_name": "HTMLView",
      "description": "",
      "description_tooltip": null,
      "layout": "IPY_MODEL_c3a862588932455a93eb394f429b00d4",
      "placeholder": "​",
      "style": "IPY_MODEL_a09c84e3715d4be4a966079e45d9eb4f",
      "value": "100%"
     }
    },
    "d8b70bf0aaa84f3cb90add8077c28e7e": {
     "model_module": "@jupyter-widgets/base",
     "model_module_version": "1.2.0",
     "model_name": "LayoutModel",
     "state": {
      "_model_module": "@jupyter-widgets/base",
      "_model_module_version": "1.2.0",
      "_model_name": "LayoutModel",
      "_view_count": null,
      "_view_module": "@jupyter-widgets/base",
      "_view_module_version": "1.2.0",
      "_view_name": "LayoutView",
      "align_content": null,
      "align_items": null,
      "align_self": null,
      "border": null,
      "bottom": null,
      "display": null,
      "flex": null,
      "flex_flow": null,
      "grid_area": null,
      "grid_auto_columns": null,
      "grid_auto_flow": null,
      "grid_auto_rows": null,
      "grid_column": null,
      "grid_gap": null,
      "grid_row": null,
      "grid_template_areas": null,
      "grid_template_columns": null,
      "grid_template_rows": null,
      "height": null,
      "justify_content": null,
      "justify_items": null,
      "left": null,
      "margin": null,
      "max_height": null,
      "max_width": null,
      "min_height": null,
      "min_width": null,
      "object_fit": null,
      "object_position": null,
      "order": null,
      "overflow": null,
      "overflow_x": null,
      "overflow_y": null,
      "padding": null,
      "right": null,
      "top": null,
      "visibility": null,
      "width": null
     }
    },
    "d9491ae79d984741a7571163a968915b": {
     "model_module": "@jupyter-widgets/base",
     "model_module_version": "1.2.0",
     "model_name": "LayoutModel",
     "state": {
      "_model_module": "@jupyter-widgets/base",
      "_model_module_version": "1.2.0",
      "_model_name": "LayoutModel",
      "_view_count": null,
      "_view_module": "@jupyter-widgets/base",
      "_view_module_version": "1.2.0",
      "_view_name": "LayoutView",
      "align_content": null,
      "align_items": null,
      "align_self": null,
      "border": null,
      "bottom": null,
      "display": null,
      "flex": null,
      "flex_flow": null,
      "grid_area": null,
      "grid_auto_columns": null,
      "grid_auto_flow": null,
      "grid_auto_rows": null,
      "grid_column": null,
      "grid_gap": null,
      "grid_row": null,
      "grid_template_areas": null,
      "grid_template_columns": null,
      "grid_template_rows": null,
      "height": null,
      "justify_content": null,
      "justify_items": null,
      "left": null,
      "margin": null,
      "max_height": null,
      "max_width": null,
      "min_height": null,
      "min_width": null,
      "object_fit": null,
      "object_position": null,
      "order": null,
      "overflow": null,
      "overflow_x": null,
      "overflow_y": null,
      "padding": null,
      "right": null,
      "top": null,
      "visibility": null,
      "width": null
     }
    },
    "dcddf5a13b494cfcadcec85dd4dd6c9b": {
     "model_module": "@jupyter-widgets/base",
     "model_module_version": "1.2.0",
     "model_name": "LayoutModel",
     "state": {
      "_model_module": "@jupyter-widgets/base",
      "_model_module_version": "1.2.0",
      "_model_name": "LayoutModel",
      "_view_count": null,
      "_view_module": "@jupyter-widgets/base",
      "_view_module_version": "1.2.0",
      "_view_name": "LayoutView",
      "align_content": null,
      "align_items": null,
      "align_self": null,
      "border": null,
      "bottom": null,
      "display": null,
      "flex": null,
      "flex_flow": null,
      "grid_area": null,
      "grid_auto_columns": null,
      "grid_auto_flow": null,
      "grid_auto_rows": null,
      "grid_column": null,
      "grid_gap": null,
      "grid_row": null,
      "grid_template_areas": null,
      "grid_template_columns": null,
      "grid_template_rows": null,
      "height": null,
      "justify_content": null,
      "justify_items": null,
      "left": null,
      "margin": null,
      "max_height": null,
      "max_width": null,
      "min_height": null,
      "min_width": null,
      "object_fit": null,
      "object_position": null,
      "order": null,
      "overflow": null,
      "overflow_x": null,
      "overflow_y": null,
      "padding": null,
      "right": null,
      "top": null,
      "visibility": null,
      "width": null
     }
    },
    "ddba34b0489f4b5eaeaa2279c5c4b51d": {
     "model_module": "@jupyter-widgets/controls",
     "model_module_version": "1.5.0",
     "model_name": "HBoxModel",
     "state": {
      "_dom_classes": [],
      "_model_module": "@jupyter-widgets/controls",
      "_model_module_version": "1.5.0",
      "_model_name": "HBoxModel",
      "_view_count": null,
      "_view_module": "@jupyter-widgets/controls",
      "_view_module_version": "1.5.0",
      "_view_name": "HBoxView",
      "box_style": "",
      "children": [
       "IPY_MODEL_76db130aa8884f10967fb5b570bc5f0c",
       "IPY_MODEL_22e6543f51d14f889a309ee7eae1fd3e",
       "IPY_MODEL_3b5330f4f897401f984368f621ca7817"
      ],
      "layout": "IPY_MODEL_75ae3d4697984a418b3b0e57e478d634"
     }
    },
    "ddc8add9c310437c90176e158624e347": {
     "model_module": "@jupyter-widgets/base",
     "model_module_version": "1.2.0",
     "model_name": "LayoutModel",
     "state": {
      "_model_module": "@jupyter-widgets/base",
      "_model_module_version": "1.2.0",
      "_model_name": "LayoutModel",
      "_view_count": null,
      "_view_module": "@jupyter-widgets/base",
      "_view_module_version": "1.2.0",
      "_view_name": "LayoutView",
      "align_content": null,
      "align_items": null,
      "align_self": null,
      "border": null,
      "bottom": null,
      "display": null,
      "flex": null,
      "flex_flow": null,
      "grid_area": null,
      "grid_auto_columns": null,
      "grid_auto_flow": null,
      "grid_auto_rows": null,
      "grid_column": null,
      "grid_gap": null,
      "grid_row": null,
      "grid_template_areas": null,
      "grid_template_columns": null,
      "grid_template_rows": null,
      "height": null,
      "justify_content": null,
      "justify_items": null,
      "left": null,
      "margin": null,
      "max_height": null,
      "max_width": null,
      "min_height": null,
      "min_width": null,
      "object_fit": null,
      "object_position": null,
      "order": null,
      "overflow": null,
      "overflow_x": null,
      "overflow_y": null,
      "padding": null,
      "right": null,
      "top": null,
      "visibility": null,
      "width": "20px"
     }
    },
    "de056f4ba38448e49322755a5d9ae1c0": {
     "model_module": "@jupyter-widgets/base",
     "model_module_version": "1.2.0",
     "model_name": "LayoutModel",
     "state": {
      "_model_module": "@jupyter-widgets/base",
      "_model_module_version": "1.2.0",
      "_model_name": "LayoutModel",
      "_view_count": null,
      "_view_module": "@jupyter-widgets/base",
      "_view_module_version": "1.2.0",
      "_view_name": "LayoutView",
      "align_content": null,
      "align_items": null,
      "align_self": null,
      "border": null,
      "bottom": null,
      "display": null,
      "flex": null,
      "flex_flow": null,
      "grid_area": null,
      "grid_auto_columns": null,
      "grid_auto_flow": null,
      "grid_auto_rows": null,
      "grid_column": null,
      "grid_gap": null,
      "grid_row": null,
      "grid_template_areas": null,
      "grid_template_columns": null,
      "grid_template_rows": null,
      "height": null,
      "justify_content": null,
      "justify_items": null,
      "left": null,
      "margin": null,
      "max_height": null,
      "max_width": null,
      "min_height": null,
      "min_width": null,
      "object_fit": null,
      "object_position": null,
      "order": null,
      "overflow": null,
      "overflow_x": null,
      "overflow_y": null,
      "padding": null,
      "right": null,
      "top": null,
      "visibility": null,
      "width": null
     }
    },
    "df2b4f346ae34f10933bea56c73a6220": {
     "model_module": "@jupyter-widgets/base",
     "model_module_version": "1.2.0",
     "model_name": "LayoutModel",
     "state": {
      "_model_module": "@jupyter-widgets/base",
      "_model_module_version": "1.2.0",
      "_model_name": "LayoutModel",
      "_view_count": null,
      "_view_module": "@jupyter-widgets/base",
      "_view_module_version": "1.2.0",
      "_view_name": "LayoutView",
      "align_content": null,
      "align_items": null,
      "align_self": null,
      "border": null,
      "bottom": null,
      "display": null,
      "flex": null,
      "flex_flow": null,
      "grid_area": null,
      "grid_auto_columns": null,
      "grid_auto_flow": null,
      "grid_auto_rows": null,
      "grid_column": null,
      "grid_gap": null,
      "grid_row": null,
      "grid_template_areas": null,
      "grid_template_columns": null,
      "grid_template_rows": null,
      "height": null,
      "justify_content": null,
      "justify_items": null,
      "left": null,
      "margin": null,
      "max_height": null,
      "max_width": null,
      "min_height": null,
      "min_width": null,
      "object_fit": null,
      "object_position": null,
      "order": null,
      "overflow": null,
      "overflow_x": null,
      "overflow_y": null,
      "padding": null,
      "right": null,
      "top": null,
      "visibility": null,
      "width": null
     }
    },
    "dff93f67d78542bbaf3ec76f599f2b5d": {
     "model_module": "@jupyter-widgets/controls",
     "model_module_version": "1.5.0",
     "model_name": "ProgressStyleModel",
     "state": {
      "_model_module": "@jupyter-widgets/controls",
      "_model_module_version": "1.5.0",
      "_model_name": "ProgressStyleModel",
      "_view_count": null,
      "_view_module": "@jupyter-widgets/base",
      "_view_module_version": "1.2.0",
      "_view_name": "StyleView",
      "bar_color": null,
      "description_width": ""
     }
    },
    "e06ce5064d8846d39a133c8a3d507476": {
     "model_module": "@jupyter-widgets/controls",
     "model_module_version": "1.5.0",
     "model_name": "DescriptionStyleModel",
     "state": {
      "_model_module": "@jupyter-widgets/controls",
      "_model_module_version": "1.5.0",
      "_model_name": "DescriptionStyleModel",
      "_view_count": null,
      "_view_module": "@jupyter-widgets/base",
      "_view_module_version": "1.2.0",
      "_view_name": "StyleView",
      "description_width": ""
     }
    },
    "e22ecf428f08400d89adcf17fed97866": {
     "model_module": "@jupyter-widgets/controls",
     "model_module_version": "1.5.0",
     "model_name": "DescriptionStyleModel",
     "state": {
      "_model_module": "@jupyter-widgets/controls",
      "_model_module_version": "1.5.0",
      "_model_name": "DescriptionStyleModel",
      "_view_count": null,
      "_view_module": "@jupyter-widgets/base",
      "_view_module_version": "1.2.0",
      "_view_name": "StyleView",
      "description_width": ""
     }
    },
    "e698f6dc2c214ee6b18ee743754da638": {
     "model_module": "@jupyter-widgets/base",
     "model_module_version": "1.2.0",
     "model_name": "LayoutModel",
     "state": {
      "_model_module": "@jupyter-widgets/base",
      "_model_module_version": "1.2.0",
      "_model_name": "LayoutModel",
      "_view_count": null,
      "_view_module": "@jupyter-widgets/base",
      "_view_module_version": "1.2.0",
      "_view_name": "LayoutView",
      "align_content": null,
      "align_items": null,
      "align_self": null,
      "border": null,
      "bottom": null,
      "display": null,
      "flex": null,
      "flex_flow": null,
      "grid_area": null,
      "grid_auto_columns": null,
      "grid_auto_flow": null,
      "grid_auto_rows": null,
      "grid_column": null,
      "grid_gap": null,
      "grid_row": null,
      "grid_template_areas": null,
      "grid_template_columns": null,
      "grid_template_rows": null,
      "height": null,
      "justify_content": null,
      "justify_items": null,
      "left": null,
      "margin": null,
      "max_height": null,
      "max_width": null,
      "min_height": null,
      "min_width": null,
      "object_fit": null,
      "object_position": null,
      "order": null,
      "overflow": null,
      "overflow_x": null,
      "overflow_y": null,
      "padding": null,
      "right": null,
      "top": null,
      "visibility": null,
      "width": null
     }
    },
    "e8c16967c27648f291fa8a4d7741bb78": {
     "model_module": "@jupyter-widgets/controls",
     "model_module_version": "1.5.0",
     "model_name": "HBoxModel",
     "state": {
      "_dom_classes": [],
      "_model_module": "@jupyter-widgets/controls",
      "_model_module_version": "1.5.0",
      "_model_name": "HBoxModel",
      "_view_count": null,
      "_view_module": "@jupyter-widgets/controls",
      "_view_module_version": "1.5.0",
      "_view_name": "HBoxView",
      "box_style": "",
      "children": [
       "IPY_MODEL_af7f161fdb5249e3a525ae3d035c5c3e",
       "IPY_MODEL_6c5f8a363a4344dd8c21c1c8f0cc8c25",
       "IPY_MODEL_d69bead43af44cc69b69c23d95141724"
      ],
      "layout": "IPY_MODEL_98e3787121b74420bf26ccdebaea6b44"
     }
    },
    "eba73ff46f8549629b306b1e565cbdb6": {
     "model_module": "@jupyter-widgets/controls",
     "model_module_version": "1.5.0",
     "model_name": "HBoxModel",
     "state": {
      "_dom_classes": [],
      "_model_module": "@jupyter-widgets/controls",
      "_model_module_version": "1.5.0",
      "_model_name": "HBoxModel",
      "_view_count": null,
      "_view_module": "@jupyter-widgets/controls",
      "_view_module_version": "1.5.0",
      "_view_name": "HBoxView",
      "box_style": "",
      "children": [
       "IPY_MODEL_88a8241c7a084614a2bab6876a1a2417",
       "IPY_MODEL_4d05ae6d52934687b513ef9b6bd38195",
       "IPY_MODEL_cbf2348e63b74bce980b4d36d7f11d03"
      ],
      "layout": "IPY_MODEL_ef910c37f20e487dad89293ce4d464f2"
     }
    },
    "eba894afa1664e69b27c18e018bbd96b": {
     "model_module": "@jupyter-widgets/controls",
     "model_module_version": "1.5.0",
     "model_name": "DescriptionStyleModel",
     "state": {
      "_model_module": "@jupyter-widgets/controls",
      "_model_module_version": "1.5.0",
      "_model_name": "DescriptionStyleModel",
      "_view_count": null,
      "_view_module": "@jupyter-widgets/base",
      "_view_module_version": "1.2.0",
      "_view_name": "StyleView",
      "description_width": ""
     }
    },
    "ece2dcbd8c7f4915b1ae1f901bb89f6b": {
     "model_module": "@jupyter-widgets/controls",
     "model_module_version": "1.5.0",
     "model_name": "DescriptionStyleModel",
     "state": {
      "_model_module": "@jupyter-widgets/controls",
      "_model_module_version": "1.5.0",
      "_model_name": "DescriptionStyleModel",
      "_view_count": null,
      "_view_module": "@jupyter-widgets/base",
      "_view_module_version": "1.2.0",
      "_view_name": "StyleView",
      "description_width": ""
     }
    },
    "eddbeedab77142e6a7fdea3eb7004890": {
     "model_module": "@jupyter-widgets/base",
     "model_module_version": "1.2.0",
     "model_name": "LayoutModel",
     "state": {
      "_model_module": "@jupyter-widgets/base",
      "_model_module_version": "1.2.0",
      "_model_name": "LayoutModel",
      "_view_count": null,
      "_view_module": "@jupyter-widgets/base",
      "_view_module_version": "1.2.0",
      "_view_name": "LayoutView",
      "align_content": null,
      "align_items": null,
      "align_self": null,
      "border": null,
      "bottom": null,
      "display": null,
      "flex": null,
      "flex_flow": null,
      "grid_area": null,
      "grid_auto_columns": null,
      "grid_auto_flow": null,
      "grid_auto_rows": null,
      "grid_column": null,
      "grid_gap": null,
      "grid_row": null,
      "grid_template_areas": null,
      "grid_template_columns": null,
      "grid_template_rows": null,
      "height": null,
      "justify_content": null,
      "justify_items": null,
      "left": null,
      "margin": null,
      "max_height": null,
      "max_width": null,
      "min_height": null,
      "min_width": null,
      "object_fit": null,
      "object_position": null,
      "order": null,
      "overflow": null,
      "overflow_x": null,
      "overflow_y": null,
      "padding": null,
      "right": null,
      "top": null,
      "visibility": null,
      "width": null
     }
    },
    "ede05119f3fc4c43950ee266507cfa19": {
     "model_module": "@jupyter-widgets/base",
     "model_module_version": "1.2.0",
     "model_name": "LayoutModel",
     "state": {
      "_model_module": "@jupyter-widgets/base",
      "_model_module_version": "1.2.0",
      "_model_name": "LayoutModel",
      "_view_count": null,
      "_view_module": "@jupyter-widgets/base",
      "_view_module_version": "1.2.0",
      "_view_name": "LayoutView",
      "align_content": null,
      "align_items": null,
      "align_self": null,
      "border": null,
      "bottom": null,
      "display": null,
      "flex": null,
      "flex_flow": null,
      "grid_area": null,
      "grid_auto_columns": null,
      "grid_auto_flow": null,
      "grid_auto_rows": null,
      "grid_column": null,
      "grid_gap": null,
      "grid_row": null,
      "grid_template_areas": null,
      "grid_template_columns": null,
      "grid_template_rows": null,
      "height": null,
      "justify_content": null,
      "justify_items": null,
      "left": null,
      "margin": null,
      "max_height": null,
      "max_width": null,
      "min_height": null,
      "min_width": null,
      "object_fit": null,
      "object_position": null,
      "order": null,
      "overflow": null,
      "overflow_x": null,
      "overflow_y": null,
      "padding": null,
      "right": null,
      "top": null,
      "visibility": null,
      "width": null
     }
    },
    "ef910c37f20e487dad89293ce4d464f2": {
     "model_module": "@jupyter-widgets/base",
     "model_module_version": "1.2.0",
     "model_name": "LayoutModel",
     "state": {
      "_model_module": "@jupyter-widgets/base",
      "_model_module_version": "1.2.0",
      "_model_name": "LayoutModel",
      "_view_count": null,
      "_view_module": "@jupyter-widgets/base",
      "_view_module_version": "1.2.0",
      "_view_name": "LayoutView",
      "align_content": null,
      "align_items": null,
      "align_self": null,
      "border": null,
      "bottom": null,
      "display": null,
      "flex": null,
      "flex_flow": null,
      "grid_area": null,
      "grid_auto_columns": null,
      "grid_auto_flow": null,
      "grid_auto_rows": null,
      "grid_column": null,
      "grid_gap": null,
      "grid_row": null,
      "grid_template_areas": null,
      "grid_template_columns": null,
      "grid_template_rows": null,
      "height": null,
      "justify_content": null,
      "justify_items": null,
      "left": null,
      "margin": null,
      "max_height": null,
      "max_width": null,
      "min_height": null,
      "min_width": null,
      "object_fit": null,
      "object_position": null,
      "order": null,
      "overflow": null,
      "overflow_x": null,
      "overflow_y": null,
      "padding": null,
      "right": null,
      "top": null,
      "visibility": null,
      "width": null
     }
    },
    "f0488bb1d6284c5da67dff8c1b67c6a7": {
     "model_module": "@jupyter-widgets/controls",
     "model_module_version": "1.5.0",
     "model_name": "ProgressStyleModel",
     "state": {
      "_model_module": "@jupyter-widgets/controls",
      "_model_module_version": "1.5.0",
      "_model_name": "ProgressStyleModel",
      "_view_count": null,
      "_view_module": "@jupyter-widgets/base",
      "_view_module_version": "1.2.0",
      "_view_name": "StyleView",
      "bar_color": null,
      "description_width": ""
     }
    },
    "f14a0bc166664e068f15f10ac1a96d0e": {
     "model_module": "@jupyter-widgets/controls",
     "model_module_version": "1.5.0",
     "model_name": "FloatProgressModel",
     "state": {
      "_dom_classes": [],
      "_model_module": "@jupyter-widgets/controls",
      "_model_module_version": "1.5.0",
      "_model_name": "FloatProgressModel",
      "_view_count": null,
      "_view_module": "@jupyter-widgets/controls",
      "_view_module_version": "1.5.0",
      "_view_name": "ProgressView",
      "bar_style": "success",
      "description": "",
      "description_tooltip": null,
      "layout": "IPY_MODEL_2b828f1d75ac40eeafde695563b575a9",
      "max": 299,
      "min": 0,
      "orientation": "horizontal",
      "style": "IPY_MODEL_c6fcc5def84b45c0be9a1ea7a60029ae",
      "value": 299
     }
    },
    "f21f8b6c99d043048f4a908132271041": {
     "model_module": "@jupyter-widgets/controls",
     "model_module_version": "1.5.0",
     "model_name": "HBoxModel",
     "state": {
      "_dom_classes": [],
      "_model_module": "@jupyter-widgets/controls",
      "_model_module_version": "1.5.0",
      "_model_name": "HBoxModel",
      "_view_count": null,
      "_view_module": "@jupyter-widgets/controls",
      "_view_module_version": "1.5.0",
      "_view_name": "HBoxView",
      "box_style": "",
      "children": [
       "IPY_MODEL_a0aed6a6bdf2473bb0bdb75b9c208dfb",
       "IPY_MODEL_c9d881ff56c44f0e866ff227e14c5d50",
       "IPY_MODEL_81837a262af84d0087ee79ade506f503"
      ],
      "layout": "IPY_MODEL_77b44968ee2a404fb4ef3211d339456e"
     }
    },
    "f29494793dc2415ba222bf4aebcffa75": {
     "model_module": "@jupyter-widgets/controls",
     "model_module_version": "1.5.0",
     "model_name": "ProgressStyleModel",
     "state": {
      "_model_module": "@jupyter-widgets/controls",
      "_model_module_version": "1.5.0",
      "_model_name": "ProgressStyleModel",
      "_view_count": null,
      "_view_module": "@jupyter-widgets/base",
      "_view_module_version": "1.2.0",
      "_view_name": "StyleView",
      "bar_color": null,
      "description_width": ""
     }
    },
    "f3a86aed957344fea38b12d9046dc8d9": {
     "model_module": "@jupyter-widgets/controls",
     "model_module_version": "1.5.0",
     "model_name": "HTMLModel",
     "state": {
      "_dom_classes": [],
      "_model_module": "@jupyter-widgets/controls",
      "_model_module_version": "1.5.0",
      "_model_name": "HTMLModel",
      "_view_count": null,
      "_view_module": "@jupyter-widgets/controls",
      "_view_module_version": "1.5.0",
      "_view_name": "HTMLView",
      "description": "",
      "description_tooltip": null,
      "layout": "IPY_MODEL_651bc0d6cac3453b90739f446c146ba7",
      "placeholder": "​",
      "style": "IPY_MODEL_e06ce5064d8846d39a133c8a3d507476",
      "value": "Generating train split: "
     }
    },
    "f3a9615ab22a4a6ea86bff17dd3bc763": {
     "model_module": "@jupyter-widgets/base",
     "model_module_version": "1.2.0",
     "model_name": "LayoutModel",
     "state": {
      "_model_module": "@jupyter-widgets/base",
      "_model_module_version": "1.2.0",
      "_model_name": "LayoutModel",
      "_view_count": null,
      "_view_module": "@jupyter-widgets/base",
      "_view_module_version": "1.2.0",
      "_view_name": "LayoutView",
      "align_content": null,
      "align_items": null,
      "align_self": null,
      "border": null,
      "bottom": null,
      "display": null,
      "flex": null,
      "flex_flow": null,
      "grid_area": null,
      "grid_auto_columns": null,
      "grid_auto_flow": null,
      "grid_auto_rows": null,
      "grid_column": null,
      "grid_gap": null,
      "grid_row": null,
      "grid_template_areas": null,
      "grid_template_columns": null,
      "grid_template_rows": null,
      "height": null,
      "justify_content": null,
      "justify_items": null,
      "left": null,
      "margin": null,
      "max_height": null,
      "max_width": null,
      "min_height": null,
      "min_width": null,
      "object_fit": null,
      "object_position": null,
      "order": null,
      "overflow": null,
      "overflow_x": null,
      "overflow_y": null,
      "padding": null,
      "right": null,
      "top": null,
      "visibility": null,
      "width": null
     }
    },
    "f437d4f823164133b3c6cef66a1fdd73": {
     "model_module": "@jupyter-widgets/controls",
     "model_module_version": "1.5.0",
     "model_name": "HBoxModel",
     "state": {
      "_dom_classes": [],
      "_model_module": "@jupyter-widgets/controls",
      "_model_module_version": "1.5.0",
      "_model_name": "HBoxModel",
      "_view_count": null,
      "_view_module": "@jupyter-widgets/controls",
      "_view_module_version": "1.5.0",
      "_view_name": "HBoxView",
      "box_style": "",
      "children": [
       "IPY_MODEL_d83f8d3bd87441498db05f43a4d590fa",
       "IPY_MODEL_7a7b41af8d6b4318a170e10cf1905fb1",
       "IPY_MODEL_2b5e4c58817549a7b20beeacdfdc515e"
      ],
      "layout": "IPY_MODEL_15c04a2b05da473ebcdb143e3400db5f"
     }
    },
    "f4634a486b60489eb3b7ce6cf3e005f4": {
     "model_module": "@jupyter-widgets/controls",
     "model_module_version": "1.5.0",
     "model_name": "DescriptionStyleModel",
     "state": {
      "_model_module": "@jupyter-widgets/controls",
      "_model_module_version": "1.5.0",
      "_model_name": "DescriptionStyleModel",
      "_view_count": null,
      "_view_module": "@jupyter-widgets/base",
      "_view_module_version": "1.2.0",
      "_view_name": "StyleView",
      "description_width": ""
     }
    },
    "f603c3864d0d4e8d8e85248623ef8c26": {
     "model_module": "@jupyter-widgets/controls",
     "model_module_version": "1.5.0",
     "model_name": "FloatProgressModel",
     "state": {
      "_dom_classes": [],
      "_model_module": "@jupyter-widgets/controls",
      "_model_module_version": "1.5.0",
      "_model_name": "FloatProgressModel",
      "_view_count": null,
      "_view_module": "@jupyter-widgets/controls",
      "_view_module_version": "1.5.0",
      "_view_name": "ProgressView",
      "bar_style": "info",
      "description": "",
      "description_tooltip": null,
      "layout": "IPY_MODEL_2acc610ccb154b73b7abaf4048ecbe7f",
      "max": 1,
      "min": 0,
      "orientation": "horizontal",
      "style": "IPY_MODEL_f0488bb1d6284c5da67dff8c1b67c6a7",
      "value": 1
     }
    },
    "f8e00cff9614485f8c077ed101794a11": {
     "model_module": "@jupyter-widgets/base",
     "model_module_version": "1.2.0",
     "model_name": "LayoutModel",
     "state": {
      "_model_module": "@jupyter-widgets/base",
      "_model_module_version": "1.2.0",
      "_model_name": "LayoutModel",
      "_view_count": null,
      "_view_module": "@jupyter-widgets/base",
      "_view_module_version": "1.2.0",
      "_view_name": "LayoutView",
      "align_content": null,
      "align_items": null,
      "align_self": null,
      "border": null,
      "bottom": null,
      "display": null,
      "flex": null,
      "flex_flow": null,
      "grid_area": null,
      "grid_auto_columns": null,
      "grid_auto_flow": null,
      "grid_auto_rows": null,
      "grid_column": null,
      "grid_gap": null,
      "grid_row": null,
      "grid_template_areas": null,
      "grid_template_columns": null,
      "grid_template_rows": null,
      "height": null,
      "justify_content": null,
      "justify_items": null,
      "left": null,
      "margin": null,
      "max_height": null,
      "max_width": null,
      "min_height": null,
      "min_width": null,
      "object_fit": null,
      "object_position": null,
      "order": null,
      "overflow": null,
      "overflow_x": null,
      "overflow_y": null,
      "padding": null,
      "right": null,
      "top": null,
      "visibility": null,
      "width": null
     }
    },
    "fa0bcd4803384904ba952562c129686d": {
     "model_module": "@jupyter-widgets/controls",
     "model_module_version": "1.5.0",
     "model_name": "DescriptionStyleModel",
     "state": {
      "_model_module": "@jupyter-widgets/controls",
      "_model_module_version": "1.5.0",
      "_model_name": "DescriptionStyleModel",
      "_view_count": null,
      "_view_module": "@jupyter-widgets/base",
      "_view_module_version": "1.2.0",
      "_view_name": "StyleView",
      "description_width": ""
     }
    },
    "fd3baa0e6718470c9d24af190ab96954": {
     "model_module": "@jupyter-widgets/controls",
     "model_module_version": "1.5.0",
     "model_name": "ProgressStyleModel",
     "state": {
      "_model_module": "@jupyter-widgets/controls",
      "_model_module_version": "1.5.0",
      "_model_name": "ProgressStyleModel",
      "_view_count": null,
      "_view_module": "@jupyter-widgets/base",
      "_view_module_version": "1.2.0",
      "_view_name": "StyleView",
      "bar_color": null,
      "description_width": ""
     }
    },
    "ff1b2b7239434591a38804c0ad25ffcf": {
     "model_module": "@jupyter-widgets/base",
     "model_module_version": "1.2.0",
     "model_name": "LayoutModel",
     "state": {
      "_model_module": "@jupyter-widgets/base",
      "_model_module_version": "1.2.0",
      "_model_name": "LayoutModel",
      "_view_count": null,
      "_view_module": "@jupyter-widgets/base",
      "_view_module_version": "1.2.0",
      "_view_name": "LayoutView",
      "align_content": null,
      "align_items": null,
      "align_self": null,
      "border": null,
      "bottom": null,
      "display": null,
      "flex": null,
      "flex_flow": null,
      "grid_area": null,
      "grid_auto_columns": null,
      "grid_auto_flow": null,
      "grid_auto_rows": null,
      "grid_column": null,
      "grid_gap": null,
      "grid_row": null,
      "grid_template_areas": null,
      "grid_template_columns": null,
      "grid_template_rows": null,
      "height": null,
      "justify_content": null,
      "justify_items": null,
      "left": null,
      "margin": null,
      "max_height": null,
      "max_width": null,
      "min_height": null,
      "min_width": null,
      "object_fit": null,
      "object_position": null,
      "order": null,
      "overflow": null,
      "overflow_x": null,
      "overflow_y": null,
      "padding": null,
      "right": null,
      "top": null,
      "visibility": null,
      "width": null
     }
    }
   }
  }
 },
 "nbformat": 4,
 "nbformat_minor": 5
}
